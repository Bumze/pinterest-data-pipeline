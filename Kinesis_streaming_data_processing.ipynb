{
 "cells": [
  {
   "cell_type": "markdown",
   "metadata": {
    "application/vnd.databricks.v1+cell": {
     "cellMetadata": {},
     "inputWidgets": {},
     "nuid": "e0ddb2b8-a453-4d38-bf5a-d3cb2e996546",
     "showTitle": false,
     "title": ""
    }
   },
   "source": [
    "## Set up Pyspark requirements"
   ]
  },
  {
   "cell_type": "code",
   "execution_count": 0,
   "metadata": {
    "application/vnd.databricks.v1+cell": {
     "cellMetadata": {
      "byteLimit": 2048000,
      "rowLimit": 10000
     },
     "inputWidgets": {},
     "nuid": "4f9e8305-0b54-4538-9755-a29dc72b74de",
     "showTitle": false,
     "title": ""
    }
   },
   "outputs": [
    {
     "output_type": "display_data",
     "data": {
      "text/html": [
       "<style scoped>\n",
       "  .ansiout {\n",
       "    display: block;\n",
       "    unicode-bidi: embed;\n",
       "    white-space: pre-wrap;\n",
       "    word-wrap: break-word;\n",
       "    word-break: break-all;\n",
       "    font-family: \"Menlo\", \"Monaco\", \"Consolas\", \"Ubuntu Mono\", \"Source Code Pro\", monospace;\n",
       "    font-size: 13px;\n",
       "    color: #555;\n",
       "    margin-left: 4px;\n",
       "    line-height: 19px;\n",
       "  }\n",
       "</style>\n",
       "<div class=\"ansiout\"></div>"
      ]
     },
     "metadata": {
      "application/vnd.databricks.v1+output": {
       "addedWidgets": {},
       "arguments": {},
       "data": "<div class=\"ansiout\"></div>",
       "datasetInfos": [],
       "metadata": {},
       "removedWidgets": [],
       "type": "html"
      }
     },
     "output_type": "display_data"
    }
   ],
   "source": [
    "# import pyspark functions\n",
    "from pyspark.sql.functions import *\n",
    "from pyspark.sql.types import StructType, StructField, IntegerType, StringType, TimestampType, FloatType\n",
    "# import URL processing\n",
    "import urllib"
   ]
  },
  {
   "cell_type": "markdown",
   "metadata": {
    "application/vnd.databricks.v1+cell": {
     "cellMetadata": {},
     "inputWidgets": {},
     "nuid": "46391c06-9b47-4f0a-b2be-709d3569b6ff",
     "showTitle": false,
     "title": ""
    }
   },
   "source": [
    "## Read the AWS Access Key and Secret Access Key to dataframe"
   ]
  },
  {
   "cell_type": "code",
   "execution_count": 0,
   "metadata": {
    "application/vnd.databricks.v1+cell": {
     "cellMetadata": {
      "byteLimit": 2048000,
      "rowLimit": 10000
     },
     "inputWidgets": {},
     "nuid": "ddb325ad-182e-4e2a-a86d-6b5d4b1aaf22",
     "showTitle": false,
     "title": ""
    }
   },
   "outputs": [
    {
     "output_type": "display_data",
     "data": {
      "text/html": [
       "<style scoped>\n",
       "  .ansiout {\n",
       "    display: block;\n",
       "    unicode-bidi: embed;\n",
       "    white-space: pre-wrap;\n",
       "    word-wrap: break-word;\n",
       "    word-break: break-all;\n",
       "    font-family: \"Menlo\", \"Monaco\", \"Consolas\", \"Ubuntu Mono\", \"Source Code Pro\", monospace;\n",
       "    font-size: 13px;\n",
       "    color: #555;\n",
       "    margin-left: 4px;\n",
       "    line-height: 19px;\n",
       "  }\n",
       "</style>\n",
       "<div class=\"ansiout\"></div>"
      ]
     },
     "metadata": {
      "application/vnd.databricks.v1+output": {
       "addedWidgets": {},
       "arguments": {},
       "data": "<div class=\"ansiout\"></div>",
       "datasetInfos": [],
       "metadata": {},
       "removedWidgets": [],
       "type": "html"
      }
     },
     "output_type": "display_data"
    }
   ],
   "source": [
    "# Specify file type to be csv\n",
    "file_type = \"csv\"\n",
    "# Indicates file has first row as the header\n",
    "first_row_is_header = \"true\"\n",
    "# Indicates file has comma as the delimeter\n",
    "delimiter = \",\"\n",
    "# Read the CSV file to spark dataframe\n",
    "aws_keys_df = spark.read.format(file_type)\\\n",
    ".option(\"header\", first_row_is_header)\\\n",
    ".option(\"sep\", delimiter)\\\n",
    ".load(\"/FileStore/tables/authentication_credentials.csv\")"
   ]
  },
  {
   "cell_type": "markdown",
   "metadata": {
    "application/vnd.databricks.v1+cell": {
     "cellMetadata": {},
     "inputWidgets": {},
     "nuid": "4e45a1d6-65a4-4d5b-b27b-b4e8665f90c9",
     "showTitle": false,
     "title": ""
    }
   },
   "source": [
    "Extract the AWS Access Key and Secret Access Key from the spark dataframe"
   ]
  },
  {
   "cell_type": "code",
   "execution_count": 0,
   "metadata": {
    "application/vnd.databricks.v1+cell": {
     "cellMetadata": {
      "byteLimit": 2048000,
      "rowLimit": 10000
     },
     "inputWidgets": {},
     "nuid": "57c3a7f3-2296-4ff1-b3b8-a7a91bb6ec50",
     "showTitle": false,
     "title": ""
    }
   },
   "outputs": [
    {
     "output_type": "display_data",
     "data": {
      "text/html": [
       "<style scoped>\n",
       "  .ansiout {\n",
       "    display: block;\n",
       "    unicode-bidi: embed;\n",
       "    white-space: pre-wrap;\n",
       "    word-wrap: break-word;\n",
       "    word-break: break-all;\n",
       "    font-family: \"Menlo\", \"Monaco\", \"Consolas\", \"Ubuntu Mono\", \"Source Code Pro\", monospace;\n",
       "    font-size: 13px;\n",
       "    color: #555;\n",
       "    margin-left: 4px;\n",
       "    line-height: 19px;\n",
       "  }\n",
       "</style>\n",
       "<div class=\"ansiout\"></div>"
      ]
     },
     "metadata": {
      "application/vnd.databricks.v1+output": {
       "addedWidgets": {},
       "arguments": {},
       "data": "<div class=\"ansiout\"></div>",
       "datasetInfos": [],
       "metadata": {},
       "removedWidgets": [],
       "type": "html"
      }
     },
     "output_type": "display_data"
    }
   ],
   "source": [
    " # Get the AWS access key and secret key from the spark dataframe\n",
    "ACCESS_KEY = aws_keys_df.where(col('User name')=='databricks-user').select('Access key ID').collect()[0]['Access key ID']\n",
    "SECRET_KEY = aws_keys_df.where(col('User name')=='databricks-user').select('Secret access key').collect()[0]['Secret access key']\n",
    "# Encode the secret key\n",
    "ENCODED_SECRET_KEY = urllib.parse.quote(string=SECRET_KEY, safe=\"\")"
   ]
  },
  {
   "cell_type": "markdown",
   "metadata": {
    "application/vnd.databricks.v1+cell": {
     "cellMetadata": {},
     "inputWidgets": {},
     "nuid": "4a777ccc-040e-4543-8a06-5637c6f669b5",
     "showTitle": false,
     "title": ""
    }
   },
   "source": [
    "## Create functions to:\n",
    "- Load streaming data from Kinesis \n",
    "- Deserialize the stream\n",
    "- Write the cleaned data to delta table"
   ]
  },
  {
   "cell_type": "code",
   "execution_count": 0,
   "metadata": {
    "application/vnd.databricks.v1+cell": {
     "cellMetadata": {
      "byteLimit": 2048000,
      "rowLimit": 10000
     },
     "inputWidgets": {},
     "nuid": "1d03ed39-7310-494d-8a72-e02aec00e9ad",
     "showTitle": false,
     "title": ""
    }
   },
   "outputs": [
    {
     "output_type": "display_data",
     "data": {
      "text/html": [
       "<style scoped>\n",
       "  .ansiout {\n",
       "    display: block;\n",
       "    unicode-bidi: embed;\n",
       "    white-space: pre-wrap;\n",
       "    word-wrap: break-word;\n",
       "    word-break: break-all;\n",
       "    font-family: \"Menlo\", \"Monaco\", \"Consolas\", \"Ubuntu Mono\", \"Source Code Pro\", monospace;\n",
       "    font-size: 13px;\n",
       "    color: #555;\n",
       "    margin-left: 4px;\n",
       "    line-height: 19px;\n",
       "  }\n",
       "</style>\n",
       "<div class=\"ansiout\"></div>"
      ]
     },
     "metadata": {
      "application/vnd.databricks.v1+output": {
       "addedWidgets": {},
       "arguments": {},
       "data": "<div class=\"ansiout\"></div>",
       "datasetInfos": [],
       "metadata": {},
       "removedWidgets": [],
       "type": "html"
      }
     },
     "output_type": "display_data"
    }
   ],
   "source": [
    "def load_stream_data(stream_name: str):\n",
    "    '''Uses spark.readStream to retrieve Kinesis stream and returns stream as dataframe'''\n",
    "    dataframe = spark \\\n",
    "    .readStream \\\n",
    "    .format('kinesis') \\\n",
    "    .option('streamName', stream_name) \\\n",
    "    .option('initialPosition','earliest') \\\n",
    "    .option('region','us-east-1') \\\n",
    "    .option('awsAccessKey', ACCESS_KEY) \\\n",
    "    .option('awsSecretKey', SECRET_KEY) \\\n",
    "    .load()\n",
    "    return dataframe\n",
    "\n",
    "def deserialize_stream(stream, schema):\n",
    "    '''Takes stream dataframe and schema, deserializes data from stream and returns data as dataframe'''\n",
    "    dataframe = stream \\\n",
    "    .selectExpr(\"CAST(data as STRING)\") \\\n",
    "    .withColumn(\"data\", from_json(col(\"data\"), schema)) \\\n",
    "    .select(col(\"data.*\"))\n",
    "    return dataframe\n",
    "\n",
    "def replace_with_nulls(dataframe, column, value_to_replace):\n",
    "    '''Converts matched values in column of dataframe to null based on expression'''\n",
    "    dataframe = dataframe.withColumn(column, when(col(column).like(value_to_replace), None).otherwise(col(column)))\n",
    "    return dataframe\n",
    "\n",
    "def replace_bad_values(df, column, error, replacement):\n",
    "    \"\"\" Replace bad values with substitute using regex_replace. Column names must be in quotes. \"\"\"\n",
    "    df = df.withColumn(column, regexp_replace(column, error, replacement))\n",
    "    return df\n",
    "\n",
    "def cast_datatype(df, column, new_datatype):\n",
    "    \"\"\" Change the datatype of a column to a more appropriate one. \"\"\"\n",
    "    df = df.withColumn(column, col(column).cast(new_datatype))\n",
    "    return df\n",
    "\n",
    "def write_stream_df_to_table(dataframe, name: str):\n",
    "    '''Takes dataframe and name string and writes dataframe to delta table using name in options and table name'''\n",
    "    dataframe.writeStream \\\n",
    "    .format(\"delta\") \\\n",
    "    .outputMode(\"append\") \\\n",
    "    .option(\"checkpointLocation\", f\"/tmp/kinesis/0e35b2767ae1_{name}_table_checkpoints/\") \\\n",
    "    .table(f\"0e35b2767ae1_{name}_table\")\n",
    "       "
   ]
  },
  {
   "cell_type": "markdown",
   "metadata": {
    "application/vnd.databricks.v1+cell": {
     "cellMetadata": {},
     "inputWidgets": {},
     "nuid": "4b20c8f9-2c5f-4f0d-a9b6-11a64550edfe",
     "showTitle": false,
     "title": ""
    }
   },
   "source": [
    "## Schema Configs"
   ]
  },
  {
   "cell_type": "code",
   "execution_count": 0,
   "metadata": {
    "application/vnd.databricks.v1+cell": {
     "cellMetadata": {
      "byteLimit": 2048000,
      "rowLimit": 10000
     },
     "inputWidgets": {},
     "nuid": "cdcccc8b-5fcf-4aca-af2d-c367b0043670",
     "showTitle": false,
     "title": ""
    }
   },
   "outputs": [
    {
     "output_type": "display_data",
     "data": {
      "text/html": [
       "<style scoped>\n",
       "  .ansiout {\n",
       "    display: block;\n",
       "    unicode-bidi: embed;\n",
       "    white-space: pre-wrap;\n",
       "    word-wrap: break-word;\n",
       "    word-break: break-all;\n",
       "    font-family: \"Menlo\", \"Monaco\", \"Consolas\", \"Ubuntu Mono\", \"Source Code Pro\", monospace;\n",
       "    font-size: 13px;\n",
       "    color: #555;\n",
       "    margin-left: 4px;\n",
       "    line-height: 19px;\n",
       "  }\n",
       "</style>\n",
       "<div class=\"ansiout\"></div>"
      ]
     },
     "metadata": {
      "application/vnd.databricks.v1+output": {
       "addedWidgets": {},
       "arguments": {},
       "data": "<div class=\"ansiout\"></div>",
       "datasetInfos": [],
       "metadata": {},
       "removedWidgets": [],
       "type": "html"
      }
     },
     "output_type": "display_data"
    }
   ],
   "source": [
    "# define schemas for each of the dataframes\n",
    "pin_schema = StructType([\n",
    "    StructField(\"index\", IntegerType()),\n",
    "    StructField(\"unique_id\", StringType()),\n",
    "    StructField(\"title\", StringType()),\n",
    "    StructField(\"description\", StringType()),\n",
    "    StructField(\"poster_name\", StringType()),\n",
    "    StructField(\"follower_count\", StringType()),\n",
    "    StructField(\"tag_list\", StringType()),\n",
    "    StructField(\"is_image_or_video\", StringType()),\n",
    "    StructField(\"image_src\", StringType()),\n",
    "    StructField(\"downloaded\", IntegerType()),\n",
    "    StructField(\"save_location\", StringType()),\n",
    "    StructField(\"category\", StringType())\n",
    "])\n",
    "geo_schema = StructType([\n",
    "    StructField(\"ind\", IntegerType()),\n",
    "    StructField(\"timestamp\", TimestampType()),\n",
    "    StructField(\"latitude\", FloatType()),\n",
    "    StructField(\"longitude\", FloatType()),\n",
    "    StructField(\"country\", StringType())\n",
    "])\n",
    "user_schema = StructType([\n",
    "    StructField(\"ind\", IntegerType()),\n",
    "    StructField(\"first_name\", StringType()),\n",
    "    StructField(\"last_name\", StringType()),\n",
    "    StructField(\"age\", StringType()),\n",
    "    StructField(\"date_joined\", TimestampType())\n",
    "])"
   ]
  },
  {
   "cell_type": "markdown",
   "metadata": {
    "application/vnd.databricks.v1+cell": {
     "cellMetadata": {},
     "inputWidgets": {},
     "nuid": "06326159-6664-49d1-a138-3044671feef9",
     "showTitle": false,
     "title": ""
    }
   },
   "source": [
    "- Load streaming data from Kinesis \n",
    "- Deserialize the stream\n",
    "- Write the cleaned data to delta table"
   ]
  },
  {
   "cell_type": "code",
   "execution_count": 0,
   "metadata": {
    "application/vnd.databricks.v1+cell": {
     "cellMetadata": {
      "byteLimit": 2048000,
      "rowLimit": 10000
     },
     "inputWidgets": {},
     "nuid": "521f843b-640c-4709-a492-cec23b120b02",
     "showTitle": false,
     "title": ""
    }
   },
   "outputs": [
    {
     "output_type": "display_data",
     "data": {
      "text/html": [
       "<style scoped>\n",
       "  .ansiout {\n",
       "    display: block;\n",
       "    unicode-bidi: embed;\n",
       "    white-space: pre-wrap;\n",
       "    word-wrap: break-word;\n",
       "    word-break: break-all;\n",
       "    font-family: \"Menlo\", \"Monaco\", \"Consolas\", \"Ubuntu Mono\", \"Source Code Pro\", monospace;\n",
       "    font-size: 13px;\n",
       "    color: #555;\n",
       "    margin-left: 4px;\n",
       "    line-height: 19px;\n",
       "  }\n",
       "</style>\n",
       "<div class=\"ansiout\"></div>"
      ]
     },
     "metadata": {
      "application/vnd.databricks.v1+output": {
       "addedWidgets": {},
       "arguments": {},
       "data": "<div class=\"ansiout\"></div>",
       "datasetInfos": [],
       "metadata": {},
       "removedWidgets": [],
       "type": "html"
      }
     },
     "output_type": "display_data"
    }
   ],
   "source": [
    "pin_stream = load_stream_data('streaming-0e35b2767ae1-pin')\n",
    "geo_stream = load_stream_data('streaming-0e35b2767ae1-geo')\n",
    "user_stream = load_stream_data('streaming-0e35b2767ae1-user')"
   ]
  },
  {
   "cell_type": "code",
   "execution_count": 0,
   "metadata": {
    "application/vnd.databricks.v1+cell": {
     "cellMetadata": {
      "byteLimit": 2048000,
      "rowLimit": 10000
     },
     "inputWidgets": {},
     "nuid": "117bd3e4-cd33-46c1-be28-5a2444a4a5b8",
     "showTitle": false,
     "title": ""
    }
   },
   "outputs": [
    {
     "output_type": "display_data",
     "data": {
      "text/html": [
       "<style scoped>\n",
       "  .ansiout {\n",
       "    display: block;\n",
       "    unicode-bidi: embed;\n",
       "    white-space: pre-wrap;\n",
       "    word-wrap: break-word;\n",
       "    word-break: break-all;\n",
       "    font-family: \"Menlo\", \"Monaco\", \"Consolas\", \"Ubuntu Mono\", \"Source Code Pro\", monospace;\n",
       "    font-size: 13px;\n",
       "    color: #555;\n",
       "    margin-left: 4px;\n",
       "    line-height: 19px;\n",
       "  }\n",
       "</style>\n",
       "<div class=\"ansiout\"></div>"
      ]
     },
     "metadata": {
      "application/vnd.databricks.v1+output": {
       "addedWidgets": {},
       "arguments": {},
       "data": "<div class=\"ansiout\"></div>",
       "datasetInfos": [],
       "metadata": {},
       "removedWidgets": [],
       "type": "html"
      }
     },
     "output_type": "display_data"
    }
   ],
   "source": [
    "df_pin = deserialize_stream(pin_stream, pin_schema)\n",
    "df_geo = deserialize_stream(geo_stream, geo_schema)\n",
    "df_user = deserialize_stream(user_stream, user_schema)"
   ]
  },
  {
   "cell_type": "code",
   "execution_count": 0,
   "metadata": {
    "application/vnd.databricks.v1+cell": {
     "cellMetadata": {
      "byteLimit": 2048000,
      "rowLimit": 10000
     },
     "inputWidgets": {},
     "nuid": "c6a1aeb0-9b83-4bac-83d1-17c0ea077011",
     "showTitle": false,
     "title": ""
    }
   },
   "outputs": [
    {
     "output_type": "display_data",
     "data": {
      "text/html": [
       "<style scoped>\n",
       "  .ansiout {\n",
       "    display: block;\n",
       "    unicode-bidi: embed;\n",
       "    white-space: pre-wrap;\n",
       "    word-wrap: break-word;\n",
       "    word-break: break-all;\n",
       "    font-family: \"Menlo\", \"Monaco\", \"Consolas\", \"Ubuntu Mono\", \"Source Code Pro\", monospace;\n",
       "    font-size: 13px;\n",
       "    color: #555;\n",
       "    margin-left: 4px;\n",
       "    line-height: 19px;\n",
       "  }\n",
       "</style>\n",
       "<div class=\"ansiout\"></div>"
      ]
     },
     "metadata": {
      "application/vnd.databricks.v1+output": {
       "addedWidgets": {},
       "arguments": {},
       "data": "<div class=\"ansiout\"></div>",
       "datasetInfos": [],
       "metadata": {},
       "removedWidgets": [],
       "type": "html"
      }
     },
     "output_type": "display_data"
    }
   ],
   "source": [
    "bad_values_dict = {\n",
    "    \"description\": \"Untitled\", \n",
    "    \"description\": \"No description available%\",\n",
    "    \"description\": \"No description available Story format\",\n",
    "    \"follower_count\": \"User Info Error\", \n",
    "    \"image_src\": \"Image src error.\", \n",
    "    \"poster_name\": \"User Info Error\",\n",
    "    \"tag_list\": \"N,o, ,T,a,g,s, ,A,v,a,i,l,a,b,l,e\", \"tag_list\": \"0\",\n",
    "    \"title\": \"No Title Data Available\"\n",
    "}\n",
    "\n",
    "# \n",
    "for key, value in bad_values_dict.items():\n",
    "    df_pin = replace_with_nulls(df_pin, key, value)\n",
    "    \n",
    "df_pin = replace_bad_values(df_pin, \"follower_count\", \"k\", \"000\")\n",
    "df_pin = replace_bad_values(df_pin, \"follower_count\", \"M\", \"000000\")\n",
    "df_pin = replace_bad_values(df_pin, \"save_location\", \"Local save in \", \"\")\n",
    "df_pin = cast_datatype(df_pin, \"follower_count\", \"int\")\n",
    "df_pin = df_pin.withColumnRenamed(\"index\", \"ind\")\n",
    "df_pin = df_pin.select(col(\"ind\"), col(\"unique_id\"), col(\"title\"), col(\"description\"), col(\"follower_count\"), col(\"poster_name\"), col(\"tag_list\"), col(\"is_image_or_video\"), col(\"image_src\"), col(\"save_location\"), col(\"category\"))\n",
    "# display(df_pin)"
   ]
  },
  {
   "cell_type": "code",
   "execution_count": 0,
   "metadata": {
    "application/vnd.databricks.v1+cell": {
     "cellMetadata": {
      "byteLimit": 2048000,
      "rowLimit": 10000
     },
     "inputWidgets": {},
     "nuid": "86cd8add-eb41-4901-bfdc-5ec326560751",
     "showTitle": false,
     "title": ""
    }
   },
   "outputs": [
    {
     "output_type": "display_data",
     "data": {
      "text/html": [
       "<style scoped>\n",
       "  .ansiout {\n",
       "    display: block;\n",
       "    unicode-bidi: embed;\n",
       "    white-space: pre-wrap;\n",
       "    word-wrap: break-word;\n",
       "    word-break: break-all;\n",
       "    font-family: \"Menlo\", \"Monaco\", \"Consolas\", \"Ubuntu Mono\", \"Source Code Pro\", monospace;\n",
       "    font-size: 13px;\n",
       "    color: #555;\n",
       "    margin-left: 4px;\n",
       "    line-height: 19px;\n",
       "  }\n",
       "</style>\n",
       "<div class=\"ansiout\"></div>"
      ]
     },
     "metadata": {
      "application/vnd.databricks.v1+output": {
       "addedWidgets": {},
       "arguments": {},
       "data": "<div class=\"ansiout\"></div>",
       "datasetInfos": [],
       "metadata": {},
       "removedWidgets": [],
       "type": "html"
      }
     },
     "output_type": "display_data"
    }
   ],
   "source": [
    "df_geo = df_geo.withColumn(\"coordinates\", array(col(\"latitude\"), col(\"longitude\")))\n",
    "df_geo = df_geo.drop(\"latitude\", \"longitude\")\n",
    "df_geo = cast_datatype(df_geo, \"timestamp\", \"timestamp\")\n",
    "df_geo = df_geo.select(\"ind\", \"country\", \"coordinates\", \"timestamp\")"
   ]
  },
  {
   "cell_type": "code",
   "execution_count": 0,
   "metadata": {
    "application/vnd.databricks.v1+cell": {
     "cellMetadata": {
      "byteLimit": 2048000,
      "rowLimit": 10000
     },
     "inputWidgets": {},
     "nuid": "34d3434d-92f9-4f55-a5a4-7238f66e4688",
     "showTitle": false,
     "title": ""
    }
   },
   "outputs": [
    {
     "output_type": "display_data",
     "data": {
      "text/html": [
       "<style scoped>\n",
       "  .ansiout {\n",
       "    display: block;\n",
       "    unicode-bidi: embed;\n",
       "    white-space: pre-wrap;\n",
       "    word-wrap: break-word;\n",
       "    word-break: break-all;\n",
       "    font-family: \"Menlo\", \"Monaco\", \"Consolas\", \"Ubuntu Mono\", \"Source Code Pro\", monospace;\n",
       "    font-size: 13px;\n",
       "    color: #555;\n",
       "    margin-left: 4px;\n",
       "    line-height: 19px;\n",
       "  }\n",
       "</style>\n",
       "<div class=\"ansiout\"></div>"
      ]
     },
     "metadata": {
      "application/vnd.databricks.v1+output": {
       "addedWidgets": {},
       "arguments": {},
       "data": "<div class=\"ansiout\"></div>",
       "datasetInfos": [],
       "metadata": {},
       "removedWidgets": [],
       "type": "html"
      }
     },
     "output_type": "display_data"
    }
   ],
   "source": [
    "df_user = df_user.withColumn(\"user_name\", concat_ws(\" \", col(\"first_name\"), col(\"last_name\")))\n",
    "df_user = df_user.drop(\"first_name\", \"last_name\")\n",
    "df_user = cast_datatype(df_user, \"date_joined\", \"timestamp\")\n",
    "df_user = df_user.select(\"ind\", \"user_name\", \"age\", \"date_joined\")"
   ]
  },
  {
   "cell_type": "code",
   "execution_count": 0,
   "metadata": {
    "application/vnd.databricks.v1+cell": {
     "cellMetadata": {
      "byteLimit": 2048000,
      "rowLimit": 10000
     },
     "inputWidgets": {},
     "nuid": "b794e9b9-6d1d-4f51-98ed-cff1123d1f28",
     "showTitle": false,
     "title": ""
    }
   },
   "outputs": [
    {
     "output_type": "display_data",
     "data": {
      "text/html": [
       "<style scoped>\n",
       "  .table-result-container {\n",
       "    max-height: 300px;\n",
       "    overflow: auto;\n",
       "  }\n",
       "  table, th, td {\n",
       "    border: 1px solid black;\n",
       "    border-collapse: collapse;\n",
       "  }\n",
       "  th, td {\n",
       "    padding: 5px;\n",
       "  }\n",
       "  th {\n",
       "    text-align: left;\n",
       "  }\n",
       "</style><div class='table-result-container'><table class='table-result'><thead style='background-color: white'><tr><th>ind</th><th>user_name</th><th>age</th><th>date_joined</th></tr></thead><tbody><tr><td>7528</td><td>Abigail Ali</td><td>20</td><td>2015-10-24T11:23:51.000+0000</td></tr><tr><td>2863</td><td>Dylan Holmes</td><td>32</td><td>2016-10-23T14:06:51.000+0000</td></tr><tr><td>5730</td><td>Rachel Davis</td><td>36</td><td>2015-12-08T20:02:43.000+0000</td></tr><tr><td>8304</td><td>Charles Berry</td><td>25</td><td>2015-12-28T04:21:39.000+0000</td></tr><tr><td>8731</td><td>Andrea Alexander</td><td>21</td><td>2015-11-10T09:27:42.000+0000</td></tr><tr><td>1313</td><td>Brittany Jones</td><td>32</td><td>2016-04-02T03:51:23.000+0000</td></tr><tr><td>4315</td><td>Michelle Prince</td><td>36</td><td>2015-12-20T16:38:13.000+0000</td></tr><tr><td>10794</td><td>Thomas Turner</td><td>34</td><td>2016-12-22T00:02:02.000+0000</td></tr><tr><td>5494</td><td>Anne Allen</td><td>27</td><td>2015-12-16T15:20:05.000+0000</td></tr><tr><td>5069</td><td>Amanda Ball</td><td>25</td><td>2016-01-13T17:36:30.000+0000</td></tr><tr><td>2923</td><td>Brian Nelson</td><td>26</td><td>2015-11-11T03:20:57.000+0000</td></tr><tr><td>3089</td><td>Abigail Ali</td><td>20</td><td>2015-10-24T11:23:51.000+0000</td></tr><tr><td>6063</td><td>Corey Andrews</td><td>23</td><td>2015-11-25T13:36:22.000+0000</td></tr><tr><td>3454</td><td>Robert Murphy</td><td>48</td><td>2017-09-26T16:31:56.000+0000</td></tr><tr><td>7554</td><td>Cheryl Huerta</td><td>20</td><td>2017-04-11T16:35:33.000+0000</td></tr><tr><td>6145</td><td>Emily Hawkins</td><td>30</td><td>2015-12-25T20:24:37.000+0000</td></tr><tr><td>10625</td><td>Christian Lang</td><td>32</td><td>2017-10-10T20:09:33.000+0000</td></tr><tr><td>2959</td><td>David Griffith</td><td>20</td><td>2016-01-07T19:49:22.000+0000</td></tr><tr><td>9875</td><td>Brendan Joseph</td><td>26</td><td>2015-12-20T10:28:00.000+0000</td></tr><tr><td>2418</td><td>Amanda Adams</td><td>20</td><td>2015-10-21T08:27:36.000+0000</td></tr><tr><td>3156</td><td>Andrew Baker</td><td>22</td><td>2015-12-21T08:06:54.000+0000</td></tr><tr><td>428</td><td>Claudia Adams</td><td>20</td><td>2015-11-28T02:20:29.000+0000</td></tr><tr><td>7343</td><td>Anne Clayton</td><td>24</td><td>2016-01-11T12:03:48.000+0000</td></tr><tr><td>2074</td><td>Annette Forbes</td><td>21</td><td>2016-01-03T15:42:12.000+0000</td></tr><tr><td>9979</td><td>Kaylee Miller</td><td>31</td><td>2016-11-09T19:50:51.000+0000</td></tr><tr><td>10138</td><td>Carol Silva</td><td>22</td><td>2015-12-31T14:57:02.000+0000</td></tr><tr><td>9672</td><td>Jennifer Hudson</td><td>22</td><td>2016-02-11T20:46:04.000+0000</td></tr><tr><td>8653</td><td>Tammy Davis</td><td>24</td><td>2016-03-09T10:48:14.000+0000</td></tr><tr><td>8887</td><td>Austin Rodriguez</td><td>24</td><td>2016-03-31T20:56:39.000+0000</td></tr><tr><td>7922</td><td>Denise Adams</td><td>21</td><td>2015-11-12T06:21:36.000+0000</td></tr><tr><td>1014</td><td>Gregory Ramsey</td><td>56</td><td>2016-10-15T17:21:39.000+0000</td></tr><tr><td>4913</td><td>Angela Brooks</td><td>24</td><td>2015-11-20T05:37:11.000+0000</td></tr><tr><td>4137</td><td>Michael Decker</td><td>59</td><td>2017-06-29T22:35:17.000+0000</td></tr><tr><td>7166</td><td>Alvin Adams</td><td>20</td><td>2016-01-01T13:50:40.000+0000</td></tr><tr><td>9546</td><td>Alex Barnes</td><td>20</td><td>2016-02-27T21:13:44.000+0000</td></tr><tr><td>2411</td><td>Aaron Bartlett</td><td>21</td><td>2015-11-24T02:15:36.000+0000</td></tr><tr><td>9590</td><td>Amanda Allen</td><td>22</td><td>2015-10-24T18:56:30.000+0000</td></tr><tr><td>2698</td><td>Kayla Burton</td><td>44</td><td>2017-06-21T19:53:27.000+0000</td></tr><tr><td>4508</td><td>Michael Carter</td><td>58</td><td>2016-06-03T23:35:30.000+0000</td></tr><tr><td>831</td><td>Aimee Collins</td><td>28</td><td>2016-06-16T02:06:38.000+0000</td></tr><tr><td>5076</td><td>Christopher Butler</td><td>20</td><td>2015-12-01T15:08:31.000+0000</td></tr><tr><td>10663</td><td>Julie Cox</td><td>23</td><td>2016-06-23T14:38:00.000+0000</td></tr><tr><td>5468</td><td>Lisa Gamble</td><td>20</td><td>2016-07-23T20:51:06.000+0000</td></tr><tr><td>205</td><td>Brett Bryant</td><td>20</td><td>2015-10-23T12:40:19.000+0000</td></tr><tr><td>7790</td><td>Michelle Gutierrez</td><td>39</td><td>2017-07-19T07:12:04.000+0000</td></tr><tr><td>8606</td><td>Denise Adams</td><td>21</td><td>2015-11-12T06:21:36.000+0000</td></tr><tr><td>9759</td><td>Daniel Brooks</td><td>25</td><td>2015-11-19T21:24:33.000+0000</td></tr><tr><td>719</td><td>Alicia Avila</td><td>20</td><td>2016-01-26T01:49:23.000+0000</td></tr><tr><td>1704</td><td>Barry Lynn</td><td>20</td><td>2015-10-28T05:00:33.000+0000</td></tr><tr><td>2482</td><td>David Moss</td><td>22</td><td>2016-03-01T07:11:48.000+0000</td></tr><tr><td>8930</td><td>Andrew Anderson</td><td>23</td><td>2015-11-28T11:52:37.000+0000</td></tr><tr><td>7294</td><td>Dawn Anderson</td><td>20</td><td>2016-12-31T00:06:36.000+0000</td></tr><tr><td>808</td><td>Aaron Bartlett</td><td>21</td><td>2015-11-24T02:15:36.000+0000</td></tr><tr><td>771</td><td>Brittany Butler</td><td>32</td><td>2016-03-10T04:11:31.000+0000</td></tr><tr><td>4076</td><td>Larry Pineda</td><td>20</td><td>2015-10-23T22:47:39.000+0000</td></tr><tr><td>1545</td><td>Jonathan Avila</td><td>46</td><td>2015-11-27T23:11:21.000+0000</td></tr><tr><td>2293</td><td>Alex Bean</td><td>24</td><td>2016-01-11T23:08:27.000+0000</td></tr><tr><td>10509</td><td>Brittany Thompson</td><td>49</td><td>2016-04-22T20:36:02.000+0000</td></tr><tr><td>2015</td><td>Christopher Bradshaw</td><td>27</td><td>2016-03-08T13:38:37.000+0000</td></tr><tr><td>1094</td><td>Ann Elliott</td><td>20</td><td>2016-07-02T02:32:30.000+0000</td></tr><tr><td>603</td><td>Brandon Jackson</td><td>44</td><td>2016-10-29T02:07:21.000+0000</td></tr><tr><td>7768</td><td>Christine Cortez</td><td>23</td><td>2015-12-01T18:15:02.000+0000</td></tr><tr><td>5630</td><td>Carlos Estrada</td><td>22</td><td>2016-02-09T17:01:38.000+0000</td></tr><tr><td>8578</td><td>Joe Pham</td><td>48</td><td>2017-06-01T23:13:27.000+0000</td></tr><tr><td>9936</td><td>Anthony Cantu</td><td>28</td><td>2016-11-15T10:40:03.000+0000</td></tr><tr><td>6844</td><td>Peter Roberts</td><td>30</td><td>2016-07-03T10:59:40.000+0000</td></tr><tr><td>3419</td><td>Aaron Jenkins</td><td>47</td><td>2017-04-26T03:26:23.000+0000</td></tr><tr><td>1268</td><td>Donna Campbell</td><td>32</td><td>2016-06-08T22:10:13.000+0000</td></tr><tr><td>6566</td><td>Alexander Perez</td><td>31</td><td>2017-08-04T14:30:22.000+0000</td></tr><tr><td>1555</td><td>Alexis Bennett</td><td>54</td><td>2016-05-15T04:22:01.000+0000</td></tr><tr><td>3729</td><td>Richard Edwards</td><td>52</td><td>2016-02-07T20:00:25.000+0000</td></tr><tr><td>6398</td><td>Christina Davenport</td><td>39</td><td>2016-06-29T20:43:59.000+0000</td></tr><tr><td>46</td><td>Erik Kelley</td><td>30</td><td>2016-01-06T09:58:56.000+0000</td></tr><tr><td>4988</td><td>Rhonda Durham</td><td>25</td><td>2017-07-20T05:51:23.000+0000</td></tr><tr><td>427</td><td>Jon Burke</td><td>25</td><td>2015-11-26T17:42:37.000+0000</td></tr><tr><td>3800</td><td>Adam Armstrong</td><td>20</td><td>2015-12-17T08:43:40.000+0000</td></tr><tr><td>159</td><td>Alison Bell</td><td>21</td><td>2016-01-07T08:11:35.000+0000</td></tr><tr><td>3599</td><td>Alexandria Alvarado</td><td>20</td><td>2015-10-23T04:13:23.000+0000</td></tr><tr><td>10552</td><td>Michael Hunter</td><td>40</td><td>2017-05-16T07:09:21.000+0000</td></tr><tr><td>1422</td><td>Aaron Abbott</td><td>20</td><td>2015-10-31T18:51:07.000+0000</td></tr><tr><td>5309</td><td>Daniel Roy</td><td>31</td><td>2016-03-07T01:01:24.000+0000</td></tr><tr><td>552</td><td>Regina Morales</td><td>20</td><td>2017-01-17T01:49:27.000+0000</td></tr><tr><td>1371</td><td>Amanda Brown</td><td>20</td><td>2015-11-12T03:23:49.000+0000</td></tr><tr><td>10119</td><td>Chelsea Gonzalez</td><td>43</td><td>2016-07-21T15:25:08.000+0000</td></tr><tr><td>9074</td><td>Aaron Alexander</td><td>21</td><td>2015-10-25T07:36:08.000+0000</td></tr><tr><td>2604</td><td>Ashley Evans</td><td>30</td><td>2016-02-21T12:54:01.000+0000</td></tr><tr><td>223</td><td>Melanie Hill</td><td>51</td><td>2016-10-09T14:47:51.000+0000</td></tr><tr><td>8312</td><td>Daniel Brooks</td><td>25</td><td>2015-11-19T21:24:33.000+0000</td></tr><tr><td>2858</td><td>Anne Bond</td><td>21</td><td>2015-12-27T23:43:42.000+0000</td></tr><tr><td>6261</td><td>Nicholas Hart</td><td>38</td><td>2015-10-26T09:45:45.000+0000</td></tr><tr><td>3201</td><td>Elizabeth Terry</td><td>28</td><td>2016-01-29T20:32:05.000+0000</td></tr><tr><td>2637</td><td>Shawn Jones</td><td>32</td><td>2016-08-23T20:36:12.000+0000</td></tr><tr><td>1198</td><td>Ariana Gross</td><td>59</td><td>2016-12-17T11:10:48.000+0000</td></tr><tr><td>10370</td><td>Derrick Kim</td><td>30</td><td>2016-12-21T13:39:14.000+0000</td></tr><tr><td>7167</td><td>Dawn Bradley</td><td>20</td><td>2016-08-26T16:09:52.000+0000</td></tr><tr><td>10673</td><td>Alexander Cervantes</td><td>59</td><td>2017-05-12T21:22:17.000+0000</td></tr><tr><td>2060</td><td>Joshua Long</td><td>27</td><td>2016-12-18T10:11:23.000+0000</td></tr><tr><td>9487</td><td>Jose Bailey</td><td>21</td><td>2016-01-10T09:41:14.000+0000</td></tr><tr><td>772</td><td>Glenn Hammond</td><td>25</td><td>2016-04-27T02:59:27.000+0000</td></tr><tr><td>7510</td><td>Debra Becker</td><td>20</td><td>2016-07-27T06:20:48.000+0000</td></tr><tr><td>5758</td><td>Amanda Arnold</td><td>20</td><td>2015-10-26T23:04:52.000+0000</td></tr><tr><td>1137</td><td>Virginia Vega</td><td>38</td><td>2017-05-03T03:08:33.000+0000</td></tr><tr><td>7234</td><td>Angela Allen</td><td>20</td><td>2015-10-26T04:12:32.000+0000</td></tr><tr><td>327</td><td>Jill Taylor</td><td>39</td><td>2015-12-04T03:15:28.000+0000</td></tr><tr><td>7874</td><td>Aaron Abbott</td><td>20</td><td>2015-10-23T16:08:41.000+0000</td></tr><tr><td>1450</td><td>Aaron Abbott</td><td>20</td><td>2015-10-31T18:51:07.000+0000</td></tr><tr><td>10245</td><td>Julie Cook</td><td>34</td><td>2016-05-08T16:27:01.000+0000</td></tr><tr><td>9093</td><td>Albert Adams</td><td>21</td><td>2015-11-05T22:07:56.000+0000</td></tr><tr><td>2301</td><td>Karina Morton</td><td>31</td><td>2016-01-21T12:53:34.000+0000</td></tr><tr><td>2788</td><td>Jesus Arellano</td><td>43</td><td>2016-03-22T15:45:21.000+0000</td></tr><tr><td>9268</td><td>Alexander Bailey</td><td>20</td><td>2015-10-30T11:37:32.000+0000</td></tr><tr><td>1706</td><td>Amy Adams</td><td>20</td><td>2015-10-24T05:05:28.000+0000</td></tr><tr><td>5293</td><td>David Taylor</td><td>36</td><td>2016-06-03T23:53:50.000+0000</td></tr><tr><td>7733</td><td>Aaron Abbott</td><td>20</td><td>2015-10-23T16:08:41.000+0000</td></tr><tr><td>3716</td><td>Catherine Ferrell</td><td>21</td><td>2017-01-02T03:01:09.000+0000</td></tr><tr><td>3750</td><td>Gary Barker</td><td>28</td><td>2015-11-26T11:23:50.000+0000</td></tr><tr><td>232</td><td>Sarah Buchanan</td><td>33</td><td>2017-04-19T08:49:40.000+0000</td></tr><tr><td>8300</td><td>Nathan Stanton</td><td>51</td><td>2017-08-14T08:26:30.000+0000</td></tr><tr><td>8978</td><td>Mark Jones</td><td>34</td><td>2017-08-22T00:01:29.000+0000</td></tr><tr><td>2048</td><td>Ann Chung</td><td>22</td><td>2015-11-18T23:11:15.000+0000</td></tr><tr><td>10337</td><td>Carrie Parker</td><td>46</td><td>2016-09-11T22:32:50.000+0000</td></tr><tr><td>7832</td><td>Samuel Hawkins</td><td>39</td><td>2016-06-30T02:56:06.000+0000</td></tr><tr><td>8366</td><td>Justin Ewing</td><td>56</td><td>2016-02-04T23:27:36.000+0000</td></tr><tr><td>3334</td><td>Amber Casey</td><td>23</td><td>2016-01-06T12:22:08.000+0000</td></tr><tr><td>778</td><td>Christine Adams</td><td>31</td><td>2016-02-06T10:22:53.000+0000</td></tr><tr><td>480</td><td>Timothy Sullivan</td><td>40</td><td>2017-01-12T08:37:12.000+0000</td></tr><tr><td>3011</td><td>Justin Singleton</td><td>20</td><td>2017-03-10T19:53:44.000+0000</td></tr><tr><td>9475</td><td>Jessica Mejia</td><td>40</td><td>2016-01-03T12:03:05.000+0000</td></tr><tr><td>7586</td><td>Aaron Alexander</td><td>21</td><td>2015-10-25T07:36:08.000+0000</td></tr><tr><td>1864</td><td>Alexander Adams</td><td>32</td><td>2015-10-28T15:48:24.000+0000</td></tr><tr><td>6014</td><td>Mary Luna</td><td>22</td><td>2016-01-02T01:40:52.000+0000</td></tr><tr><td>1967</td><td>Jay Flynn</td><td>24</td><td>2016-05-12T16:28:27.000+0000</td></tr><tr><td>1699</td><td>Brandon Cummings</td><td>22</td><td>2016-05-11T01:36:00.000+0000</td></tr><tr><td>4996</td><td>John Anderson</td><td>27</td><td>2016-03-03T07:28:39.000+0000</td></tr><tr><td>10168</td><td>Nicole Gray</td><td>53</td><td>2016-02-20T13:03:00.000+0000</td></tr><tr><td>5333</td><td>Aaron Clark</td><td>35</td><td>2016-11-19T22:36:49.000+0000</td></tr><tr><td>2565</td><td>Anthony Adkins</td><td>21</td><td>2015-10-28T03:59:42.000+0000</td></tr><tr><td>9778</td><td>Holly Campbell</td><td>30</td><td>2016-07-08T19:10:37.000+0000</td></tr><tr><td>3145</td><td>Crystal Schmidt</td><td>22</td><td>2017-04-14T13:57:52.000+0000</td></tr><tr><td>1341</td><td>Abigail Ali</td><td>20</td><td>2015-10-24T11:23:51.000+0000</td></tr><tr><td>5162</td><td>James Jacobson</td><td>28</td><td>2017-04-30T16:41:26.000+0000</td></tr><tr><td>5151</td><td>Mary Jordan</td><td>26</td><td>2017-06-12T16:02:59.000+0000</td></tr><tr><td>2498</td><td>Jeremy Chase</td><td>50</td><td>2017-07-31T16:56:52.000+0000</td></tr><tr><td>7268</td><td>Alejandra Acevedo</td><td>20</td><td>2015-11-24T21:01:23.000+0000</td></tr><tr><td>3351</td><td>Eric Taylor</td><td>39</td><td>2017-04-04T06:05:03.000+0000</td></tr><tr><td>7738</td><td>Alexis George</td><td>34</td><td>2016-02-26T00:38:01.000+0000</td></tr><tr><td>8886</td><td>Abigail Bates</td><td>20</td><td>2015-11-07T20:59:32.000+0000</td></tr><tr><td>5742</td><td>Barbara Edwards</td><td>24</td><td>2016-01-09T19:37:29.000+0000</td></tr><tr><td>1362</td><td>Nancy Case</td><td>23</td><td>2016-02-18T08:44:33.000+0000</td></tr><tr><td>995</td><td>Jason Horne</td><td>27</td><td>2016-02-06T15:31:57.000+0000</td></tr><tr><td>6250</td><td>Lydia Nelson</td><td>59</td><td>2016-09-06T06:21:57.000+0000</td></tr><tr><td>3184</td><td>Allison Dawson</td><td>35</td><td>2016-02-04T14:45:39.000+0000</td></tr><tr><td>2955</td><td>Kevin Young</td><td>58</td><td>2016-09-18T07:28:19.000+0000</td></tr><tr><td>4357</td><td>Allison Adams</td><td>22</td><td>2015-11-30T10:51:59.000+0000</td></tr><tr><td>3563</td><td>Gerald Davis</td><td>55</td><td>2017-08-11T14:24:41.000+0000</td></tr><tr><td>6558</td><td>Gary Tanner</td><td>43</td><td>2016-11-29T22:22:47.000+0000</td></tr><tr><td>4256</td><td>Alexandria Alvarado</td><td>20</td><td>2015-10-23T04:13:23.000+0000</td></tr><tr><td>450</td><td>Amanda Benitez</td><td>21</td><td>2015-11-01T09:16:18.000+0000</td></tr><tr><td>3945</td><td>Beth Johnson</td><td>30</td><td>2015-11-29T15:45:13.000+0000</td></tr><tr><td>859</td><td>Scott Page</td><td>44</td><td>2015-10-31T14:35:30.000+0000</td></tr><tr><td>1521</td><td>Mindy Garrison</td><td>29</td><td>2016-02-18T23:18:39.000+0000</td></tr><tr><td>1961</td><td>Adrienne Barrett</td><td>22</td><td>2015-11-04T15:48:14.000+0000</td></tr><tr><td>10099</td><td>Amanda Carlson</td><td>21</td><td>2015-11-23T09:01:37.000+0000</td></tr><tr><td>6066</td><td>Angela Flores</td><td>28</td><td>2015-10-29T08:51:34.000+0000</td></tr><tr><td>10837</td><td>Mark Richardson</td><td>55</td><td>2015-11-18T05:46:35.000+0000</td></tr><tr><td>6615</td><td>Barry West</td><td>44</td><td>2016-08-13T21:13:14.000+0000</td></tr><tr><td>7641</td><td>Aaron Anderson</td><td>21</td><td>2015-10-24T05:35:27.000+0000</td></tr><tr><td>640</td><td>Aaron Anderson</td><td>21</td><td>2015-10-24T05:35:27.000+0000</td></tr><tr><td>8174</td><td>Andrew Brown</td><td>25</td><td>2016-03-26T04:30:23.000+0000</td></tr><tr><td>1216</td><td>Juan Cortez</td><td>20</td><td>2016-04-07T13:02:08.000+0000</td></tr><tr><td>680</td><td>Diana Ballard</td><td>23</td><td>2017-01-12T11:17:31.000+0000</td></tr><tr><td>9527</td><td>Vernon Brown</td><td>55</td><td>2017-08-04T01:04:25.000+0000</td></tr><tr><td>9426</td><td>Nicholas Mcdaniel</td><td>45</td><td>2017-05-24T01:41:26.000+0000</td></tr><tr><td>8745</td><td>Grant Villanueva</td><td>53</td><td>2016-02-14T19:17:10.000+0000</td></tr><tr><td>5959</td><td>Jason Brooks</td><td>28</td><td>2015-12-21T00:33:51.000+0000</td></tr><tr><td>2577</td><td>Amy Adams</td><td>20</td><td>2015-10-24T05:05:28.000+0000</td></tr><tr><td>3008</td><td>Scott Houston</td><td>58</td><td>2016-10-22T16:08:50.000+0000</td></tr><tr><td>8081</td><td>Carmen Taylor</td><td>40</td><td>2016-08-02T19:06:12.000+0000</td></tr><tr><td>10120</td><td>Jacob Baird</td><td>24</td><td>2016-02-25T08:52:45.000+0000</td></tr><tr><td>4045</td><td>Amanda Allen</td><td>21</td><td>2015-11-16T23:15:00.000+0000</td></tr><tr><td>1599</td><td>Linda Rojas</td><td>42</td><td>2017-01-31T05:08:14.000+0000</td></tr><tr><td>2893</td><td>Nancy Choi</td><td>50</td><td>2016-07-27T16:22:59.000+0000</td></tr><tr><td>4024</td><td>Adam Armstrong</td><td>20</td><td>2015-12-17T08:43:40.000+0000</td></tr><tr><td>310</td><td>Amanda Benitez</td><td>21</td><td>2015-11-01T09:16:18.000+0000</td></tr><tr><td>7905</td><td>Anthony Duncan</td><td>47</td><td>2016-01-01T03:57:19.000+0000</td></tr><tr><td>5488</td><td>Heather Edwards</td><td>33</td><td>2016-01-16T18:25:10.000+0000</td></tr><tr><td>744</td><td>Brian Lloyd</td><td>38</td><td>2016-12-15T07:06:03.000+0000</td></tr><tr><td>7801</td><td>Nancy Clay</td><td>36</td><td>2016-01-12T18:33:12.000+0000</td></tr><tr><td>5620</td><td>Daniel Anderson</td><td>20</td><td>2017-02-10T13:39:15.000+0000</td></tr><tr><td>8341</td><td>Amber Robinson</td><td>31</td><td>2016-09-05T14:41:44.000+0000</td></tr><tr><td>10022</td><td>Alyssa Greene</td><td>50</td><td>2017-05-03T07:29:04.000+0000</td></tr><tr><td>6134</td><td>Jacob Baker</td><td>33</td><td>2015-11-29T07:33:20.000+0000</td></tr><tr><td>3824</td><td>Aaron Berry</td><td>28</td><td>2016-04-12T03:40:13.000+0000</td></tr><tr><td>7116</td><td>Michael Mcconnell</td><td>59</td><td>2017-06-01T10:55:10.000+0000</td></tr><tr><td>74</td><td>Amanda Benitez</td><td>21</td><td>2015-11-01T09:16:18.000+0000</td></tr><tr><td>1335</td><td>Benjamin Campbell</td><td>20</td><td>2015-11-16T13:25:08.000+0000</td></tr><tr><td>4513</td><td>Charlotte Pitts</td><td>60</td><td>2017-07-18T11:50:18.000+0000</td></tr><tr><td>7850</td><td>Joseph Kelly</td><td>44</td><td>2017-09-28T16:41:00.000+0000</td></tr><tr><td>10248</td><td>Elizabeth English</td><td>25</td><td>2016-08-19T02:29:26.000+0000</td></tr><tr><td>8123</td><td>Courtney Chung</td><td>46</td><td>2016-05-11T23:09:30.000+0000</td></tr><tr><td>2987</td><td>Charles Robinson</td><td>41</td><td>2015-12-22T01:36:15.000+0000</td></tr><tr><td>1487</td><td>Jonathan Rodriguez</td><td>30</td><td>2016-09-05T12:31:44.000+0000</td></tr><tr><td>10052</td><td>Jamie Bryant</td><td>20</td><td>2017-06-17T20:00:37.000+0000</td></tr><tr><td>8677</td><td>Amy Brown</td><td>21</td><td>2015-11-08T16:14:16.000+0000</td></tr><tr><td>5551</td><td>Christina Haas</td><td>25</td><td>2016-02-14T18:52:16.000+0000</td></tr><tr><td>6652</td><td>Heather Arellano</td><td>23</td><td>2016-01-02T03:36:30.000+0000</td></tr><tr><td>6479</td><td>Debra Morse</td><td>48</td><td>2016-09-12T23:54:34.000+0000</td></tr><tr><td>6660</td><td>Maria Davidson</td><td>28</td><td>2016-04-22T05:55:48.000+0000</td></tr><tr><td>9218</td><td>April Barr</td><td>26</td><td>2016-02-06T19:00:11.000+0000</td></tr><tr><td>4055</td><td>Grant George</td><td>27</td><td>2015-11-11T01:45:05.000+0000</td></tr><tr><td>7370</td><td>James Keith</td><td>42</td><td>2017-07-02T17:25:18.000+0000</td></tr><tr><td>25</td><td>Amber Gray</td><td>24</td><td>2017-07-01T07:56:15.000+0000</td></tr><tr><td>6939</td><td>Erin Thompson</td><td>35</td><td>2016-10-21T03:38:15.000+0000</td></tr><tr><td>7383</td><td>Dawn Bradley</td><td>20</td><td>2016-08-26T16:09:52.000+0000</td></tr><tr><td>3240</td><td>April Brown</td><td>20</td><td>2016-04-10T02:39:57.000+0000</td></tr><tr><td>8015</td><td>Danielle Klein</td><td>38</td><td>2016-04-11T08:54:04.000+0000</td></tr><tr><td>7745</td><td>Aaron Abbott</td><td>20</td><td>2015-10-23T16:08:41.000+0000</td></tr><tr><td>3360</td><td>Amber Casey</td><td>23</td><td>2016-01-06T12:22:08.000+0000</td></tr><tr><td>6380</td><td>Matthew Newman</td><td>41</td><td>2016-04-03T05:17:47.000+0000</td></tr><tr><td>409</td><td>Alfred Chen</td><td>24</td><td>2016-07-01T16:11:59.000+0000</td></tr><tr><td>1814</td><td>Brian Hansen</td><td>31</td><td>2016-01-30T13:25:52.000+0000</td></tr><tr><td>2343</td><td>James Graves</td><td>43</td><td>2016-01-21T09:41:10.000+0000</td></tr><tr><td>7759</td><td>Aaron Alexander</td><td>21</td><td>2015-10-25T07:36:08.000+0000</td></tr><tr><td>6717</td><td>Elizabeth Green</td><td>20</td><td>2016-06-21T10:08:09.000+0000</td></tr><tr><td>4862</td><td>Jacob Castro</td><td>23</td><td>2016-10-03T21:44:53.000+0000</td></tr><tr><td>6299</td><td>Jeffrey Gordon</td><td>57</td><td>2017-01-06T20:27:48.000+0000</td></tr><tr><td>9425</td><td>Katrina Fischer</td><td>47</td><td>2017-05-10T22:51:14.000+0000</td></tr><tr><td>1901</td><td>Michelle Richardson</td><td>44</td><td>2016-12-18T16:05:39.000+0000</td></tr><tr><td>527</td><td>Carlos Dixon</td><td>24</td><td>2015-11-09T03:47:45.000+0000</td></tr><tr><td>334</td><td>Cindy Morales</td><td>43</td><td>2016-09-01T18:15:56.000+0000</td></tr><tr><td>6348</td><td>Mark Brown</td><td>23</td><td>2016-07-24T20:27:24.000+0000</td></tr><tr><td>3626</td><td>Amanda Allen</td><td>21</td><td>2015-11-16T23:15:00.000+0000</td></tr><tr><td>1857</td><td>Christopher Hamilton</td><td>48</td><td>2016-02-27T16:57:44.000+0000</td></tr><tr><td>3660</td><td>Adrian Jackson</td><td>28</td><td>2016-04-30T10:03:19.000+0000</td></tr><tr><td>4377</td><td>Samuel Thompson</td><td>24</td><td>2017-04-08T10:18:26.000+0000</td></tr><tr><td>8505</td><td>Sandra Humphrey</td><td>41</td><td>2017-04-16T22:40:56.000+0000</td></tr><tr><td>10087</td><td>Danny Ramsey</td><td>22</td><td>2016-07-03T13:53:31.000+0000</td></tr><tr><td>10050</td><td>Carla Arnold</td><td>34</td><td>2015-12-20T18:05:14.000+0000</td></tr><tr><td>10917</td><td>Valerie Rodriguez</td><td>31</td><td>2016-07-30T01:45:47.000+0000</td></tr><tr><td>5737</td><td>Alexis Bell</td><td>20</td><td>2015-11-23T06:34:47.000+0000</td></tr><tr><td>4561</td><td>Madeline Brown</td><td>43</td><td>2016-11-11T15:53:15.000+0000</td></tr><tr><td>6916</td><td>Steven Dixon</td><td>44</td><td>2016-10-17T08:09:28.000+0000</td></tr><tr><td>6341</td><td>Barbara Duran</td><td>22</td><td>2016-11-07T11:01:26.000+0000</td></tr><tr><td>4765</td><td>Danielle Gonzalez</td><td>36</td><td>2017-02-16T16:01:34.000+0000</td></tr><tr><td>10425</td><td>Andrea Carroll</td><td>20</td><td>2016-01-21T03:54:20.000+0000</td></tr><tr><td>10783</td><td>Jane Aguilar</td><td>32</td><td>2016-03-02T01:25:48.000+0000</td></tr><tr><td>6747</td><td>Matthew Simon</td><td>58</td><td>2017-06-17T04:42:14.000+0000</td></tr><tr><td>7180</td><td>Shannon Melton</td><td>26</td><td>2017-06-07T23:07:30.000+0000</td></tr><tr><td>8100</td><td>Aaron Abbott</td><td>20</td><td>2015-10-23T16:08:41.000+0000</td></tr><tr><td>4781</td><td>Cynthia Guerra</td><td>29</td><td>2016-12-25T23:51:01.000+0000</td></tr><tr><td>1254</td><td>Patricia Harvey</td><td>41</td><td>2017-09-25T07:22:09.000+0000</td></tr><tr><td>2011</td><td>Adam Anderson</td><td>34</td><td>2016-03-14T20:42:08.000+0000</td></tr><tr><td>3436</td><td>Charles Johnson</td><td>25</td><td>2015-12-07T02:19:50.000+0000</td></tr><tr><td>4424</td><td>Aaron Buchanan</td><td>23</td><td>2016-01-17T21:06:05.000+0000</td></tr><tr><td>649</td><td>Jill Gilmore</td><td>29</td><td>2017-01-13T08:26:21.000+0000</td></tr><tr><td>8645</td><td>Alexander Clark</td><td>21</td><td>2016-02-16T17:03:44.000+0000</td></tr><tr><td>5647</td><td>Calvin Atkins</td><td>27</td><td>2016-08-31T20:20:25.000+0000</td></tr><tr><td>5704</td><td>David Craig</td><td>30</td><td>2016-01-30T06:09:57.000+0000</td></tr><tr><td>10734</td><td>Jennifer Arellano</td><td>28</td><td>2015-12-18T10:50:10.000+0000</td></tr><tr><td>4027</td><td>Alexander Bailey</td><td>20</td><td>2015-12-05T21:04:46.000+0000</td></tr><tr><td>8488</td><td>Andrew Anderson</td><td>23</td><td>2015-11-28T11:52:37.000+0000</td></tr><tr><td>5166</td><td>Amy Caldwell</td><td>33</td><td>2015-11-12T14:10:39.000+0000</td></tr><tr><td>5130</td><td>Linda Blackwell</td><td>20</td><td>2015-12-11T03:23:37.000+0000</td></tr><tr><td>1675</td><td>Barbara Ford</td><td>50</td><td>2015-12-30T08:56:15.000+0000</td></tr><tr><td>10931</td><td>Aaron Bailey</td><td>20</td><td>2015-11-02T04:40:42.000+0000</td></tr><tr><td>7240</td><td>Abigail Ali</td><td>20</td><td>2015-10-24T11:23:51.000+0000</td></tr><tr><td>3831</td><td>Alexandria Alvarado</td><td>20</td><td>2015-10-23T04:13:23.000+0000</td></tr><tr><td>5527</td><td>Brian Herman</td><td>32</td><td>2016-02-19T01:20:00.000+0000</td></tr><tr><td>6496</td><td>Cindy Bennett</td><td>26</td><td>2016-01-03T06:10:45.000+0000</td></tr><tr><td>7670</td><td>Aaron Abbott</td><td>20</td><td>2015-10-23T16:08:41.000+0000</td></tr><tr><td>6602</td><td>Alexandria Anderson</td><td>23</td><td>2015-10-31T19:20:09.000+0000</td></tr><tr><td>10804</td><td>Stacy May</td><td>58</td><td>2016-06-21T11:33:31.000+0000</td></tr><tr><td>10371</td><td>Lori Campos</td><td>48</td><td>2016-04-26T11:49:56.000+0000</td></tr><tr><td>10160</td><td>Cameron Medina</td><td>20</td><td>2016-06-02T03:51:43.000+0000</td></tr><tr><td>4654</td><td>Nathan Howard</td><td>37</td><td>2016-03-06T21:35:04.000+0000</td></tr><tr><td>7940</td><td>Andrew Arnold</td><td>21</td><td>2015-12-02T08:29:10.000+0000</td></tr><tr><td>9198</td><td>Amber Chen</td><td>22</td><td>2015-12-30T05:21:14.000+0000</td></tr><tr><td>9475</td><td>Jessica Mejia</td><td>40</td><td>2016-01-03T12:03:05.000+0000</td></tr><tr><td>501</td><td>Adam Acosta</td><td>20</td><td>2015-10-21T21:26:45.000+0000</td></tr><tr><td>10204</td><td>Heather Gonzalez</td><td>41</td><td>2016-06-14T11:16:18.000+0000</td></tr><tr><td>9185</td><td>Scott Copeland</td><td>25</td><td>2017-10-18T06:45:02.000+0000</td></tr><tr><td>7896</td><td>Andrew Alvarez</td><td>21</td><td>2015-11-10T12:55:13.000+0000</td></tr><tr><td>8448</td><td>Joseph Church</td><td>31</td><td>2017-04-29T03:22:38.000+0000</td></tr><tr><td>456</td><td>Amber Cervantes</td><td>25</td><td>2016-05-09T16:38:08.000+0000</td></tr><tr><td>2315</td><td>Ashley Briggs</td><td>38</td><td>2015-11-15T16:53:09.000+0000</td></tr><tr><td>9734</td><td>Jennifer Kaiser</td><td>30</td><td>2015-11-24T03:29:52.000+0000</td></tr><tr><td>5724</td><td>Matthew Walker</td><td>57</td><td>2015-12-07T08:51:53.000+0000</td></tr><tr><td>6976</td><td>Andrea Beasley</td><td>23</td><td>2015-11-10T10:26:14.000+0000</td></tr><tr><td>9502</td><td>Brian Barnes</td><td>29</td><td>2015-11-01T23:09:37.000+0000</td></tr><tr><td>2048</td><td>Ann Chung</td><td>22</td><td>2015-11-18T23:11:15.000+0000</td></tr><tr><td>1341</td><td>Abigail Ali</td><td>20</td><td>2015-10-24T11:23:51.000+0000</td></tr><tr><td>2553</td><td>Bonnie Estrada</td><td>30</td><td>2015-10-21T07:31:00.000+0000</td></tr><tr><td>2810</td><td>Brandi Cervantes</td><td>35</td><td>2016-05-31T01:40:44.000+0000</td></tr><tr><td>9155</td><td>Aaron Alexander</td><td>21</td><td>2015-10-25T07:36:08.000+0000</td></tr><tr><td>7448</td><td>Brenda Gonzalez</td><td>56</td><td>2015-12-07T11:53:35.000+0000</td></tr><tr><td>1173</td><td>Dana Jackson</td><td>57</td><td>2016-06-05T21:37:09.000+0000</td></tr><tr><td>1631</td><td>Lauren Powell</td><td>30</td><td>2016-05-22T08:40:37.000+0000</td></tr><tr><td>8090</td><td>Aaron Abbott</td><td>20</td><td>2015-10-23T16:08:41.000+0000</td></tr><tr><td>7511</td><td>Sarah Valenzuela</td><td>54</td><td>2016-12-08T15:53:57.000+0000</td></tr><tr><td>8996</td><td>Aaron Alexander</td><td>21</td><td>2015-10-25T07:36:08.000+0000</td></tr><tr><td>9335</td><td>Amanda Adams</td><td>20</td><td>2015-10-21T08:27:36.000+0000</td></tr><tr><td>1139</td><td>Jeffrey Smith</td><td>30</td><td>2016-10-26T06:53:14.000+0000</td></tr><tr><td>7437</td><td>Alvin Adams</td><td>20</td><td>2016-01-01T13:50:40.000+0000</td></tr><tr><td>5198</td><td>James Sharp</td><td>23</td><td>2016-10-21T08:22:24.000+0000</td></tr><tr><td>9407</td><td>Amy Andrews</td><td>23</td><td>2015-10-29T19:12:55.000+0000</td></tr><tr><td>8926</td><td>Tyler Davis</td><td>27</td><td>2016-06-14T18:48:59.000+0000</td></tr><tr><td>8592</td><td>Alicia Benjamin</td><td>27</td><td>2015-12-10T18:40:42.000+0000</td></tr><tr><td>1503</td><td>Anthony Bryan</td><td>22</td><td>2015-10-24T15:35:59.000+0000</td></tr><tr><td>7162</td><td>Alan Davis</td><td>34</td><td>2016-04-25T01:45:51.000+0000</td></tr><tr><td>4780</td><td>Kristina King</td><td>34</td><td>2015-12-17T06:10:31.000+0000</td></tr><tr><td>10020</td><td>Christopher Hawkins</td><td>45</td><td>2016-09-15T06:02:53.000+0000</td></tr><tr><td>365</td><td>Kevin Torres</td><td>51</td><td>2016-08-07T18:45:21.000+0000</td></tr><tr><td>2975</td><td>Debbie Crawford</td><td>23</td><td>2016-04-04T04:03:32.000+0000</td></tr><tr><td>6865</td><td>Monica Hernandez</td><td>33</td><td>2016-04-01T13:54:42.000+0000</td></tr><tr><td>10538</td><td>Jordan Grant</td><td>42</td><td>2016-07-29T00:56:59.000+0000</td></tr><tr><td>4249</td><td>Alexandria Alvarado</td><td>20</td><td>2015-10-23T04:13:23.000+0000</td></tr><tr><td>1514</td><td>Michael Perkins</td><td>40</td><td>2017-06-28T16:17:39.000+0000</td></tr><tr><td>7467</td><td>Donna Carroll</td><td>21</td><td>2016-02-02T12:25:05.000+0000</td></tr><tr><td>10029</td><td>Anthony Baker</td><td>20</td><td>2015-11-14T19:24:56.000+0000</td></tr><tr><td>3813</td><td>James Green</td><td>47</td><td>2016-04-27T16:02:10.000+0000</td></tr><tr><td>637</td><td>Alexis Carrillo</td><td>24</td><td>2016-01-03T01:10:04.000+0000</td></tr><tr><td>9270</td><td>Amy Brown</td><td>21</td><td>2015-11-08T16:14:16.000+0000</td></tr><tr><td>1667</td><td>Bernard Arnold</td><td>21</td><td>2015-12-12T01:39:29.000+0000</td></tr><tr><td>3032</td><td>Anthony Chen</td><td>24</td><td>2016-06-15T12:49:30.000+0000</td></tr><tr><td>4</td><td>Adam Acosta</td><td>20</td><td>2015-10-21T21:26:45.000+0000</td></tr><tr><td>6809</td><td>Andrea Carroll</td><td>20</td><td>2016-01-21T03:54:20.000+0000</td></tr><tr><td>10883</td><td>Carl Hampton</td><td>25</td><td>2015-11-26T03:43:03.000+0000</td></tr><tr><td>5091</td><td>Samantha Hall</td><td>27</td><td>2017-04-27T09:48:22.000+0000</td></tr><tr><td>1170</td><td>Stacey Stewart</td><td>24</td><td>2017-03-24T10:12:14.000+0000</td></tr><tr><td>10321</td><td>Andrea Burke</td><td>20</td><td>2015-12-12T11:20:08.000+0000</td></tr><tr><td>9014</td><td>Luke Carter</td><td>37</td><td>2016-01-13T20:19:57.000+0000</td></tr><tr><td>1643</td><td>Claire Leonard</td><td>45</td><td>2016-03-18T23:34:56.000+0000</td></tr><tr><td>10137</td><td>Daniel Matthews</td><td>34</td><td>2016-01-23T03:59:37.000+0000</td></tr><tr><td>1611</td><td>Erik Martinez</td><td>40</td><td>2017-03-08T06:03:20.000+0000</td></tr><tr><td>9550</td><td>John Foster</td><td>32</td><td>2016-06-10T15:27:19.000+0000</td></tr><tr><td>857</td><td>Andrew Burke</td><td>20</td><td>2015-11-14T17:38:31.000+0000</td></tr><tr><td>6575</td><td>Devon Waller</td><td>38</td><td>2016-03-11T13:19:05.000+0000</td></tr><tr><td>8237</td><td>Aaron Abbott</td><td>20</td><td>2015-10-23T16:08:41.000+0000</td></tr><tr><td>3644</td><td>Angela Hall</td><td>27</td><td>2016-02-22T03:37:09.000+0000</td></tr><tr><td>4949</td><td>Colin Clayton</td><td>46</td><td>2016-11-18T10:00:53.000+0000</td></tr><tr><td>1024</td><td>Jason Martin</td><td>53</td><td>2016-06-07T07:09:02.000+0000</td></tr><tr><td>6170</td><td>Eric Gonzalez</td><td>36</td><td>2016-07-31T17:22:08.000+0000</td></tr><tr><td>91</td><td>Darryl Baker</td><td>29</td><td>2016-02-26T03:45:09.000+0000</td></tr><tr><td>5395</td><td>Leah Franco</td><td>36</td><td>2017-04-01T04:04:00.000+0000</td></tr><tr><td>9146</td><td>Andrew Anderson</td><td>23</td><td>2015-11-28T11:52:37.000+0000</td></tr><tr><td>7484</td><td>Jason Herrera</td><td>40</td><td>2016-10-21T21:15:50.000+0000</td></tr><tr><td>2759</td><td>Anthony Chen</td><td>24</td><td>2016-06-15T12:49:30.000+0000</td></tr><tr><td>9355</td><td>Elizabeth Johnson</td><td>33</td><td>2016-12-09T23:34:15.000+0000</td></tr><tr><td>6019</td><td>Heather Russell</td><td>44</td><td>2017-09-17T22:18:59.000+0000</td></tr><tr><td>4922</td><td>Abigail Barry</td><td>21</td><td>2015-12-03T10:40:24.000+0000</td></tr><tr><td>3094</td><td>Jose Smith</td><td>55</td><td>2016-12-13T06:09:30.000+0000</td></tr><tr><td>5911</td><td>Anna Adams</td><td>21</td><td>2015-11-27T08:22:20.000+0000</td></tr><tr><td>3504</td><td>Kyle Floyd</td><td>20</td><td>2016-07-29T04:25:14.000+0000</td></tr><tr><td>1786</td><td>Adam Gibson</td><td>21</td><td>2015-11-22T23:22:23.000+0000</td></tr><tr><td>7539</td><td>Alvin Adams</td><td>20</td><td>2016-01-01T13:50:40.000+0000</td></tr><tr><td>8004</td><td>Frank Combs</td><td>23</td><td>2015-11-30T05:25:22.000+0000</td></tr><tr><td>7039</td><td>Brian Buckley</td><td>28</td><td>2016-10-14T03:43:48.000+0000</td></tr><tr><td>7276</td><td>Meghan Gomez</td><td>52</td><td>2017-05-08T12:25:11.000+0000</td></tr><tr><td>7961</td><td>Alex Adams</td><td>20</td><td>2015-11-02T22:24:22.000+0000</td></tr><tr><td>8120</td><td>James Goodwin</td><td>20</td><td>2016-01-24T09:18:29.000+0000</td></tr><tr><td>4113</td><td>Heidi Perez</td><td>39</td><td>2015-12-21T02:15:53.000+0000</td></tr><tr><td>6328</td><td>Ashley Combs</td><td>34</td><td>2015-11-13T06:33:05.000+0000</td></tr><tr><td>1694</td><td>James Mills</td><td>38</td><td>2017-08-13T19:07:29.000+0000</td></tr><tr><td>1179</td><td>Cynthia Clark</td><td>20</td><td>2016-01-30T15:21:25.000+0000</td></tr><tr><td>5402</td><td>James Brown</td><td>49</td><td>2016-04-06T13:56:50.000+0000</td></tr><tr><td>781</td><td>Alexandra Allen</td><td>20</td><td>2015-10-23T13:07:00.000+0000</td></tr><tr><td>8089</td><td>Melissa Griffin</td><td>47</td><td>2017-04-24T05:30:31.000+0000</td></tr><tr><td>4245</td><td>Alexandria Alvarado</td><td>20</td><td>2015-10-23T04:13:23.000+0000</td></tr><tr><td>9718</td><td>Brian Barnes</td><td>23</td><td>2017-01-17T06:38:28.000+0000</td></tr><tr><td>1308</td><td>Charles Clark</td><td>25</td><td>2016-01-14T12:21:54.000+0000</td></tr><tr><td>604</td><td>Cynthia Ortiz</td><td>35</td><td>2016-03-05T05:16:44.000+0000</td></tr><tr><td>10865</td><td>Nicole Harrison</td><td>29</td><td>2017-07-24T18:11:03.000+0000</td></tr><tr><td>7891</td><td>Amanda Brown</td><td>20</td><td>2015-11-12T03:23:49.000+0000</td></tr><tr><td>9332</td><td>Gregory Carpenter</td><td>23</td><td>2016-07-14T11:45:49.000+0000</td></tr><tr><td>4556</td><td>Timothy Meyer</td><td>40</td><td>2016-06-23T22:33:38.000+0000</td></tr><tr><td>10853</td><td>Amanda Cox</td><td>37</td><td>2015-12-29T23:56:30.000+0000</td></tr><tr><td>307</td><td>John Cruz</td><td>55</td><td>2017-03-15T23:04:39.000+0000</td></tr><tr><td>3231</td><td>Andrew Baker</td><td>22</td><td>2015-12-21T08:06:54.000+0000</td></tr><tr><td>10429</td><td>Brandon Henderson</td><td>24</td><td>2016-01-12T17:59:43.000+0000</td></tr><tr><td>2465</td><td>Duane Lopez</td><td>27</td><td>2016-05-01T09:31:11.000+0000</td></tr><tr><td>9903</td><td>Amanda Baker</td><td>20</td><td>2016-01-31T04:46:39.000+0000</td></tr><tr><td>10154</td><td>Lauren Hill</td><td>52</td><td>2016-01-08T17:05:07.000+0000</td></tr><tr><td>33</td><td>Angela Conner</td><td>36</td><td>2016-09-21T11:18:22.000+0000</td></tr><tr><td>9584</td><td>David Harper</td><td>38</td><td>2016-08-12T12:33:07.000+0000</td></tr><tr><td>9935</td><td>Annette Andrews</td><td>28</td><td>2015-12-20T22:09:10.000+0000</td></tr><tr><td>7162</td><td>Alan Davis</td><td>34</td><td>2016-04-25T01:45:51.000+0000</td></tr><tr><td>4857</td><td>Barbara Clark</td><td>21</td><td>2015-11-17T01:16:08.000+0000</td></tr><tr><td>9653</td><td>Jeffery Roberson</td><td>42</td><td>2017-06-29T14:26:41.000+0000</td></tr><tr><td>4396</td><td>Justin Morris</td><td>45</td><td>2016-05-27T10:56:28.000+0000</td></tr><tr><td>5159</td><td>Brian Davis</td><td>38</td><td>2015-12-09T10:50:57.000+0000</td></tr><tr><td>2946</td><td>Samantha Carpenter</td><td>24</td><td>2016-06-26T00:05:17.000+0000</td></tr><tr><td>5759</td><td>Brian Davis</td><td>38</td><td>2015-12-09T10:50:57.000+0000</td></tr><tr><td>9363</td><td>James Warren</td><td>57</td><td>2017-09-29T23:40:45.000+0000</td></tr><tr><td>7983</td><td>Aaron Anderson</td><td>21</td><td>2015-10-24T05:35:27.000+0000</td></tr><tr><td>10526</td><td>Grace Luna</td><td>27</td><td>2016-09-02T02:25:43.000+0000</td></tr><tr><td>2172</td><td>April Shaffer</td><td>28</td><td>2017-01-05T12:11:56.000+0000</td></tr><tr><td>4064</td><td>Andrew Garcia</td><td>44</td><td>2015-10-27T20:31:15.000+0000</td></tr><tr><td>6957</td><td>Brittany Brown</td><td>37</td><td>2016-06-25T14:36:22.000+0000</td></tr><tr><td>10585</td><td>Katherine Dennis</td><td>49</td><td>2016-10-03T13:42:13.000+0000</td></tr><tr><td>160</td><td>Anthony Mcbride</td><td>46</td><td>2016-06-10T09:51:54.000+0000</td></tr><tr><td>10347</td><td>Julia Jackson</td><td>23</td><td>2016-11-13T02:31:21.000+0000</td></tr><tr><td>8889</td><td>Melissa Thompson</td><td>42</td><td>2016-04-01T01:20:00.000+0000</td></tr><tr><td>1026</td><td>Scott Campbell</td><td>20</td><td>2016-04-01T02:34:49.000+0000</td></tr><tr><td>3878</td><td>William Donovan</td><td>49</td><td>2017-05-02T07:34:05.000+0000</td></tr><tr><td>10198</td><td>Mary Pope</td><td>41</td><td>2016-06-25T05:11:46.000+0000</td></tr><tr><td>8449</td><td>Aaron Abbott</td><td>20</td><td>2015-10-23T16:08:41.000+0000</td></tr><tr><td>9929</td><td>Benjamin Brady</td><td>21</td><td>2016-05-11T06:22:07.000+0000</td></tr><tr><td>8162</td><td>Benjamin Adams</td><td>24</td><td>2015-10-25T03:23:53.000+0000</td></tr><tr><td>10677</td><td>Catherine Mitchell</td><td>26</td><td>2016-06-16T14:07:36.000+0000</td></tr><tr><td>6488</td><td>Alec Bell</td><td>22</td><td>2016-01-09T15:37:07.000+0000</td></tr><tr><td>10278</td><td>Christopher Fox</td><td>44</td><td>2016-10-26T03:56:51.000+0000</td></tr><tr><td>3393</td><td>Courtney Berg</td><td>20</td><td>2015-11-30T10:24:37.000+0000</td></tr><tr><td>6740</td><td>Erica Green</td><td>36</td><td>2017-05-31T09:19:59.000+0000</td></tr><tr><td>1175</td><td>Jennifer Dunn</td><td>47</td><td>2015-10-21T09:05:46.000+0000</td></tr><tr><td>6276</td><td>Briana Bryant</td><td>23</td><td>2016-03-30T16:14:41.000+0000</td></tr><tr><td>3930</td><td>Kylie Alvarez</td><td>35</td><td>2015-10-30T03:04:23.000+0000</td></tr><tr><td>2668</td><td>April Brown</td><td>20</td><td>2016-04-10T02:39:57.000+0000</td></tr><tr><td>5317</td><td>Ashley Carter</td><td>21</td><td>2015-11-29T21:11:06.000+0000</td></tr><tr><td>2793</td><td>Bobby Cook</td><td>21</td><td>2015-12-15T05:28:12.000+0000</td></tr><tr><td>6906</td><td>April Anderson</td><td>30</td><td>2016-06-27T08:35:51.000+0000</td></tr><tr><td>2025</td><td>Aaron Abbott</td><td>20</td><td>2015-10-31T18:51:07.000+0000</td></tr><tr><td>7950</td><td>Kristy Donaldson</td><td>46</td><td>2017-08-15T03:04:44.000+0000</td></tr><tr><td>6797</td><td>Janet Shaw</td><td>27</td><td>2016-11-02T03:54:55.000+0000</td></tr><tr><td>3185</td><td>Alexandra Fuentes</td><td>29</td><td>2016-01-03T02:33:53.000+0000</td></tr><tr><td>1066</td><td>Benjamin Branch</td><td>44</td><td>2016-06-08T17:23:33.000+0000</td></tr><tr><td>3352</td><td>Abigail Adams</td><td>20</td><td>2015-10-25T13:11:51.000+0000</td></tr><tr><td>7952</td><td>Karen Clark</td><td>47</td><td>2016-08-01T06:36:32.000+0000</td></tr><tr><td>10600</td><td>Robert Mclaughlin</td><td>49</td><td>2016-02-27T04:42:03.000+0000</td></tr><tr><td>9530</td><td>Denise Graves</td><td>21</td><td>2016-01-28T22:04:16.000+0000</td></tr><tr><td>8854</td><td>Andrew Anderson</td><td>23</td><td>2015-11-28T11:52:37.000+0000</td></tr><tr><td>8461</td><td>Cody Barker</td><td>48</td><td>2015-12-20T02:56:01.000+0000</td></tr><tr><td>10862</td><td>Jamie Harrison</td><td>37</td><td>2017-07-19T01:17:18.000+0000</td></tr><tr><td>8251</td><td>Timothy Orozco</td><td>20</td><td>2016-03-21T17:34:44.000+0000</td></tr><tr><td>2095</td><td>Cheryl Dean</td><td>57</td><td>2017-08-01T04:00:30.000+0000</td></tr><tr><td>7285</td><td>Alejandra Acevedo</td><td>20</td><td>2015-11-24T21:01:23.000+0000</td></tr><tr><td>7271</td><td>Ashley Castro</td><td>38</td><td>2017-06-25T02:03:31.000+0000</td></tr><tr><td>5230</td><td>Abigail Ali</td><td>20</td><td>2015-10-24T11:23:51.000+0000</td></tr><tr><td>4398</td><td>Stacey Scott</td><td>47</td><td>2017-06-29T18:04:56.000+0000</td></tr><tr><td>4251</td><td>Amanda Allen</td><td>21</td><td>2015-11-16T23:15:00.000+0000</td></tr><tr><td>9808</td><td>Daniel Brooks</td><td>25</td><td>2015-11-19T21:24:33.000+0000</td></tr><tr><td>3884</td><td>Alex Jimenez</td><td>24</td><td>2015-10-29T18:48:47.000+0000</td></tr><tr><td>6181</td><td>Albert Allison</td><td>20</td><td>2015-10-21T22:27:27.000+0000</td></tr><tr><td>1881</td><td>Jeffrey Brooks</td><td>47</td><td>2017-02-08T21:03:46.000+0000</td></tr><tr><td>9099</td><td>Gregory Carpenter</td><td>23</td><td>2016-07-14T11:45:49.000+0000</td></tr><tr><td>2904</td><td>Brad Abbott</td><td>35</td><td>2016-03-07T17:23:18.000+0000</td></tr><tr><td>1832</td><td>Angela Carlson</td><td>33</td><td>2016-01-01T21:17:41.000+0000</td></tr><tr><td>4670</td><td>Heather Barnes</td><td>43</td><td>2016-06-20T18:35:26.000+0000</td></tr><tr><td>2927</td><td>Angela Andrews</td><td>20</td><td>2015-10-28T21:44:56.000+0000</td></tr><tr><td>9904</td><td>Alexandra Austin</td><td>22</td><td>2015-11-06T05:05:43.000+0000</td></tr><tr><td>9120</td><td>Dawn Mcdowell</td><td>45</td><td>2017-04-19T00:02:19.000+0000</td></tr><tr><td>8612</td><td>Angela Berg</td><td>20</td><td>2015-11-10T05:57:33.000+0000</td></tr><tr><td>1465</td><td>Juan Cortez</td><td>20</td><td>2016-04-07T13:02:08.000+0000</td></tr><tr><td>3896</td><td>Alexandria Alvarado</td><td>20</td><td>2015-10-23T04:13:23.000+0000</td></tr><tr><td>7514</td><td>Amanda Holt</td><td>21</td><td>2017-01-10T13:22:59.000+0000</td></tr><tr><td>1778</td><td>Alice Bennett</td><td>28</td><td>2016-05-03T03:50:42.000+0000</td></tr><tr><td>2780</td><td>Kimberly Mack</td><td>37</td><td>2017-08-09T03:52:40.000+0000</td></tr><tr><td>4107</td><td>Barbara English</td><td>23</td><td>2016-03-01T23:23:24.000+0000</td></tr><tr><td>10513</td><td>Melody Thompson</td><td>28</td><td>2016-10-28T04:09:37.000+0000</td></tr><tr><td>320</td><td>Alexandra Anderson</td><td>47</td><td>2016-07-06T00:08:29.000+0000</td></tr><tr><td>3164</td><td>Cynthia Harper</td><td>43</td><td>2016-01-23T05:44:11.000+0000</td></tr><tr><td>2041</td><td>Christopher Campbell</td><td>35</td><td>2015-10-22T22:42:23.000+0000</td></tr><tr><td>4489</td><td>Tracie Thompson</td><td>34</td><td>2017-08-21T02:27:26.000+0000</td></tr><tr><td>10247</td><td>Gloria Mills</td><td>53</td><td>2016-07-14T12:43:36.000+0000</td></tr><tr><td>7685</td><td>Brian Howard</td><td>23</td><td>2015-12-20T18:33:11.000+0000</td></tr><tr><td>5084</td><td>Marissa Spence</td><td>53</td><td>2016-06-30T20:53:16.000+0000</td></tr><tr><td>1789</td><td>Jennifer Snyder</td><td>53</td><td>2017-03-27T10:25:34.000+0000</td></tr><tr><td>1263</td><td>Anthony Bryan</td><td>22</td><td>2015-10-24T15:35:59.000+0000</td></tr><tr><td>3562</td><td>Alison Cole</td><td>21</td><td>2015-11-05T13:39:57.000+0000</td></tr><tr><td>2787</td><td>Christopher Brown</td><td>21</td><td>2016-05-23T23:48:56.000+0000</td></tr><tr><td>7318</td><td>James Dunn</td><td>45</td><td>2016-04-30T10:48:25.000+0000</td></tr><tr><td>570</td><td>Alexandra Allen</td><td>20</td><td>2015-10-23T13:07:00.000+0000</td></tr><tr><td>1570</td><td>Jason Thomas</td><td>35</td><td>2017-09-16T08:44:13.000+0000</td></tr><tr><td>7769</td><td>Aaron Abbott</td><td>20</td><td>2015-10-23T16:08:41.000+0000</td></tr><tr><td>896</td><td>Amanda Guzman</td><td>26</td><td>2016-01-19T18:41:59.000+0000</td></tr><tr><td>9054</td><td>Andrea Alexander</td><td>21</td><td>2015-11-10T09:27:42.000+0000</td></tr><tr><td>9749</td><td>Arthur Riggs</td><td>46</td><td>2016-05-01T10:44:18.000+0000</td></tr><tr><td>3710</td><td>Nicole Johnson</td><td>44</td><td>2016-02-08T18:55:39.000+0000</td></tr><tr><td>7862</td><td>Andrew Arnold</td><td>21</td><td>2015-12-02T08:29:10.000+0000</td></tr><tr><td>653</td><td>Adam Nash</td><td>36</td><td>2016-11-26T08:35:53.000+0000</td></tr><tr><td>7770</td><td>Jeffrey Hudson</td><td>58</td><td>2017-08-17T18:45:27.000+0000</td></tr><tr><td>7718</td><td>Katherine Howell</td><td>56</td><td>2017-07-22T19:52:39.000+0000</td></tr><tr><td>2288</td><td>Corey Andrews</td><td>23</td><td>2015-11-25T13:36:22.000+0000</td></tr><tr><td>9010</td><td>Albert Allison</td><td>20</td><td>2015-10-21T22:27:27.000+0000</td></tr><tr><td>3266</td><td>Robert Golden</td><td>50</td><td>2017-03-19T15:29:02.000+0000</td></tr><tr><td>2422</td><td>Maria Franklin</td><td>44</td><td>2016-10-25T14:57:24.000+0000</td></tr><tr><td>1598</td><td>Adrian Baker</td><td>24</td><td>2015-12-04T05:17:24.000+0000</td></tr><tr><td>7262</td><td>Jacob Alvarez</td><td>27</td><td>2016-01-29T09:37:46.000+0000</td></tr><tr><td>5254</td><td>William Combs</td><td>50</td><td>2015-12-06T10:58:54.000+0000</td></tr><tr><td>8511</td><td>Molly Curtis</td><td>20</td><td>2016-06-30T10:13:01.000+0000</td></tr><tr><td>6749</td><td>Amanda Adams</td><td>20</td><td>2015-10-21T08:27:36.000+0000</td></tr><tr><td>1487</td><td>Jonathan Rodriguez</td><td>30</td><td>2016-09-05T12:31:44.000+0000</td></tr><tr><td>5349</td><td>Caitlyn Baker</td><td>22</td><td>2015-11-11T17:56:54.000+0000</td></tr><tr><td>831</td><td>Aimee Collins</td><td>28</td><td>2016-06-16T02:06:38.000+0000</td></tr><tr><td>8700</td><td>Alexander Bailey</td><td>20</td><td>2015-10-30T11:37:32.000+0000</td></tr><tr><td>3349</td><td>Alice Bennett</td><td>28</td><td>2016-05-03T03:50:42.000+0000</td></tr><tr><td>616</td><td>Brandon Holmes</td><td>21</td><td>2015-11-02T23:30:01.000+0000</td></tr><tr><td>1676</td><td>Kyle Mccarthy</td><td>41</td><td>2016-04-10T12:18:20.000+0000</td></tr><tr><td>4530</td><td>Jamie Davis</td><td>33</td><td>2016-03-23T06:58:08.000+0000</td></tr><tr><td>2970</td><td>Anthony Brown</td><td>33</td><td>2015-10-24T16:39:50.000+0000</td></tr><tr><td>8315</td><td>Andrew Alexander</td><td>20</td><td>2015-11-20T09:08:00.000+0000</td></tr><tr><td>4505</td><td>Diane Phillips</td><td>59</td><td>2016-03-01T14:23:30.000+0000</td></tr><tr><td>865</td><td>Anna Bird</td><td>25</td><td>2015-10-21T18:29:08.000+0000</td></tr><tr><td>10715</td><td>Angela Brown</td><td>36</td><td>2015-12-14T13:52:48.000+0000</td></tr><tr><td>1896</td><td>Amanda Anderson</td><td>23</td><td>2016-02-22T08:38:01.000+0000</td></tr><tr><td>155</td><td>Alexandra Allen</td><td>20</td><td>2015-10-23T13:07:00.000+0000</td></tr><tr><td>7902</td><td>Andrew Alexander</td><td>20</td><td>2015-11-20T09:08:00.000+0000</td></tr><tr><td>8519</td><td>Alicia Burnett</td><td>23</td><td>2016-07-18T00:04:07.000+0000</td></tr><tr><td>4186</td><td>Christina Bryant</td><td>33</td><td>2016-04-27T01:35:39.000+0000</td></tr><tr><td>741</td><td>Adam Acosta</td><td>20</td><td>2015-10-21T21:26:45.000+0000</td></tr><tr><td>7093</td><td>Jonathan Martinez</td><td>31</td><td>2016-02-28T10:31:48.000+0000</td></tr><tr><td>7640</td><td>Aaron Anderson</td><td>21</td><td>2015-10-24T05:35:27.000+0000</td></tr><tr><td>4816</td><td>Darin Lee</td><td>25</td><td>2016-08-09T23:13:29.000+0000</td></tr><tr><td>9183</td><td>Brittany Cruz</td><td>47</td><td>2016-07-28T09:04:46.000+0000</td></tr><tr><td>525</td><td>Abigail Ali</td><td>20</td><td>2015-10-24T11:23:51.000+0000</td></tr><tr><td>10908</td><td>Stephanie Cooper</td><td>20</td><td>2017-06-01T02:30:48.000+0000</td></tr><tr><td>6240</td><td>Linda Tate</td><td>33</td><td>2017-06-14T08:16:57.000+0000</td></tr><tr><td>222</td><td>Herbert Sawyer</td><td>45</td><td>2016-07-27T15:08:03.000+0000</td></tr><tr><td>7209</td><td>April Anderson</td><td>30</td><td>2016-06-27T08:35:51.000+0000</td></tr><tr><td>7560</td><td>Theresa Dixon</td><td>47</td><td>2015-12-18T14:49:13.000+0000</td></tr><tr><td>2334</td><td>Bailey Rogers</td><td>31</td><td>2015-10-22T22:51:57.000+0000</td></tr><tr><td>9234</td><td>Christina Aguilar</td><td>23</td><td>2015-12-09T20:29:10.000+0000</td></tr><tr><td>2354</td><td>Danielle Barber</td><td>23</td><td>2016-02-21T14:23:49.000+0000</td></tr><tr><td>4761</td><td>Christopher Norman</td><td>40</td><td>2017-03-07T21:33:30.000+0000</td></tr><tr><td>4122</td><td>Michael Chan</td><td>38</td><td>2017-03-23T16:11:45.000+0000</td></tr><tr><td>9256</td><td>Andrew Anderson</td><td>23</td><td>2015-11-28T11:52:37.000+0000</td></tr><tr><td>2161</td><td>Alexander Rodriguez</td><td>55</td><td>2017-08-12T13:26:38.000+0000</td></tr><tr><td>9812</td><td>Janet Andrews</td><td>28</td><td>2016-06-11T14:48:17.000+0000</td></tr><tr><td>5044</td><td>Amanda Bowers</td><td>22</td><td>2016-01-18T20:23:23.000+0000</td></tr><tr><td>7068</td><td>Andrea Beasley</td><td>23</td><td>2015-11-10T10:26:14.000+0000</td></tr><tr><td>3226</td><td>Angela Andrews</td><td>20</td><td>2015-10-28T21:44:56.000+0000</td></tr><tr><td>3882</td><td>Darryl Alexander</td><td>25</td><td>2015-12-02T11:20:58.000+0000</td></tr><tr><td>3111</td><td>Natasha Gonzalez</td><td>51</td><td>2016-05-17T07:56:53.000+0000</td></tr><tr><td>10507</td><td>Hannah Allen</td><td>21</td><td>2016-12-02T04:34:51.000+0000</td></tr><tr><td>1775</td><td>James Graham</td><td>22</td><td>2015-12-24T13:28:36.000+0000</td></tr><tr><td>9482</td><td>Heather Hall</td><td>31</td><td>2017-02-25T07:58:37.000+0000</td></tr><tr><td>8224</td><td>Eric Buck</td><td>45</td><td>2015-10-28T17:36:12.000+0000</td></tr><tr><td>1481</td><td>Alison Harding</td><td>35</td><td>2017-10-05T17:45:20.000+0000</td></tr><tr><td>4333</td><td>Andre Bartlett</td><td>20</td><td>2015-10-30T20:41:47.000+0000</td></tr><tr><td>8834</td><td>Andrea Alexander</td><td>21</td><td>2015-11-10T09:27:42.000+0000</td></tr><tr><td>1530</td><td>Jose Robbins</td><td>54</td><td>2016-03-07T19:38:00.000+0000</td></tr><tr><td>1104</td><td>Holly Bailey</td><td>48</td><td>2016-02-01T07:15:19.000+0000</td></tr><tr><td>498</td><td>Anna Bird</td><td>25</td><td>2015-10-21T18:29:08.000+0000</td></tr><tr><td>813</td><td>Christopher Gonzalez</td><td>30</td><td>2016-03-02T23:44:12.000+0000</td></tr><tr><td>3703</td><td>Alison Cole</td><td>21</td><td>2015-11-05T13:39:57.000+0000</td></tr><tr><td>4585</td><td>Amy Atkins</td><td>21</td><td>2015-10-31T07:37:40.000+0000</td></tr><tr><td>10073</td><td>Jeffrey Hunter</td><td>32</td><td>2016-09-07T04:52:20.000+0000</td></tr><tr><td>974</td><td>David Jones</td><td>40</td><td>2016-06-30T00:50:31.000+0000</td></tr><tr><td>4944</td><td>Amber Bennett</td><td>29</td><td>2016-02-28T04:37:04.000+0000</td></tr><tr><td>9643</td><td>Daniel Reyes</td><td>32</td><td>2017-08-02T14:05:48.000+0000</td></tr><tr><td>2308</td><td>Aaron Greene</td><td>25</td><td>2016-01-14T00:10:04.000+0000</td></tr><tr><td>8058</td><td>Joyce Ochoa</td><td>23</td><td>2016-12-27T11:43:07.000+0000</td></tr><tr><td>4115</td><td>Danielle Cook</td><td>22</td><td>2016-05-18T00:47:21.000+0000</td></tr><tr><td>643</td><td>Anthony Adkins</td><td>21</td><td>2015-10-28T03:59:42.000+0000</td></tr><tr><td>1776</td><td>Deanna Molina</td><td>22</td><td>2016-04-07T20:10:55.000+0000</td></tr><tr><td>1972</td><td>Michelle Smith</td><td>52</td><td>2017-05-05T05:06:56.000+0000</td></tr><tr><td>4641</td><td>Anthony Dean</td><td>21</td><td>2016-04-15T19:54:05.000+0000</td></tr><tr><td>909</td><td>Daniel Peck</td><td>24</td><td>2016-02-22T23:13:34.000+0000</td></tr><tr><td>10369</td><td>Gabrielle Flores</td><td>34</td><td>2017-09-17T01:53:38.000+0000</td></tr><tr><td>7964</td><td>Aaron Abbott</td><td>20</td><td>2015-10-23T16:08:41.000+0000</td></tr><tr><td>9455</td><td>Calvin Baker</td><td>26</td><td>2015-11-14T05:58:38.000+0000</td></tr><tr><td>6978</td><td>Jack Morales</td><td>56</td><td>2016-10-23T06:50:28.000+0000</td></tr><tr><td>7057</td><td>Jay Hampton</td><td>21</td><td>2016-05-10T01:52:46.000+0000</td></tr><tr><td>935</td><td>Michael Brooks</td><td>48</td><td>2016-08-05T06:18:29.000+0000</td></tr><tr><td>4417</td><td>Maria Long</td><td>27</td><td>2017-09-28T00:27:20.000+0000</td></tr><tr><td>9950</td><td>Christopher Bates</td><td>30</td><td>2016-05-25T10:09:22.000+0000</td></tr><tr><td>3632</td><td>Danielle Chambers</td><td>21</td><td>2015-12-08T00:29:58.000+0000</td></tr><tr><td>6305</td><td>Aaron Anderson</td><td>21</td><td>2015-10-23T03:43:54.000+0000</td></tr><tr><td>2810</td><td>Brandi Cervantes</td><td>35</td><td>2016-05-31T01:40:44.000+0000</td></tr><tr><td>4066</td><td>Adam Armstrong</td><td>20</td><td>2015-12-17T08:43:40.000+0000</td></tr><tr><td>10570</td><td>David Evans</td><td>21</td><td>2016-03-28T10:54:55.000+0000</td></tr><tr><td>9533</td><td>Alice Day</td><td>25</td><td>2015-11-04T05:12:00.000+0000</td></tr><tr><td>1411</td><td>Adrian Baker</td><td>24</td><td>2015-12-04T05:17:24.000+0000</td></tr><tr><td>7861</td><td>Alexandria Gross</td><td>22</td><td>2016-06-07T14:30:06.000+0000</td></tr><tr><td>6403</td><td>April Simmons</td><td>34</td><td>2017-05-27T14:44:48.000+0000</td></tr><tr><td>860</td><td>Jay Davis</td><td>33</td><td>2016-12-04T21:33:36.000+0000</td></tr><tr><td>5209</td><td>Bradley Griffin</td><td>24</td><td>2016-04-05T09:58:20.000+0000</td></tr><tr><td>4590</td><td>Daniel Davis</td><td>29</td><td>2016-12-15T04:11:20.000+0000</td></tr><tr><td>4080</td><td>Marie Kennedy</td><td>42</td><td>2016-08-11T18:30:52.000+0000</td></tr><tr><td>9035</td><td>Aaron Alexander</td><td>21</td><td>2015-10-25T07:36:08.000+0000</td></tr><tr><td>857</td><td>Andrew Burke</td><td>20</td><td>2015-11-14T17:38:31.000+0000</td></tr><tr><td>10347</td><td>Julia Jackson</td><td>23</td><td>2016-11-13T02:31:21.000+0000</td></tr><tr><td>7356</td><td>Andrew Anderson</td><td>23</td><td>2015-11-28T11:52:37.000+0000</td></tr><tr><td>5796</td><td>Adam Alexander</td><td>20</td><td>2015-10-22T11:31:37.000+0000</td></tr><tr><td>10156</td><td>Shawn Gray</td><td>34</td><td>2017-02-05T07:25:42.000+0000</td></tr><tr><td>7666</td><td>Aaron Abbott</td><td>20</td><td>2015-10-23T16:08:41.000+0000</td></tr><tr><td>10602</td><td>Jack Dodson</td><td>21</td><td>2016-03-06T15:54:40.000+0000</td></tr><tr><td>7889</td><td>Anthony Johnson</td><td>23</td><td>2016-07-09T05:03:39.000+0000</td></tr><tr><td>4210</td><td>Anthony Golden</td><td>56</td><td>2017-05-03T22:37:43.000+0000</td></tr><tr><td>2499</td><td>John Hamilton</td><td>23</td><td>2015-11-09T12:22:53.000+0000</td></tr><tr><td>2403</td><td>Erin Lawson</td><td>59</td><td>2017-06-29T10:23:41.000+0000</td></tr><tr><td>678</td><td>John Trujillo</td><td>22</td><td>2017-07-20T11:18:24.000+0000</td></tr><tr><td>1349</td><td>Andrew Allen</td><td>53</td><td>2017-01-23T23:59:16.000+0000</td></tr><tr><td>6682</td><td>Lisa Walls</td><td>50</td><td>2016-09-09T23:42:11.000+0000</td></tr><tr><td>2452</td><td>Ashley Cortez</td><td>21</td><td>2017-03-07T07:21:57.000+0000</td></tr><tr><td>2523</td><td>Bryce Bailey</td><td>37</td><td>2015-11-28T01:46:17.000+0000</td></tr><tr><td>2754</td><td>Lance Li</td><td>23</td><td>2016-06-14T14:03:04.000+0000</td></tr><tr><td>7165</td><td>Nancy Jones</td><td>35</td><td>2016-01-12T09:32:19.000+0000</td></tr><tr><td>2795</td><td>Carrie Holder</td><td>21</td><td>2015-10-27T11:16:56.000+0000</td></tr><tr><td>2595</td><td>Christopher Barnett</td><td>22</td><td>2016-03-24T09:38:54.000+0000</td></tr><tr><td>8282</td><td>Andrew Alexander</td><td>20</td><td>2015-11-20T09:08:00.000+0000</td></tr><tr><td>5111</td><td>Lonnie Boyd</td><td>49</td><td>2016-02-08T06:54:03.000+0000</td></tr><tr><td>5679</td><td>Melanie Allison</td><td>32</td><td>2017-07-02T05:22:18.000+0000</td></tr><tr><td>5512</td><td>Caitlyn Baker</td><td>22</td><td>2015-11-11T17:56:54.000+0000</td></tr><tr><td>5405</td><td>Adam Alexander</td><td>20</td><td>2015-10-22T11:31:37.000+0000</td></tr><tr><td>159</td><td>Alison Bell</td><td>21</td><td>2016-01-07T08:11:35.000+0000</td></tr><tr><td>4769</td><td>Abigail Barry</td><td>21</td><td>2015-12-03T10:40:24.000+0000</td></tr><tr><td>2447</td><td>Nancy Patel</td><td>35</td><td>2017-06-27T10:00:11.000+0000</td></tr><tr><td>3345</td><td>Benjamin Turner</td><td>36</td><td>2016-08-30T14:33:44.000+0000</td></tr><tr><td>6756</td><td>Michael Clark</td><td>26</td><td>2016-06-15T18:10:59.000+0000</td></tr><tr><td>644</td><td>Aaron Bartlett</td><td>21</td><td>2015-11-24T02:15:36.000+0000</td></tr><tr><td>187</td><td>Laura Knight</td><td>21</td><td>2016-12-02T03:34:06.000+0000</td></tr><tr><td>7631</td><td>Jennifer Bailey</td><td>42</td><td>2016-03-07T21:07:12.000+0000</td></tr><tr><td>1780</td><td>Angela Andrews</td><td>20</td><td>2015-10-28T21:44:56.000+0000</td></tr><tr><td>7154</td><td>Alejandra Acevedo</td><td>20</td><td>2015-11-24T21:01:23.000+0000</td></tr><tr><td>4764</td><td>Michael Adams</td><td>32</td><td>2016-03-15T21:43:17.000+0000</td></tr><tr><td>8967</td><td>Joshua Harrison</td><td>26</td><td>2017-04-30T16:38:10.000+0000</td></tr><tr><td>925</td><td>Aaron Abbott</td><td>20</td><td>2015-10-31T18:51:07.000+0000</td></tr><tr><td>3638</td><td>Rebecca Conner</td><td>33</td><td>2015-12-29T22:26:53.000+0000</td></tr><tr><td>924</td><td>Adam Baker</td><td>30</td><td>2016-04-17T19:47:03.000+0000</td></tr><tr><td>2297</td><td>Debbie Mitchell</td><td>46</td><td>2017-02-23T00:45:45.000+0000</td></tr><tr><td>1324</td><td>Patrick Davidson</td><td>41</td><td>2016-12-24T11:07:22.000+0000</td></tr><tr><td>5155</td><td>Steven Weiss</td><td>22</td><td>2017-09-25T07:45:23.000+0000</td></tr><tr><td>1707</td><td>Albert Jackson</td><td>23</td><td>2016-04-13T18:06:15.000+0000</td></tr><tr><td>9123</td><td>Margaret Torres</td><td>21</td><td>2017-05-24T03:44:43.000+0000</td></tr><tr><td>10271</td><td>Mark Duran</td><td>28</td><td>2016-03-23T00:25:16.000+0000</td></tr><tr><td>4475</td><td>Anna Taylor</td><td>34</td><td>2017-04-25T14:21:09.000+0000</td></tr><tr><td>6021</td><td>Elaine Savage</td><td>23</td><td>2017-10-13T13:55:52.000+0000</td></tr><tr><td>1214</td><td>Alejandro Graham</td><td>57</td><td>2017-07-17T15:31:30.000+0000</td></tr><tr><td>10479</td><td>Aaron Bailey</td><td>20</td><td>2015-11-02T04:40:42.000+0000</td></tr><tr><td>5561</td><td>Amanda Anderson</td><td>24</td><td>2015-11-11T20:38:26.000+0000</td></tr><tr><td>6631</td><td>Valerie Leach</td><td>33</td><td>2015-10-31T10:25:32.000+0000</td></tr><tr><td>1749</td><td>Andrew Buck</td><td>23</td><td>2016-01-06T23:14:16.000+0000</td></tr><tr><td>6386</td><td>Alan Adams</td><td>25</td><td>2016-05-20T09:33:35.000+0000</td></tr><tr><td>746</td><td>Diana Barry</td><td>26</td><td>2015-11-12T15:36:01.000+0000</td></tr><tr><td>4866</td><td>Lawrence Lane</td><td>28</td><td>2017-07-09T11:52:42.000+0000</td></tr><tr><td>2779</td><td>Allison Acosta</td><td>20</td><td>2015-10-24T01:15:02.000+0000</td></tr><tr><td>8843</td><td>Alexander Bailey</td><td>20</td><td>2015-10-30T11:37:32.000+0000</td></tr><tr><td>4892</td><td>Pamela Wilson</td><td>28</td><td>2016-07-10T23:56:30.000+0000</td></tr><tr><td>3260</td><td>Ariel Brown</td><td>26</td><td>2015-11-24T23:04:52.000+0000</td></tr><tr><td>7600</td><td>Nancy Franco</td><td>33</td><td>2016-06-06T19:14:47.000+0000</td></tr><tr><td>1032</td><td>Kelly Blackwell</td><td>34</td><td>2016-04-01T21:50:44.000+0000</td></tr><tr><td>9791</td><td>Michelle Scott</td><td>38</td><td>2017-04-10T11:52:09.000+0000</td></tr><tr><td>10234</td><td>Amy Adams</td><td>23</td><td>2015-11-19T13:16:24.000+0000</td></tr><tr><td>2925</td><td>Jennifer Lester</td><td>25</td><td>2016-01-08T10:31:10.000+0000</td></tr><tr><td>6834</td><td>Keith Martinez</td><td>38</td><td>2015-11-17T12:56:37.000+0000</td></tr><tr><td>10671</td><td>Kristina Dawson</td><td>59</td><td>2017-08-19T13:07:48.000+0000</td></tr><tr><td>3052</td><td>Allison Dawson</td><td>35</td><td>2016-02-04T14:45:39.000+0000</td></tr><tr><td>10440</td><td>Christian Howell</td><td>29</td><td>2016-08-20T04:54:42.000+0000</td></tr><tr><td>7413</td><td>Seth Gardner</td><td>55</td><td>2016-04-12T09:43:50.000+0000</td></tr><tr><td>2226</td><td>Lisa Thomas</td><td>35</td><td>2015-11-25T06:31:01.000+0000</td></tr><tr><td>5460</td><td>Betty Cannon</td><td>40</td><td>2015-10-23T18:02:31.000+0000</td></tr><tr><td>2001</td><td>Jonathan Gordon</td><td>24</td><td>2015-11-12T08:52:11.000+0000</td></tr><tr><td>7537</td><td>Jessica Sullivan</td><td>25</td><td>2016-01-19T18:17:05.000+0000</td></tr><tr><td>385</td><td>Aaron Abbott</td><td>20</td><td>2015-10-31T18:51:07.000+0000</td></tr><tr><td>2508</td><td>Aaron Johnson</td><td>59</td><td>2016-07-02T04:35:40.000+0000</td></tr><tr><td>4565</td><td>Julie Johnson</td><td>23</td><td>2016-02-10T22:37:52.000+0000</td></tr><tr><td>4925</td><td>Lauren Richardson</td><td>32</td><td>2017-04-30T14:55:27.000+0000</td></tr><tr><td>1729</td><td>Amanda Adams</td><td>20</td><td>2015-10-21T08:27:36.000+0000</td></tr><tr><td>7183</td><td>Amanda Maldonado</td><td>38</td><td>2016-11-17T23:45:04.000+0000</td></tr><tr><td>7785</td><td>Eric Buck</td><td>45</td><td>2015-10-28T17:36:12.000+0000</td></tr><tr><td>4936</td><td>Andrew Miller</td><td>28</td><td>2016-03-12T02:52:38.000+0000</td></tr><tr><td>1065</td><td>Tammy Wise</td><td>27</td><td>2016-07-13T08:39:57.000+0000</td></tr><tr><td>9223</td><td>Andrea Alexander</td><td>21</td><td>2015-11-10T09:27:42.000+0000</td></tr><tr><td>10566</td><td>Joshua Carter</td><td>23</td><td>2016-04-23T05:36:37.000+0000</td></tr><tr><td>3688</td><td>James Jefferson</td><td>22</td><td>2016-02-25T23:48:54.000+0000</td></tr><tr><td>8277</td><td>Jermaine Hensley</td><td>32</td><td>2016-10-01T05:49:39.000+0000</td></tr><tr><td>6878</td><td>Angela Allen</td><td>20</td><td>2015-10-26T04:12:32.000+0000</td></tr><tr><td>204</td><td>Meghan Larson</td><td>56</td><td>2017-04-17T06:27:04.000+0000</td></tr><tr><td>1322</td><td>Alfred Murray</td><td>36</td><td>2016-03-15T11:19:05.000+0000</td></tr><tr><td>1719</td><td>Jordan Jenkins</td><td>60</td><td>2017-08-19T17:07:31.000+0000</td></tr><tr><td>4327</td><td>Shane Blanchard</td><td>38</td><td>2017-05-06T09:43:45.000+0000</td></tr><tr><td>10721</td><td>Garrett Hernandez</td><td>53</td><td>2017-04-05T13:59:02.000+0000</td></tr><tr><td>3561</td><td>Abigail Allen</td><td>20</td><td>2015-11-12T14:40:14.000+0000</td></tr><tr><td>6963</td><td>Angela Allen</td><td>20</td><td>2015-10-26T04:12:32.000+0000</td></tr><tr><td>6333</td><td>Julia Bennett</td><td>30</td><td>2016-04-21T15:45:11.000+0000</td></tr><tr><td>8352</td><td>Carl Thompson</td><td>24</td><td>2015-10-21T03:17:47.000+0000</td></tr><tr><td>6645</td><td>Amanda Herrera</td><td>38</td><td>2016-05-01T21:17:08.000+0000</td></tr><tr><td>6814</td><td>April Blake</td><td>21</td><td>2015-10-28T03:16:59.000+0000</td></tr><tr><td>3542</td><td>Kristen Stevenson</td><td>24</td><td>2016-12-29T04:45:35.000+0000</td></tr><tr><td>5523</td><td>Joel Obrien</td><td>29</td><td>2016-09-12T12:33:33.000+0000</td></tr><tr><td>9452</td><td>Aaron Alexander</td><td>21</td><td>2015-10-25T07:36:08.000+0000</td></tr><tr><td>155</td><td>Alexandra Allen</td><td>20</td><td>2015-10-23T13:07:00.000+0000</td></tr><tr><td>4448</td><td>Stanley Jones</td><td>20</td><td>2016-09-05T19:29:24.000+0000</td></tr><tr><td>3317</td><td>Angela Anderson</td><td>20</td><td>2015-11-27T04:14:49.000+0000</td></tr><tr><td>3285</td><td>Aaron Greene</td><td>25</td><td>2016-01-14T00:10:04.000+0000</td></tr><tr><td>8637</td><td>Michael Grant</td><td>28</td><td>2016-09-08T04:09:44.000+0000</td></tr><tr><td>6453</td><td>Caitlin Bailey</td><td>28</td><td>2015-10-24T04:11:28.000+0000</td></tr><tr><td>737</td><td>Christopher Evans</td><td>32</td><td>2015-11-03T07:55:11.000+0000</td></tr><tr><td>4675</td><td>Kaitlyn Rodriguez</td><td>48</td><td>2016-01-02T21:18:48.000+0000</td></tr><tr><td>2090</td><td>Edward Oliver</td><td>21</td><td>2016-04-05T00:40:22.000+0000</td></tr><tr><td>8407</td><td>David Brooks</td><td>33</td><td>2015-11-14T10:12:03.000+0000</td></tr><tr><td>4849</td><td>Erica Murphy</td><td>35</td><td>2015-11-03T05:49:39.000+0000</td></tr><tr><td>5978</td><td>Rebecca Simmons</td><td>60</td><td>2016-03-15T14:37:17.000+0000</td></tr><tr><td>1701</td><td>Brandon Simmons</td><td>49</td><td>2017-03-31T10:02:35.000+0000</td></tr><tr><td>4045</td><td>Amanda Allen</td><td>21</td><td>2015-11-16T23:15:00.000+0000</td></tr><tr><td>179</td><td>Sarah Salas</td><td>26</td><td>2016-01-01T10:11:23.000+0000</td></tr><tr><td>10026</td><td>Ann Holmes</td><td>34</td><td>2016-04-14T21:47:18.000+0000</td></tr><tr><td>8738</td><td>Albert Adams</td><td>21</td><td>2015-11-05T22:07:56.000+0000</td></tr><tr><td>6586</td><td>Kelly Carter</td><td>58</td><td>2015-11-30T19:16:40.000+0000</td></tr><tr><td>1188</td><td>Cesar Miller</td><td>38</td><td>2015-11-19T03:01:18.000+0000</td></tr><tr><td>3843</td><td>Ronald Hanson</td><td>28</td><td>2017-04-16T00:14:21.000+0000</td></tr><tr><td>7752</td><td>Andrew Brown</td><td>25</td><td>2016-03-26T04:30:23.000+0000</td></tr><tr><td>3983</td><td>Ashley Allen</td><td>20</td><td>2016-01-12T03:41:16.000+0000</td></tr><tr><td>7090</td><td>Andrea Allen</td><td>22</td><td>2015-11-13T10:22:18.000+0000</td></tr><tr><td>6503</td><td>Frank Jackson</td><td>33</td><td>2016-05-22T06:19:03.000+0000</td></tr><tr><td>7206</td><td>Christina Anderson</td><td>27</td><td>2016-03-03T11:25:21.000+0000</td></tr><tr><td>8591</td><td>Andrea Alexander</td><td>21</td><td>2015-11-10T09:27:42.000+0000</td></tr><tr><td>1745</td><td>Anthony Adkins</td><td>21</td><td>2015-10-28T03:59:42.000+0000</td></tr><tr><td>10501</td><td>Clarence Brooks</td><td>40</td><td>2016-04-07T05:11:10.000+0000</td></tr><tr><td>8941</td><td>Andrew Anderson</td><td>23</td><td>2015-11-28T11:52:37.000+0000</td></tr><tr><td>8705</td><td>Jeffrey Gregory</td><td>53</td><td>2016-02-01T03:06:59.000+0000</td></tr><tr><td>9307</td><td>Adam Acosta</td><td>20</td><td>2015-10-21T21:26:45.000+0000</td></tr><tr><td>5497</td><td>Joseph Barnett</td><td>21</td><td>2015-11-21T10:00:55.000+0000</td></tr><tr><td>101</td><td>Adam Acosta</td><td>20</td><td>2015-10-21T21:26:45.000+0000</td></tr><tr><td>5523</td><td>Joel Obrien</td><td>29</td><td>2016-09-12T12:33:33.000+0000</td></tr><tr><td>8836</td><td>Dalton Daniels</td><td>21</td><td>2015-11-11T10:19:51.000+0000</td></tr><tr><td>533</td><td>David Griffith</td><td>20</td><td>2016-01-07T19:49:22.000+0000</td></tr><tr><td>3979</td><td>David Manning</td><td>50</td><td>2016-06-29T03:16:01.000+0000</td></tr><tr><td>1821</td><td>Amanda Cooper</td><td>22</td><td>2016-01-19T16:56:23.000+0000</td></tr><tr><td>7050</td><td>Corey Anderson</td><td>28</td><td>2015-12-05T21:26:20.000+0000</td></tr><tr><td>287</td><td>Amanda Alvarez</td><td>21</td><td>2015-10-30T01:31:09.000+0000</td></tr><tr><td>4213</td><td>Abigail Allen</td><td>20</td><td>2015-11-12T14:40:14.000+0000</td></tr><tr><td>6705</td><td>Adrian Allen</td><td>21</td><td>2015-10-21T22:43:58.000+0000</td></tr><tr><td>5231</td><td>Joseph Barnett</td><td>21</td><td>2015-11-21T10:00:55.000+0000</td></tr><tr><td>3182</td><td>Becky Brady</td><td>21</td><td>2015-11-05T20:19:03.000+0000</td></tr><tr><td>544</td><td>Abigail Carter</td><td>21</td><td>2015-12-10T01:13:45.000+0000</td></tr><tr><td>8813</td><td>Aaron Abbott</td><td>20</td><td>2015-10-23T16:08:41.000+0000</td></tr><tr><td>6324</td><td>Crystal Santiago</td><td>41</td><td>2016-09-23T04:00:32.000+0000</td></tr><tr><td>3259</td><td>Allison Acosta</td><td>20</td><td>2015-10-24T01:15:02.000+0000</td></tr><tr><td>2641</td><td>Amber Casey</td><td>23</td><td>2016-01-06T12:22:08.000+0000</td></tr><tr><td>6264</td><td>Antonio Aguilar</td><td>42</td><td>2015-11-16T00:07:37.000+0000</td></tr><tr><td>1469</td><td>Angela Berg</td><td>20</td><td>2015-11-10T05:57:33.000+0000</td></tr><tr><td>27</td><td>Adam Acosta</td><td>20</td><td>2015-10-21T21:26:45.000+0000</td></tr><tr><td>5126</td><td>Bradley Long</td><td>25</td><td>2016-02-18T20:48:04.000+0000</td></tr><tr><td>8561</td><td>Angela Berg</td><td>20</td><td>2015-11-10T05:57:33.000+0000</td></tr><tr><td>6521</td><td>Christian Cruz</td><td>26</td><td>2015-11-03T06:28:57.000+0000</td></tr><tr><td>8255</td><td>Peter Huffman</td><td>39</td><td>2017-03-18T05:26:56.000+0000</td></tr><tr><td>9721</td><td>Debra Jenkins</td><td>50</td><td>2016-02-03T06:04:15.000+0000</td></tr><tr><td>1626</td><td>Jennifer Melton</td><td>39</td><td>2016-03-02T15:41:23.000+0000</td></tr><tr><td>3164</td><td>Cynthia Harper</td><td>43</td><td>2016-01-23T05:44:11.000+0000</td></tr><tr><td>2952</td><td>Billy Armstrong</td><td>22</td><td>2015-12-18T20:54:14.000+0000</td></tr><tr><td>6813</td><td>Abigail Ali</td><td>20</td><td>2015-10-24T11:23:51.000+0000</td></tr><tr><td>867</td><td>Herbert Sawyer</td><td>45</td><td>2016-07-27T15:08:03.000+0000</td></tr><tr><td>4500</td><td>Angela Brooks</td><td>24</td><td>2015-11-20T05:37:11.000+0000</td></tr><tr><td>7073</td><td>Manuel Ashley</td><td>55</td><td>2017-07-13T23:48:07.000+0000</td></tr><tr><td>6374</td><td>Brandon Bender</td><td>21</td><td>2016-02-15T23:12:43.000+0000</td></tr><tr><td>10904</td><td>Deanna Alexander</td><td>29</td><td>2016-04-04T18:49:31.000+0000</td></tr><tr><td>3717</td><td>Alexandria Alvarado</td><td>20</td><td>2015-10-23T04:13:23.000+0000</td></tr><tr><td>10253</td><td>Aaron Anderson</td><td>21</td><td>2015-10-23T03:43:54.000+0000</td></tr><tr><td>4983</td><td>John Mueller</td><td>33</td><td>2017-04-28T12:34:25.000+0000</td></tr><tr><td>5566</td><td>Ashley Anderson</td><td>32</td><td>2017-07-14T17:59:46.000+0000</td></tr><tr><td>4482</td><td>Amber Blevins</td><td>20</td><td>2015-12-13T16:33:13.000+0000</td></tr><tr><td>4651</td><td>Charles York</td><td>20</td><td>2016-12-20T21:37:01.000+0000</td></tr><tr><td>9567</td><td>Daniel Dorsey</td><td>26</td><td>2016-05-30T04:59:21.000+0000</td></tr><tr><td>6633</td><td>James Turner</td><td>47</td><td>2017-10-04T16:16:34.000+0000</td></tr><tr><td>10912</td><td>Valerie Bryant</td><td>42</td><td>2016-08-01T22:44:34.000+0000</td></tr><tr><td>10500</td><td>Brooke Vang</td><td>33</td><td>2016-12-09T20:16:49.000+0000</td></tr><tr><td>6309</td><td>Angela Everett</td><td>23</td><td>2016-02-23T11:59:45.000+0000</td></tr><tr><td>10097</td><td>Alexandra Austin</td><td>22</td><td>2015-11-06T05:05:43.000+0000</td></tr><tr><td>6671</td><td>Jessica Long</td><td>47</td><td>2017-10-06T04:10:16.000+0000</td></tr><tr><td>6849</td><td>Jeffrey Jones</td><td>54</td><td>2016-08-12T04:15:37.000+0000</td></tr><tr><td>3359</td><td>Abigail Carter</td><td>21</td><td>2015-12-10T01:13:45.000+0000</td></tr><tr><td>3175</td><td>David Bell</td><td>20</td><td>2016-04-15T17:11:11.000+0000</td></tr><tr><td>250</td><td>Cody Adams</td><td>22</td><td>2015-10-26T03:29:49.000+0000</td></tr><tr><td>5566</td><td>Ashley Anderson</td><td>32</td><td>2017-07-14T17:59:46.000+0000</td></tr><tr><td>2715</td><td>Adrienne Acosta</td><td>21</td><td>2015-11-17T14:56:48.000+0000</td></tr><tr><td>7648</td><td>Louis Patterson</td><td>23</td><td>2016-05-13T10:51:36.000+0000</td></tr><tr><td>4931</td><td>Steven Duncan</td><td>44</td><td>2016-04-25T23:51:06.000+0000</td></tr><tr><td>7446</td><td>Melissa Weiss</td><td>32</td><td>2017-09-19T15:10:12.000+0000</td></tr><tr><td>10524</td><td>Brian Conley</td><td>32</td><td>2016-06-01T06:25:53.000+0000</td></tr><tr><td>2530</td><td>Ariel Brown</td><td>26</td><td>2015-11-24T23:04:52.000+0000</td></tr><tr><td>4775</td><td>Kyle Perry</td><td>29</td><td>2016-08-09T19:40:48.000+0000</td></tr><tr><td>6770</td><td>David Buckley</td><td>30</td><td>2016-05-29T17:08:36.000+0000</td></tr><tr><td>5184</td><td>Jacob Chapman</td><td>42</td><td>2016-05-09T01:25:48.000+0000</td></tr><tr><td>1537</td><td>Nichole Chapman</td><td>27</td><td>2017-06-05T09:25:41.000+0000</td></tr><tr><td>2090</td><td>Edward Oliver</td><td>21</td><td>2016-04-05T00:40:22.000+0000</td></tr><tr><td>1379</td><td>Aaron Abbott</td><td>20</td><td>2015-10-31T18:51:07.000+0000</td></tr><tr><td>1301</td><td>Lisa Washington</td><td>46</td><td>2016-08-18T08:22:56.000+0000</td></tr><tr><td>660</td><td>Amy Atkins</td><td>21</td><td>2015-10-31T07:37:40.000+0000</td></tr><tr><td>3285</td><td>Aaron Greene</td><td>25</td><td>2016-01-14T00:10:04.000+0000</td></tr><tr><td>9969</td><td>Angela Bailey</td><td>21</td><td>2015-12-13T04:59:44.000+0000</td></tr><tr><td>857</td><td>Andrew Burke</td><td>20</td><td>2015-11-14T17:38:31.000+0000</td></tr><tr><td>10659</td><td>David Evans</td><td>21</td><td>2016-03-28T10:54:55.000+0000</td></tr><tr><td>8309</td><td>Vickie Acevedo</td><td>43</td><td>2017-04-09T08:19:09.000+0000</td></tr><tr><td>9267</td><td>Andrea Alexander</td><td>21</td><td>2015-11-10T09:27:42.000+0000</td></tr><tr><td>10204</td><td>Heather Gonzalez</td><td>41</td><td>2016-06-14T11:16:18.000+0000</td></tr><tr><td>1963</td><td>Andre Carey</td><td>28</td><td>2015-11-16T13:20:58.000+0000</td></tr><tr><td>301</td><td>Amanda Alvarez</td><td>21</td><td>2015-10-30T01:31:09.000+0000</td></tr><tr><td>734</td><td>Amanda Alvarez</td><td>21</td><td>2015-10-30T01:31:09.000+0000</td></tr><tr><td>5763</td><td>Anita Acosta</td><td>25</td><td>2015-11-01T01:31:22.000+0000</td></tr><tr><td>552</td><td>Regina Morales</td><td>20</td><td>2017-01-17T01:49:27.000+0000</td></tr><tr><td>1719</td><td>Jordan Jenkins</td><td>60</td><td>2017-08-19T17:07:31.000+0000</td></tr><tr><td>8699</td><td>Brandi Martin</td><td>25</td><td>2017-08-24T13:05:36.000+0000</td></tr><tr><td>7974</td><td>Aaron Anderson</td><td>21</td><td>2015-10-24T05:35:27.000+0000</td></tr><tr><td>5003</td><td>Aaron Anderson</td><td>21</td><td>2015-10-23T03:43:54.000+0000</td></tr><tr><td>6680</td><td>Sarah Buckley</td><td>51</td><td>2017-06-08T14:07:12.000+0000</td></tr><tr><td>6589</td><td>Jeffrey Gross</td><td>23</td><td>2016-03-04T06:21:39.000+0000</td></tr><tr><td>10093</td><td>Jamie Andrews</td><td>46</td><td>2016-10-11T07:57:59.000+0000</td></tr><tr><td>5117</td><td>Leah Gonzalez</td><td>21</td><td>2016-08-12T18:53:00.000+0000</td></tr><tr><td>7596</td><td>Aaron Anderson</td><td>21</td><td>2015-10-24T05:35:27.000+0000</td></tr><tr><td>9402</td><td>Andrew Anderson</td><td>23</td><td>2015-11-28T11:52:37.000+0000</td></tr><tr><td>10868</td><td>Benjamin Keith</td><td>24</td><td>2017-02-25T21:08:31.000+0000</td></tr><tr><td>709</td><td>Adam Acosta</td><td>20</td><td>2015-10-21T21:26:45.000+0000</td></tr><tr><td>8083</td><td>Nancy Sanchez</td><td>32</td><td>2016-05-21T16:43:34.000+0000</td></tr><tr><td>7078</td><td>Haley Jordan</td><td>25</td><td>2016-05-31T08:49:03.000+0000</td></tr><tr><td>3647</td><td>Amanda Allen</td><td>21</td><td>2015-11-16T23:15:00.000+0000</td></tr><tr><td>2216</td><td>Morgan Turner</td><td>30</td><td>2016-01-31T11:52:34.000+0000</td></tr><tr><td>10920</td><td>Bradley Bennett</td><td>21</td><td>2015-10-26T18:21:55.000+0000</td></tr><tr><td>3480</td><td>Amanda Allen</td><td>21</td><td>2015-11-16T23:15:00.000+0000</td></tr><tr><td>462</td><td>Albert Allison</td><td>20</td><td>2015-10-21T22:27:27.000+0000</td></tr><tr><td>10179</td><td>Alexandra Austin</td><td>22</td><td>2015-11-06T05:05:43.000+0000</td></tr><tr><td>7958</td><td>Tommy Murray</td><td>37</td><td>2015-10-22T18:00:07.000+0000</td></tr><tr><td>3556</td><td>Alison Bell</td><td>21</td><td>2016-01-07T08:11:35.000+0000</td></tr><tr><td>8159</td><td>Bradley Chapman</td><td>20</td><td>2016-02-11T23:38:24.000+0000</td></tr><tr><td>10119</td><td>Chelsea Gonzalez</td><td>43</td><td>2016-07-21T15:25:08.000+0000</td></tr><tr><td>5360</td><td>Anna Cross</td><td>38</td><td>2015-11-21T18:19:10.000+0000</td></tr><tr><td>8732</td><td>Annette Barber</td><td>43</td><td>2017-09-16T15:37:45.000+0000</td></tr><tr><td>3177</td><td>Becky Brady</td><td>21</td><td>2015-11-05T20:19:03.000+0000</td></tr><tr><td>3485</td><td>Andrew Burke</td><td>20</td><td>2015-11-14T17:38:31.000+0000</td></tr><tr><td>856</td><td>Aaron Bartlett</td><td>21</td><td>2015-11-24T02:15:36.000+0000</td></tr><tr><td>8361</td><td>Christine Cortez</td><td>23</td><td>2015-12-01T18:15:02.000+0000</td></tr><tr><td>4757</td><td>Carrie Chambers</td><td>24</td><td>2015-12-15T10:04:18.000+0000</td></tr><tr><td>2858</td><td>Anne Bond</td><td>21</td><td>2015-12-27T23:43:42.000+0000</td></tr><tr><td>8941</td><td>Andrew Anderson</td><td>23</td><td>2015-11-28T11:52:37.000+0000</td></tr><tr><td>228</td><td>Linda Mccullough</td><td>43</td><td>2015-10-22T10:04:23.000+0000</td></tr><tr><td>4271</td><td>Danielle Chambers</td><td>21</td><td>2015-12-08T00:29:58.000+0000</td></tr><tr><td>10936</td><td>Frank Howard</td><td>56</td><td>2017-04-21T18:32:30.000+0000</td></tr><tr><td>4889</td><td>Andrew Gordon</td><td>25</td><td>2015-11-17T01:31:08.000+0000</td></tr><tr><td>7529</td><td>Robert Black</td><td>53</td><td>2016-05-21T02:14:41.000+0000</td></tr><tr><td>1567</td><td>David Griffith</td><td>20</td><td>2016-01-07T19:49:22.000+0000</td></tr><tr><td>6018</td><td>Angela Everett</td><td>23</td><td>2016-02-23T11:59:45.000+0000</td></tr><tr><td>5463</td><td>Barbara Riley</td><td>24</td><td>2017-08-03T05:18:28.000+0000</td></tr><tr><td>9665</td><td>Austin Abbott</td><td>22</td><td>2015-11-07T09:52:29.000+0000</td></tr><tr><td>926</td><td>Thomas Stone</td><td>21</td><td>2016-07-18T18:19:31.000+0000</td></tr><tr><td>6498</td><td>Adrienne Barrett</td><td>22</td><td>2015-11-04T15:48:14.000+0000</td></tr><tr><td>2337</td><td>Alex Bean</td><td>24</td><td>2016-01-11T23:08:27.000+0000</td></tr><tr><td>8977</td><td>Alicia Brown</td><td>23</td><td>2016-05-27T08:41:11.000+0000</td></tr><tr><td>7500</td><td>Angela Chavez</td><td>43</td><td>2016-03-17T20:37:41.000+0000</td></tr><tr><td>5106</td><td>Brandon Mueller</td><td>28</td><td>2017-03-16T15:12:04.000+0000</td></tr><tr><td>5561</td><td>Amanda Anderson</td><td>24</td><td>2015-11-11T20:38:26.000+0000</td></tr><tr><td>7512</td><td>Andrew Bird</td><td>20</td><td>2016-11-10T21:10:11.000+0000</td></tr><tr><td>2206</td><td>Catherine Burke</td><td>27</td><td>2016-04-09T02:08:13.000+0000</td></tr><tr><td>6781</td><td>Stephen Chan</td><td>37</td><td>2017-02-26T16:11:58.000+0000</td></tr><tr><td>5365</td><td>Adam Cole</td><td>23</td><td>2015-11-15T23:49:12.000+0000</td></tr><tr><td>8385</td><td>Austin Miller</td><td>31</td><td>2015-11-25T21:28:12.000+0000</td></tr><tr><td>7642</td><td>Aaron Abbott</td><td>20</td><td>2015-10-23T16:08:41.000+0000</td></tr><tr><td>9896</td><td>Brenda Baker</td><td>22</td><td>2015-11-24T12:08:06.000+0000</td></tr><tr><td>8007</td><td>Alexander Briggs</td><td>31</td><td>2016-06-30T04:37:04.000+0000</td></tr><tr><td>4361</td><td>David Hardin</td><td>23</td><td>2016-12-05T19:08:39.000+0000</td></tr><tr><td>1811</td><td>Jasmine Buck</td><td>27</td><td>2015-12-24T10:01:06.000+0000</td></tr><tr><td>8204</td><td>David Davis</td><td>38</td><td>2016-11-20T06:55:49.000+0000</td></tr><tr><td>8509</td><td>Amber Chen</td><td>22</td><td>2015-12-30T05:21:14.000+0000</td></tr><tr><td>7031</td><td>Christopher Anderson</td><td>48</td><td>2016-06-13T17:09:14.000+0000</td></tr><tr><td>7283</td><td>Abigail Ali</td><td>20</td><td>2015-10-24T11:23:51.000+0000</td></tr><tr><td>310</td><td>Amanda Benitez</td><td>21</td><td>2015-11-01T09:16:18.000+0000</td></tr><tr><td>9700</td><td>Isabel Rogers</td><td>30</td><td>2016-10-24T17:36:15.000+0000</td></tr><tr><td>3803</td><td>Alison Cole</td><td>21</td><td>2015-11-05T13:39:57.000+0000</td></tr><tr><td>3630</td><td>Michael Mckay</td><td>44</td><td>2015-10-24T12:52:57.000+0000</td></tr><tr><td>1205</td><td>Andrew Estrada</td><td>25</td><td>2015-11-15T13:36:03.000+0000</td></tr><tr><td>8944</td><td>Aaron Lam</td><td>33</td><td>2017-04-15T12:15:53.000+0000</td></tr><tr><td>10319</td><td>Alexis Taylor</td><td>40</td><td>2016-07-24T11:25:01.000+0000</td></tr><tr><td>283</td><td>Amanda Alvarez</td><td>21</td><td>2015-10-30T01:31:09.000+0000</td></tr><tr><td>10932</td><td>Jacqueline King</td><td>36</td><td>2015-11-26T03:34:44.000+0000</td></tr><tr><td>2430</td><td>Amy Adams</td><td>20</td><td>2015-10-24T05:05:28.000+0000</td></tr><tr><td>9941</td><td>Caitlyn Baker</td><td>22</td><td>2015-11-11T17:56:54.000+0000</td></tr><tr><td>8323</td><td>Abigail Ali</td><td>20</td><td>2015-10-24T11:23:51.000+0000</td></tr><tr><td>6636</td><td>Christopher Green</td><td>34</td><td>2016-09-17T04:22:25.000+0000</td></tr><tr><td>1473</td><td>Kathleen Lawson</td><td>41</td><td>2017-02-11T19:17:19.000+0000</td></tr><tr><td>5692</td><td>Adam Bennett</td><td>22</td><td>2016-02-08T21:50:41.000+0000</td></tr><tr><td>4050</td><td>Adam Armstrong</td><td>20</td><td>2015-12-17T08:43:40.000+0000</td></tr><tr><td>6806</td><td>Christopher Daniel</td><td>25</td><td>2016-04-15T17:06:49.000+0000</td></tr><tr><td>7487</td><td>Adrian Marshall</td><td>35</td><td>2017-05-29T13:35:25.000+0000</td></tr><tr><td>867</td><td>Herbert Sawyer</td><td>45</td><td>2016-07-27T15:08:03.000+0000</td></tr><tr><td>3239</td><td>Eric Anderson</td><td>33</td><td>2016-08-07T08:38:33.000+0000</td></tr><tr><td>2267</td><td>Andrea Blankenship</td><td>27</td><td>2016-04-11T21:27:52.000+0000</td></tr><tr><td>4348</td><td>Barbara Allen</td><td>26</td><td>2015-10-30T21:57:35.000+0000</td></tr><tr><td>2304</td><td>Abigail Burch</td><td>29</td><td>2016-03-17T11:34:05.000+0000</td></tr><tr><td>5297</td><td>Carrie Hurley</td><td>42</td><td>2016-11-05T11:17:22.000+0000</td></tr><tr><td>9173</td><td>Gary Collins</td><td>25</td><td>2016-07-07T18:59:52.000+0000</td></tr><tr><td>4381</td><td>Jennifer Kelly</td><td>21</td><td>2016-02-14T12:45:08.000+0000</td></tr><tr><td>4353</td><td>Brett Oliver</td><td>24</td><td>2015-12-26T21:27:59.000+0000</td></tr><tr><td>2639</td><td>Angela Andrews</td><td>20</td><td>2015-10-28T21:44:56.000+0000</td></tr><tr><td>5911</td><td>Anna Adams</td><td>21</td><td>2015-11-27T08:22:20.000+0000</td></tr><tr><td>2140</td><td>Heather Adams</td><td>21</td><td>2015-12-30T17:47:03.000+0000</td></tr><tr><td>3774</td><td>Jacqueline Ross</td><td>49</td><td>2015-12-10T11:03:45.000+0000</td></tr><tr><td>9995</td><td>Elaine Contreras</td><td>29</td><td>2017-10-07T02:13:59.000+0000</td></tr><tr><td>1967</td><td>Jay Flynn</td><td>24</td><td>2016-05-12T16:28:27.000+0000</td></tr><tr><td>3175</td><td>David Bell</td><td>20</td><td>2016-04-15T17:11:11.000+0000</td></tr><tr><td>6359</td><td>Wendy Benjamin</td><td>55</td><td>2016-04-01T22:44:15.000+0000</td></tr><tr><td>10570</td><td>David Evans</td><td>21</td><td>2016-03-28T10:54:55.000+0000</td></tr><tr><td>2532</td><td>Danielle Hernandez</td><td>24</td><td>2016-03-24T23:39:08.000+0000</td></tr><tr><td>791</td><td>Collin Chen</td><td>26</td><td>2016-06-01T06:11:16.000+0000</td></tr><tr><td>6937</td><td>Amanda Brewer</td><td>31</td><td>2016-04-05T12:30:56.000+0000</td></tr><tr><td>8212</td><td>Benjamin Adams</td><td>24</td><td>2015-10-25T03:23:53.000+0000</td></tr><tr><td>4574</td><td>Barbara Allen</td><td>26</td><td>2015-10-30T21:57:35.000+0000</td></tr><tr><td>3428</td><td>Abigail Ali</td><td>20</td><td>2015-10-24T11:23:51.000+0000</td></tr><tr><td>3911</td><td>Erin Armstrong</td><td>32</td><td>2016-01-19T16:19:41.000+0000</td></tr><tr><td>8452</td><td>Aaron Anderson</td><td>21</td><td>2015-10-24T05:35:27.000+0000</td></tr><tr><td>6797</td><td>Janet Shaw</td><td>27</td><td>2016-11-02T03:54:55.000+0000</td></tr><tr><td>8946</td><td>Patty Chang</td><td>42</td><td>2016-07-17T16:11:13.000+0000</td></tr><tr><td>4220</td><td>Kevin Davis</td><td>32</td><td>2015-12-01T14:33:10.000+0000</td></tr><tr><td>7258</td><td>Michael Snyder</td><td>44</td><td>2017-07-05T17:32:12.000+0000</td></tr><tr><td>9433</td><td>Charles Bowen</td><td>28</td><td>2016-04-09T00:36:10.000+0000</td></tr><tr><td>9539</td><td>Daniel Dorsey</td><td>26</td><td>2016-05-30T04:59:21.000+0000</td></tr><tr><td>9766</td><td>Alex Barnes</td><td>20</td><td>2016-02-27T21:13:44.000+0000</td></tr><tr><td>4497</td><td>Ashley Gentry</td><td>20</td><td>2015-11-12T00:58:51.000+0000</td></tr><tr><td>9496</td><td>Maxwell James</td><td>52</td><td>2016-07-12T11:24:37.000+0000</td></tr><tr><td>4634</td><td>Alexandra Burns</td><td>29</td><td>2015-12-31T18:00:25.000+0000</td></tr><tr><td>63</td><td>Adam Acosta</td><td>20</td><td>2015-10-21T21:26:45.000+0000</td></tr><tr><td>3977</td><td>Abigail Allen</td><td>20</td><td>2015-11-12T14:40:14.000+0000</td></tr><tr><td>4420</td><td>Abigail Barry</td><td>21</td><td>2015-12-03T10:40:24.000+0000</td></tr><tr><td>4157</td><td>Bernard Davis</td><td>30</td><td>2015-12-16T01:03:02.000+0000</td></tr><tr><td>5322</td><td>Angela Griffin</td><td>55</td><td>2016-10-22T19:06:59.000+0000</td></tr><tr><td>5526</td><td>Arthur Hernandez</td><td>42</td><td>2015-11-01T14:19:20.000+0000</td></tr><tr><td>8146</td><td>Brandon Berg</td><td>52</td><td>2016-11-03T14:42:54.000+0000</td></tr><tr><td>9539</td><td>Daniel Dorsey</td><td>26</td><td>2016-05-30T04:59:21.000+0000</td></tr><tr><td>1550</td><td>Julie Branch</td><td>46</td><td>2017-06-04T06:45:13.000+0000</td></tr><tr><td>372</td><td>Alicia Avila</td><td>20</td><td>2016-01-26T01:49:23.000+0000</td></tr><tr><td>3475</td><td>Alexandria Alvarado</td><td>20</td><td>2015-10-23T04:13:23.000+0000</td></tr><tr><td>9072</td><td>Anthony Mason</td><td>34</td><td>2015-11-04T06:24:08.000+0000</td></tr><tr><td>2928</td><td>Caitlin Smith</td><td>52</td><td>2016-02-14T10:15:47.000+0000</td></tr><tr><td>2908</td><td>Albert Calderon</td><td>21</td><td>2015-11-01T08:04:39.000+0000</td></tr><tr><td>8164</td><td>Dustin Turner</td><td>30</td><td>2016-05-11T07:28:15.000+0000</td></tr><tr><td>3320</td><td>Charles Braun</td><td>22</td><td>2015-12-19T11:12:21.000+0000</td></tr><tr><td>497</td><td>Adam Acosta</td><td>20</td><td>2015-10-21T21:26:45.000+0000</td></tr><tr><td>6936</td><td>Alan Newman</td><td>37</td><td>2016-06-22T01:47:16.000+0000</td></tr><tr><td>7790</td><td>Michelle Gutierrez</td><td>39</td><td>2017-07-19T07:12:04.000+0000</td></tr><tr><td>3747</td><td>Todd Ross</td><td>29</td><td>2017-04-14T19:58:13.000+0000</td></tr><tr><td>6521</td><td>Christian Cruz</td><td>26</td><td>2015-11-03T06:28:57.000+0000</td></tr><tr><td>10078</td><td>Laura Jefferson</td><td>20</td><td>2016-02-14T15:45:12.000+0000</td></tr><tr><td>7645</td><td>Benjamin Adams</td><td>24</td><td>2015-10-25T03:23:53.000+0000</td></tr><tr><td>10329</td><td>Holly Kent</td><td>30</td><td>2017-02-25T19:24:53.000+0000</td></tr><tr><td>7914</td><td>Bradley Hernandez</td><td>50</td><td>2016-07-23T22:52:16.000+0000</td></tr><tr><td>3992</td><td>Michael Taylor</td><td>29</td><td>2016-06-07T15:09:15.000+0000</td></tr><tr><td>6188</td><td>Barry Hunt</td><td>28</td><td>2017-01-07T04:44:38.000+0000</td></tr><tr><td>8887</td><td>Austin Rodriguez</td><td>24</td><td>2016-03-31T20:56:39.000+0000</td></tr><tr><td>3281</td><td>Grant George</td><td>27</td><td>2015-11-11T01:45:05.000+0000</td></tr><tr><td>5457</td><td>Alexis Bell</td><td>20</td><td>2015-11-23T06:34:47.000+0000</td></tr><tr><td>3287</td><td>Andrew Burke</td><td>20</td><td>2015-11-14T17:38:31.000+0000</td></tr><tr><td>9117</td><td>Amanda Adams</td><td>20</td><td>2015-10-21T08:27:36.000+0000</td></tr><tr><td>7182</td><td>Christine Leon</td><td>36</td><td>2017-06-21T11:07:33.000+0000</td></tr><tr><td>117</td><td>Alexandra Mendoza</td><td>51</td><td>2016-03-23T19:05:18.000+0000</td></tr><tr><td>2732</td><td>Becky Brady</td><td>21</td><td>2015-11-05T20:19:03.000+0000</td></tr><tr><td>4724</td><td>Chad Burns</td><td>34</td><td>2016-02-08T06:32:33.000+0000</td></tr><tr><td>8477</td><td>Ryan Adams</td><td>58</td><td>2016-07-11T22:23:30.000+0000</td></tr><tr><td>809</td><td>Andrew Winters</td><td>20</td><td>2016-04-17T14:14:11.000+0000</td></tr><tr><td>7683</td><td>Benjamin Adams</td><td>24</td><td>2015-10-25T03:23:53.000+0000</td></tr><tr><td>9333</td><td>Andrew Anderson</td><td>23</td><td>2015-11-28T11:52:37.000+0000</td></tr><tr><td>1735</td><td>Alice Bennett</td><td>28</td><td>2016-05-03T03:50:42.000+0000</td></tr><tr><td>1919</td><td>Amanda Brown</td><td>25</td><td>2016-07-03T05:41:35.000+0000</td></tr><tr><td>2633</td><td>Abigail Burch</td><td>29</td><td>2016-03-17T11:34:05.000+0000</td></tr><tr><td>8552</td><td>Aaron Abbott</td><td>20</td><td>2015-10-23T16:08:41.000+0000</td></tr><tr><td>2529</td><td>Nicole Mcintosh</td><td>29</td><td>2016-03-07T21:15:54.000+0000</td></tr><tr><td>3723</td><td>Antonio Davis</td><td>21</td><td>2015-12-05T06:09:18.000+0000</td></tr><tr><td>4224</td><td>Alison Cole</td><td>21</td><td>2015-11-05T13:39:57.000+0000</td></tr><tr><td>8808</td><td>Albert Adams</td><td>21</td><td>2015-11-05T22:07:56.000+0000</td></tr><tr><td>443</td><td>Carla Atkins</td><td>49</td><td>2016-05-08T20:29:33.000+0000</td></tr><tr><td>9582</td><td>Christopher Hawkins</td><td>45</td><td>2016-09-15T06:02:53.000+0000</td></tr><tr><td>414</td><td>Aaron Bartlett</td><td>21</td><td>2015-11-24T02:15:36.000+0000</td></tr><tr><td>9020</td><td>Natalie Davis</td><td>22</td><td>2016-02-06T07:52:27.000+0000</td></tr><tr><td>3937</td><td>Caroline Carlson</td><td>31</td><td>2015-10-22T08:40:35.000+0000</td></tr><tr><td>5083</td><td>Sharon Woodward</td><td>44</td><td>2017-04-25T23:49:22.000+0000</td></tr><tr><td>3683</td><td>David Anderson</td><td>21</td><td>2016-02-08T10:08:32.000+0000</td></tr><tr><td>2861</td><td>Elizabeth Terry</td><td>28</td><td>2016-01-29T20:32:05.000+0000</td></tr><tr><td>2237</td><td>Ashley Gentry</td><td>20</td><td>2015-11-12T00:58:51.000+0000</td></tr><tr><td>10675</td><td>Christopher Combs</td><td>42</td><td>2016-02-08T16:47:33.000+0000</td></tr><tr><td>9106</td><td>Jeremy Hebert</td><td>47</td><td>2017-09-18T13:53:40.000+0000</td></tr><tr><td>10158</td><td>Brendan Joseph</td><td>26</td><td>2015-12-20T10:28:00.000+0000</td></tr><tr><td>10505</td><td>Erik Mann</td><td>25</td><td>2016-03-01T10:17:28.000+0000</td></tr><tr><td>10711</td><td>David Evans</td><td>21</td><td>2016-03-28T10:54:55.000+0000</td></tr><tr><td>5283</td><td>George Allen</td><td>53</td><td>2016-02-15T13:30:18.000+0000</td></tr><tr><td>10582</td><td>Jessica Cline</td><td>39</td><td>2017-07-12T12:51:57.000+0000</td></tr><tr><td>5570</td><td>Joann Anderson</td><td>33</td><td>2016-02-15T02:19:16.000+0000</td></tr><tr><td>1969</td><td>Christopher Haynes</td><td>25</td><td>2016-02-14T23:08:47.000+0000</td></tr><tr><td>10278</td><td>Christopher Fox</td><td>44</td><td>2016-10-26T03:56:51.000+0000</td></tr><tr><td>2316</td><td>Nicole Mitchell</td><td>47</td><td>2017-09-01T01:16:25.000+0000</td></tr><tr><td>3757</td><td>Corey Andrews</td><td>23</td><td>2015-11-25T13:36:22.000+0000</td></tr><tr><td>7886</td><td>Aaron Abbott</td><td>20</td><td>2015-10-23T16:08:41.000+0000</td></tr><tr><td>4036</td><td>Jennifer Pitts</td><td>43</td><td>2016-01-30T21:28:23.000+0000</td></tr><tr><td>4159</td><td>Darryl Alexander</td><td>25</td><td>2015-12-02T11:20:58.000+0000</td></tr><tr><td>10444</td><td>Cody Cochran</td><td>24</td><td>2015-11-28T02:20:00.000+0000</td></tr><tr><td>7260</td><td>Angel Brown</td><td>28</td><td>2016-02-19T11:07:31.000+0000</td></tr><tr><td>6675</td><td>Ryan Long</td><td>50</td><td>2017-10-12T11:47:53.000+0000</td></tr><tr><td>612</td><td>Candice Carr</td><td>28</td><td>2016-09-20T21:03:30.000+0000</td></tr><tr><td>601</td><td>Amanda Alvarez</td><td>21</td><td>2015-10-30T01:31:09.000+0000</td></tr><tr><td>2756</td><td>Christopher Brown</td><td>21</td><td>2016-05-23T23:48:56.000+0000</td></tr><tr><td>6122</td><td>Andrew Duncan</td><td>30</td><td>2016-01-08T05:22:50.000+0000</td></tr><tr><td>891</td><td>Sandra Allen</td><td>60</td><td>2016-12-16T14:41:24.000+0000</td></tr><tr><td>2665</td><td>Amber Casey</td><td>23</td><td>2016-01-06T12:22:08.000+0000</td></tr><tr><td>9602</td><td>Alice Nicholson</td><td>46</td><td>2016-11-22T02:52:41.000+0000</td></tr><tr><td>8501</td><td>April Barr</td><td>26</td><td>2016-02-06T19:00:11.000+0000</td></tr><tr><td>1757</td><td>Andrew Alvarez</td><td>21</td><td>2015-11-10T12:55:13.000+0000</td></tr><tr><td>4164</td><td>Paul Johnson</td><td>27</td><td>2015-12-25T02:56:59.000+0000</td></tr><tr><td>10068</td><td>Kevin Marquez</td><td>47</td><td>2016-03-08T02:26:43.000+0000</td></tr><tr><td>884</td><td>Daniel Valentine</td><td>46</td><td>2017-01-17T18:12:39.000+0000</td></tr><tr><td>4463</td><td>Allison Adams</td><td>22</td><td>2015-11-30T10:51:59.000+0000</td></tr><tr><td>5357</td><td>Casey Perry</td><td>55</td><td>2017-05-05T03:44:58.000+0000</td></tr><tr><td>2183</td><td>Courtney Barton</td><td>20</td><td>2017-05-02T10:41:29.000+0000</td></tr><tr><td>6041</td><td>Heather Arellano</td><td>23</td><td>2016-01-02T03:36:30.000+0000</td></tr><tr><td>5252</td><td>Ann Acevedo</td><td>22</td><td>2016-01-26T15:27:05.000+0000</td></tr></tbody></table>Showing the first 1000 rows.</div>"
      ]
     },
     "metadata": {
      "application/vnd.databricks.v1+output": {
       "addedWidgets": {},
       "aggData": [],
       "aggError": "",
       "aggOverflow": false,
       "aggSchema": [],
       "aggSeriesLimitReached": false,
       "aggType": "",
       "arguments": {},
       "columnCustomDisplayInfos": {},
       "data": [
        [
         7528,
         "Abigail Ali",
         "20",
         "2015-10-24T11:23:51.000+0000"
        ],
        [
         2863,
         "Dylan Holmes",
         "32",
         "2016-10-23T14:06:51.000+0000"
        ],
        [
         5730,
         "Rachel Davis",
         "36",
         "2015-12-08T20:02:43.000+0000"
        ],
        [
         8304,
         "Charles Berry",
         "25",
         "2015-12-28T04:21:39.000+0000"
        ],
        [
         8731,
         "Andrea Alexander",
         "21",
         "2015-11-10T09:27:42.000+0000"
        ],
        [
         1313,
         "Brittany Jones",
         "32",
         "2016-04-02T03:51:23.000+0000"
        ],
        [
         4315,
         "Michelle Prince",
         "36",
         "2015-12-20T16:38:13.000+0000"
        ],
        [
         10794,
         "Thomas Turner",
         "34",
         "2016-12-22T00:02:02.000+0000"
        ],
        [
         5494,
         "Anne Allen",
         "27",
         "2015-12-16T15:20:05.000+0000"
        ],
        [
         5069,
         "Amanda Ball",
         "25",
         "2016-01-13T17:36:30.000+0000"
        ],
        [
         2923,
         "Brian Nelson",
         "26",
         "2015-11-11T03:20:57.000+0000"
        ],
        [
         3089,
         "Abigail Ali",
         "20",
         "2015-10-24T11:23:51.000+0000"
        ],
        [
         6063,
         "Corey Andrews",
         "23",
         "2015-11-25T13:36:22.000+0000"
        ],
        [
         3454,
         "Robert Murphy",
         "48",
         "2017-09-26T16:31:56.000+0000"
        ],
        [
         7554,
         "Cheryl Huerta",
         "20",
         "2017-04-11T16:35:33.000+0000"
        ],
        [
         6145,
         "Emily Hawkins",
         "30",
         "2015-12-25T20:24:37.000+0000"
        ],
        [
         10625,
         "Christian Lang",
         "32",
         "2017-10-10T20:09:33.000+0000"
        ],
        [
         2959,
         "David Griffith",
         "20",
         "2016-01-07T19:49:22.000+0000"
        ],
        [
         9875,
         "Brendan Joseph",
         "26",
         "2015-12-20T10:28:00.000+0000"
        ],
        [
         2418,
         "Amanda Adams",
         "20",
         "2015-10-21T08:27:36.000+0000"
        ],
        [
         3156,
         "Andrew Baker",
         "22",
         "2015-12-21T08:06:54.000+0000"
        ],
        [
         428,
         "Claudia Adams",
         "20",
         "2015-11-28T02:20:29.000+0000"
        ],
        [
         7343,
         "Anne Clayton",
         "24",
         "2016-01-11T12:03:48.000+0000"
        ],
        [
         2074,
         "Annette Forbes",
         "21",
         "2016-01-03T15:42:12.000+0000"
        ],
        [
         9979,
         "Kaylee Miller",
         "31",
         "2016-11-09T19:50:51.000+0000"
        ],
        [
         10138,
         "Carol Silva",
         "22",
         "2015-12-31T14:57:02.000+0000"
        ],
        [
         9672,
         "Jennifer Hudson",
         "22",
         "2016-02-11T20:46:04.000+0000"
        ],
        [
         8653,
         "Tammy Davis",
         "24",
         "2016-03-09T10:48:14.000+0000"
        ],
        [
         8887,
         "Austin Rodriguez",
         "24",
         "2016-03-31T20:56:39.000+0000"
        ],
        [
         7922,
         "Denise Adams",
         "21",
         "2015-11-12T06:21:36.000+0000"
        ],
        [
         1014,
         "Gregory Ramsey",
         "56",
         "2016-10-15T17:21:39.000+0000"
        ],
        [
         4913,
         "Angela Brooks",
         "24",
         "2015-11-20T05:37:11.000+0000"
        ],
        [
         4137,
         "Michael Decker",
         "59",
         "2017-06-29T22:35:17.000+0000"
        ],
        [
         7166,
         "Alvin Adams",
         "20",
         "2016-01-01T13:50:40.000+0000"
        ],
        [
         9546,
         "Alex Barnes",
         "20",
         "2016-02-27T21:13:44.000+0000"
        ],
        [
         2411,
         "Aaron Bartlett",
         "21",
         "2015-11-24T02:15:36.000+0000"
        ],
        [
         9590,
         "Amanda Allen",
         "22",
         "2015-10-24T18:56:30.000+0000"
        ],
        [
         2698,
         "Kayla Burton",
         "44",
         "2017-06-21T19:53:27.000+0000"
        ],
        [
         4508,
         "Michael Carter",
         "58",
         "2016-06-03T23:35:30.000+0000"
        ],
        [
         831,
         "Aimee Collins",
         "28",
         "2016-06-16T02:06:38.000+0000"
        ],
        [
         5076,
         "Christopher Butler",
         "20",
         "2015-12-01T15:08:31.000+0000"
        ],
        [
         10663,
         "Julie Cox",
         "23",
         "2016-06-23T14:38:00.000+0000"
        ],
        [
         5468,
         "Lisa Gamble",
         "20",
         "2016-07-23T20:51:06.000+0000"
        ],
        [
         205,
         "Brett Bryant",
         "20",
         "2015-10-23T12:40:19.000+0000"
        ],
        [
         7790,
         "Michelle Gutierrez",
         "39",
         "2017-07-19T07:12:04.000+0000"
        ],
        [
         8606,
         "Denise Adams",
         "21",
         "2015-11-12T06:21:36.000+0000"
        ],
        [
         9759,
         "Daniel Brooks",
         "25",
         "2015-11-19T21:24:33.000+0000"
        ],
        [
         719,
         "Alicia Avila",
         "20",
         "2016-01-26T01:49:23.000+0000"
        ],
        [
         1704,
         "Barry Lynn",
         "20",
         "2015-10-28T05:00:33.000+0000"
        ],
        [
         2482,
         "David Moss",
         "22",
         "2016-03-01T07:11:48.000+0000"
        ],
        [
         8930,
         "Andrew Anderson",
         "23",
         "2015-11-28T11:52:37.000+0000"
        ],
        [
         7294,
         "Dawn Anderson",
         "20",
         "2016-12-31T00:06:36.000+0000"
        ],
        [
         808,
         "Aaron Bartlett",
         "21",
         "2015-11-24T02:15:36.000+0000"
        ],
        [
         771,
         "Brittany Butler",
         "32",
         "2016-03-10T04:11:31.000+0000"
        ],
        [
         4076,
         "Larry Pineda",
         "20",
         "2015-10-23T22:47:39.000+0000"
        ],
        [
         1545,
         "Jonathan Avila",
         "46",
         "2015-11-27T23:11:21.000+0000"
        ],
        [
         2293,
         "Alex Bean",
         "24",
         "2016-01-11T23:08:27.000+0000"
        ],
        [
         10509,
         "Brittany Thompson",
         "49",
         "2016-04-22T20:36:02.000+0000"
        ],
        [
         2015,
         "Christopher Bradshaw",
         "27",
         "2016-03-08T13:38:37.000+0000"
        ],
        [
         1094,
         "Ann Elliott",
         "20",
         "2016-07-02T02:32:30.000+0000"
        ],
        [
         603,
         "Brandon Jackson",
         "44",
         "2016-10-29T02:07:21.000+0000"
        ],
        [
         7768,
         "Christine Cortez",
         "23",
         "2015-12-01T18:15:02.000+0000"
        ],
        [
         5630,
         "Carlos Estrada",
         "22",
         "2016-02-09T17:01:38.000+0000"
        ],
        [
         8578,
         "Joe Pham",
         "48",
         "2017-06-01T23:13:27.000+0000"
        ],
        [
         9936,
         "Anthony Cantu",
         "28",
         "2016-11-15T10:40:03.000+0000"
        ],
        [
         6844,
         "Peter Roberts",
         "30",
         "2016-07-03T10:59:40.000+0000"
        ],
        [
         3419,
         "Aaron Jenkins",
         "47",
         "2017-04-26T03:26:23.000+0000"
        ],
        [
         1268,
         "Donna Campbell",
         "32",
         "2016-06-08T22:10:13.000+0000"
        ],
        [
         6566,
         "Alexander Perez",
         "31",
         "2017-08-04T14:30:22.000+0000"
        ],
        [
         1555,
         "Alexis Bennett",
         "54",
         "2016-05-15T04:22:01.000+0000"
        ],
        [
         3729,
         "Richard Edwards",
         "52",
         "2016-02-07T20:00:25.000+0000"
        ],
        [
         6398,
         "Christina Davenport",
         "39",
         "2016-06-29T20:43:59.000+0000"
        ],
        [
         46,
         "Erik Kelley",
         "30",
         "2016-01-06T09:58:56.000+0000"
        ],
        [
         4988,
         "Rhonda Durham",
         "25",
         "2017-07-20T05:51:23.000+0000"
        ],
        [
         427,
         "Jon Burke",
         "25",
         "2015-11-26T17:42:37.000+0000"
        ],
        [
         3800,
         "Adam Armstrong",
         "20",
         "2015-12-17T08:43:40.000+0000"
        ],
        [
         159,
         "Alison Bell",
         "21",
         "2016-01-07T08:11:35.000+0000"
        ],
        [
         3599,
         "Alexandria Alvarado",
         "20",
         "2015-10-23T04:13:23.000+0000"
        ],
        [
         10552,
         "Michael Hunter",
         "40",
         "2017-05-16T07:09:21.000+0000"
        ],
        [
         1422,
         "Aaron Abbott",
         "20",
         "2015-10-31T18:51:07.000+0000"
        ],
        [
         5309,
         "Daniel Roy",
         "31",
         "2016-03-07T01:01:24.000+0000"
        ],
        [
         552,
         "Regina Morales",
         "20",
         "2017-01-17T01:49:27.000+0000"
        ],
        [
         1371,
         "Amanda Brown",
         "20",
         "2015-11-12T03:23:49.000+0000"
        ],
        [
         10119,
         "Chelsea Gonzalez",
         "43",
         "2016-07-21T15:25:08.000+0000"
        ],
        [
         9074,
         "Aaron Alexander",
         "21",
         "2015-10-25T07:36:08.000+0000"
        ],
        [
         2604,
         "Ashley Evans",
         "30",
         "2016-02-21T12:54:01.000+0000"
        ],
        [
         223,
         "Melanie Hill",
         "51",
         "2016-10-09T14:47:51.000+0000"
        ],
        [
         8312,
         "Daniel Brooks",
         "25",
         "2015-11-19T21:24:33.000+0000"
        ],
        [
         2858,
         "Anne Bond",
         "21",
         "2015-12-27T23:43:42.000+0000"
        ],
        [
         6261,
         "Nicholas Hart",
         "38",
         "2015-10-26T09:45:45.000+0000"
        ],
        [
         3201,
         "Elizabeth Terry",
         "28",
         "2016-01-29T20:32:05.000+0000"
        ],
        [
         2637,
         "Shawn Jones",
         "32",
         "2016-08-23T20:36:12.000+0000"
        ],
        [
         1198,
         "Ariana Gross",
         "59",
         "2016-12-17T11:10:48.000+0000"
        ],
        [
         10370,
         "Derrick Kim",
         "30",
         "2016-12-21T13:39:14.000+0000"
        ],
        [
         7167,
         "Dawn Bradley",
         "20",
         "2016-08-26T16:09:52.000+0000"
        ],
        [
         10673,
         "Alexander Cervantes",
         "59",
         "2017-05-12T21:22:17.000+0000"
        ],
        [
         2060,
         "Joshua Long",
         "27",
         "2016-12-18T10:11:23.000+0000"
        ],
        [
         9487,
         "Jose Bailey",
         "21",
         "2016-01-10T09:41:14.000+0000"
        ],
        [
         772,
         "Glenn Hammond",
         "25",
         "2016-04-27T02:59:27.000+0000"
        ],
        [
         7510,
         "Debra Becker",
         "20",
         "2016-07-27T06:20:48.000+0000"
        ],
        [
         5758,
         "Amanda Arnold",
         "20",
         "2015-10-26T23:04:52.000+0000"
        ],
        [
         1137,
         "Virginia Vega",
         "38",
         "2017-05-03T03:08:33.000+0000"
        ],
        [
         7234,
         "Angela Allen",
         "20",
         "2015-10-26T04:12:32.000+0000"
        ],
        [
         327,
         "Jill Taylor",
         "39",
         "2015-12-04T03:15:28.000+0000"
        ],
        [
         7874,
         "Aaron Abbott",
         "20",
         "2015-10-23T16:08:41.000+0000"
        ],
        [
         1450,
         "Aaron Abbott",
         "20",
         "2015-10-31T18:51:07.000+0000"
        ],
        [
         10245,
         "Julie Cook",
         "34",
         "2016-05-08T16:27:01.000+0000"
        ],
        [
         9093,
         "Albert Adams",
         "21",
         "2015-11-05T22:07:56.000+0000"
        ],
        [
         2301,
         "Karina Morton",
         "31",
         "2016-01-21T12:53:34.000+0000"
        ],
        [
         2788,
         "Jesus Arellano",
         "43",
         "2016-03-22T15:45:21.000+0000"
        ],
        [
         9268,
         "Alexander Bailey",
         "20",
         "2015-10-30T11:37:32.000+0000"
        ],
        [
         1706,
         "Amy Adams",
         "20",
         "2015-10-24T05:05:28.000+0000"
        ],
        [
         5293,
         "David Taylor",
         "36",
         "2016-06-03T23:53:50.000+0000"
        ],
        [
         7733,
         "Aaron Abbott",
         "20",
         "2015-10-23T16:08:41.000+0000"
        ],
        [
         3716,
         "Catherine Ferrell",
         "21",
         "2017-01-02T03:01:09.000+0000"
        ],
        [
         3750,
         "Gary Barker",
         "28",
         "2015-11-26T11:23:50.000+0000"
        ],
        [
         232,
         "Sarah Buchanan",
         "33",
         "2017-04-19T08:49:40.000+0000"
        ],
        [
         8300,
         "Nathan Stanton",
         "51",
         "2017-08-14T08:26:30.000+0000"
        ],
        [
         8978,
         "Mark Jones",
         "34",
         "2017-08-22T00:01:29.000+0000"
        ],
        [
         2048,
         "Ann Chung",
         "22",
         "2015-11-18T23:11:15.000+0000"
        ],
        [
         10337,
         "Carrie Parker",
         "46",
         "2016-09-11T22:32:50.000+0000"
        ],
        [
         7832,
         "Samuel Hawkins",
         "39",
         "2016-06-30T02:56:06.000+0000"
        ],
        [
         8366,
         "Justin Ewing",
         "56",
         "2016-02-04T23:27:36.000+0000"
        ],
        [
         3334,
         "Amber Casey",
         "23",
         "2016-01-06T12:22:08.000+0000"
        ],
        [
         778,
         "Christine Adams",
         "31",
         "2016-02-06T10:22:53.000+0000"
        ],
        [
         480,
         "Timothy Sullivan",
         "40",
         "2017-01-12T08:37:12.000+0000"
        ],
        [
         3011,
         "Justin Singleton",
         "20",
         "2017-03-10T19:53:44.000+0000"
        ],
        [
         9475,
         "Jessica Mejia",
         "40",
         "2016-01-03T12:03:05.000+0000"
        ],
        [
         7586,
         "Aaron Alexander",
         "21",
         "2015-10-25T07:36:08.000+0000"
        ],
        [
         1864,
         "Alexander Adams",
         "32",
         "2015-10-28T15:48:24.000+0000"
        ],
        [
         6014,
         "Mary Luna",
         "22",
         "2016-01-02T01:40:52.000+0000"
        ],
        [
         1967,
         "Jay Flynn",
         "24",
         "2016-05-12T16:28:27.000+0000"
        ],
        [
         1699,
         "Brandon Cummings",
         "22",
         "2016-05-11T01:36:00.000+0000"
        ],
        [
         4996,
         "John Anderson",
         "27",
         "2016-03-03T07:28:39.000+0000"
        ],
        [
         10168,
         "Nicole Gray",
         "53",
         "2016-02-20T13:03:00.000+0000"
        ],
        [
         5333,
         "Aaron Clark",
         "35",
         "2016-11-19T22:36:49.000+0000"
        ],
        [
         2565,
         "Anthony Adkins",
         "21",
         "2015-10-28T03:59:42.000+0000"
        ],
        [
         9778,
         "Holly Campbell",
         "30",
         "2016-07-08T19:10:37.000+0000"
        ],
        [
         3145,
         "Crystal Schmidt",
         "22",
         "2017-04-14T13:57:52.000+0000"
        ],
        [
         1341,
         "Abigail Ali",
         "20",
         "2015-10-24T11:23:51.000+0000"
        ],
        [
         5162,
         "James Jacobson",
         "28",
         "2017-04-30T16:41:26.000+0000"
        ],
        [
         5151,
         "Mary Jordan",
         "26",
         "2017-06-12T16:02:59.000+0000"
        ],
        [
         2498,
         "Jeremy Chase",
         "50",
         "2017-07-31T16:56:52.000+0000"
        ],
        [
         7268,
         "Alejandra Acevedo",
         "20",
         "2015-11-24T21:01:23.000+0000"
        ],
        [
         3351,
         "Eric Taylor",
         "39",
         "2017-04-04T06:05:03.000+0000"
        ],
        [
         7738,
         "Alexis George",
         "34",
         "2016-02-26T00:38:01.000+0000"
        ],
        [
         8886,
         "Abigail Bates",
         "20",
         "2015-11-07T20:59:32.000+0000"
        ],
        [
         5742,
         "Barbara Edwards",
         "24",
         "2016-01-09T19:37:29.000+0000"
        ],
        [
         1362,
         "Nancy Case",
         "23",
         "2016-02-18T08:44:33.000+0000"
        ],
        [
         995,
         "Jason Horne",
         "27",
         "2016-02-06T15:31:57.000+0000"
        ],
        [
         6250,
         "Lydia Nelson",
         "59",
         "2016-09-06T06:21:57.000+0000"
        ],
        [
         3184,
         "Allison Dawson",
         "35",
         "2016-02-04T14:45:39.000+0000"
        ],
        [
         2955,
         "Kevin Young",
         "58",
         "2016-09-18T07:28:19.000+0000"
        ],
        [
         4357,
         "Allison Adams",
         "22",
         "2015-11-30T10:51:59.000+0000"
        ],
        [
         3563,
         "Gerald Davis",
         "55",
         "2017-08-11T14:24:41.000+0000"
        ],
        [
         6558,
         "Gary Tanner",
         "43",
         "2016-11-29T22:22:47.000+0000"
        ],
        [
         4256,
         "Alexandria Alvarado",
         "20",
         "2015-10-23T04:13:23.000+0000"
        ],
        [
         450,
         "Amanda Benitez",
         "21",
         "2015-11-01T09:16:18.000+0000"
        ],
        [
         3945,
         "Beth Johnson",
         "30",
         "2015-11-29T15:45:13.000+0000"
        ],
        [
         859,
         "Scott Page",
         "44",
         "2015-10-31T14:35:30.000+0000"
        ],
        [
         1521,
         "Mindy Garrison",
         "29",
         "2016-02-18T23:18:39.000+0000"
        ],
        [
         1961,
         "Adrienne Barrett",
         "22",
         "2015-11-04T15:48:14.000+0000"
        ],
        [
         10099,
         "Amanda Carlson",
         "21",
         "2015-11-23T09:01:37.000+0000"
        ],
        [
         6066,
         "Angela Flores",
         "28",
         "2015-10-29T08:51:34.000+0000"
        ],
        [
         10837,
         "Mark Richardson",
         "55",
         "2015-11-18T05:46:35.000+0000"
        ],
        [
         6615,
         "Barry West",
         "44",
         "2016-08-13T21:13:14.000+0000"
        ],
        [
         7641,
         "Aaron Anderson",
         "21",
         "2015-10-24T05:35:27.000+0000"
        ],
        [
         640,
         "Aaron Anderson",
         "21",
         "2015-10-24T05:35:27.000+0000"
        ],
        [
         8174,
         "Andrew Brown",
         "25",
         "2016-03-26T04:30:23.000+0000"
        ],
        [
         1216,
         "Juan Cortez",
         "20",
         "2016-04-07T13:02:08.000+0000"
        ],
        [
         680,
         "Diana Ballard",
         "23",
         "2017-01-12T11:17:31.000+0000"
        ],
        [
         9527,
         "Vernon Brown",
         "55",
         "2017-08-04T01:04:25.000+0000"
        ],
        [
         9426,
         "Nicholas Mcdaniel",
         "45",
         "2017-05-24T01:41:26.000+0000"
        ],
        [
         8745,
         "Grant Villanueva",
         "53",
         "2016-02-14T19:17:10.000+0000"
        ],
        [
         5959,
         "Jason Brooks",
         "28",
         "2015-12-21T00:33:51.000+0000"
        ],
        [
         2577,
         "Amy Adams",
         "20",
         "2015-10-24T05:05:28.000+0000"
        ],
        [
         3008,
         "Scott Houston",
         "58",
         "2016-10-22T16:08:50.000+0000"
        ],
        [
         8081,
         "Carmen Taylor",
         "40",
         "2016-08-02T19:06:12.000+0000"
        ],
        [
         10120,
         "Jacob Baird",
         "24",
         "2016-02-25T08:52:45.000+0000"
        ],
        [
         4045,
         "Amanda Allen",
         "21",
         "2015-11-16T23:15:00.000+0000"
        ],
        [
         1599,
         "Linda Rojas",
         "42",
         "2017-01-31T05:08:14.000+0000"
        ],
        [
         2893,
         "Nancy Choi",
         "50",
         "2016-07-27T16:22:59.000+0000"
        ],
        [
         4024,
         "Adam Armstrong",
         "20",
         "2015-12-17T08:43:40.000+0000"
        ],
        [
         310,
         "Amanda Benitez",
         "21",
         "2015-11-01T09:16:18.000+0000"
        ],
        [
         7905,
         "Anthony Duncan",
         "47",
         "2016-01-01T03:57:19.000+0000"
        ],
        [
         5488,
         "Heather Edwards",
         "33",
         "2016-01-16T18:25:10.000+0000"
        ],
        [
         744,
         "Brian Lloyd",
         "38",
         "2016-12-15T07:06:03.000+0000"
        ],
        [
         7801,
         "Nancy Clay",
         "36",
         "2016-01-12T18:33:12.000+0000"
        ],
        [
         5620,
         "Daniel Anderson",
         "20",
         "2017-02-10T13:39:15.000+0000"
        ],
        [
         8341,
         "Amber Robinson",
         "31",
         "2016-09-05T14:41:44.000+0000"
        ],
        [
         10022,
         "Alyssa Greene",
         "50",
         "2017-05-03T07:29:04.000+0000"
        ],
        [
         6134,
         "Jacob Baker",
         "33",
         "2015-11-29T07:33:20.000+0000"
        ],
        [
         3824,
         "Aaron Berry",
         "28",
         "2016-04-12T03:40:13.000+0000"
        ],
        [
         7116,
         "Michael Mcconnell",
         "59",
         "2017-06-01T10:55:10.000+0000"
        ],
        [
         74,
         "Amanda Benitez",
         "21",
         "2015-11-01T09:16:18.000+0000"
        ],
        [
         1335,
         "Benjamin Campbell",
         "20",
         "2015-11-16T13:25:08.000+0000"
        ],
        [
         4513,
         "Charlotte Pitts",
         "60",
         "2017-07-18T11:50:18.000+0000"
        ],
        [
         7850,
         "Joseph Kelly",
         "44",
         "2017-09-28T16:41:00.000+0000"
        ],
        [
         10248,
         "Elizabeth English",
         "25",
         "2016-08-19T02:29:26.000+0000"
        ],
        [
         8123,
         "Courtney Chung",
         "46",
         "2016-05-11T23:09:30.000+0000"
        ],
        [
         2987,
         "Charles Robinson",
         "41",
         "2015-12-22T01:36:15.000+0000"
        ],
        [
         1487,
         "Jonathan Rodriguez",
         "30",
         "2016-09-05T12:31:44.000+0000"
        ],
        [
         10052,
         "Jamie Bryant",
         "20",
         "2017-06-17T20:00:37.000+0000"
        ],
        [
         8677,
         "Amy Brown",
         "21",
         "2015-11-08T16:14:16.000+0000"
        ],
        [
         5551,
         "Christina Haas",
         "25",
         "2016-02-14T18:52:16.000+0000"
        ],
        [
         6652,
         "Heather Arellano",
         "23",
         "2016-01-02T03:36:30.000+0000"
        ],
        [
         6479,
         "Debra Morse",
         "48",
         "2016-09-12T23:54:34.000+0000"
        ],
        [
         6660,
         "Maria Davidson",
         "28",
         "2016-04-22T05:55:48.000+0000"
        ],
        [
         9218,
         "April Barr",
         "26",
         "2016-02-06T19:00:11.000+0000"
        ],
        [
         4055,
         "Grant George",
         "27",
         "2015-11-11T01:45:05.000+0000"
        ],
        [
         7370,
         "James Keith",
         "42",
         "2017-07-02T17:25:18.000+0000"
        ],
        [
         25,
         "Amber Gray",
         "24",
         "2017-07-01T07:56:15.000+0000"
        ],
        [
         6939,
         "Erin Thompson",
         "35",
         "2016-10-21T03:38:15.000+0000"
        ],
        [
         7383,
         "Dawn Bradley",
         "20",
         "2016-08-26T16:09:52.000+0000"
        ],
        [
         3240,
         "April Brown",
         "20",
         "2016-04-10T02:39:57.000+0000"
        ],
        [
         8015,
         "Danielle Klein",
         "38",
         "2016-04-11T08:54:04.000+0000"
        ],
        [
         7745,
         "Aaron Abbott",
         "20",
         "2015-10-23T16:08:41.000+0000"
        ],
        [
         3360,
         "Amber Casey",
         "23",
         "2016-01-06T12:22:08.000+0000"
        ],
        [
         6380,
         "Matthew Newman",
         "41",
         "2016-04-03T05:17:47.000+0000"
        ],
        [
         409,
         "Alfred Chen",
         "24",
         "2016-07-01T16:11:59.000+0000"
        ],
        [
         1814,
         "Brian Hansen",
         "31",
         "2016-01-30T13:25:52.000+0000"
        ],
        [
         2343,
         "James Graves",
         "43",
         "2016-01-21T09:41:10.000+0000"
        ],
        [
         7759,
         "Aaron Alexander",
         "21",
         "2015-10-25T07:36:08.000+0000"
        ],
        [
         6717,
         "Elizabeth Green",
         "20",
         "2016-06-21T10:08:09.000+0000"
        ],
        [
         4862,
         "Jacob Castro",
         "23",
         "2016-10-03T21:44:53.000+0000"
        ],
        [
         6299,
         "Jeffrey Gordon",
         "57",
         "2017-01-06T20:27:48.000+0000"
        ],
        [
         9425,
         "Katrina Fischer",
         "47",
         "2017-05-10T22:51:14.000+0000"
        ],
        [
         1901,
         "Michelle Richardson",
         "44",
         "2016-12-18T16:05:39.000+0000"
        ],
        [
         527,
         "Carlos Dixon",
         "24",
         "2015-11-09T03:47:45.000+0000"
        ],
        [
         334,
         "Cindy Morales",
         "43",
         "2016-09-01T18:15:56.000+0000"
        ],
        [
         6348,
         "Mark Brown",
         "23",
         "2016-07-24T20:27:24.000+0000"
        ],
        [
         3626,
         "Amanda Allen",
         "21",
         "2015-11-16T23:15:00.000+0000"
        ],
        [
         1857,
         "Christopher Hamilton",
         "48",
         "2016-02-27T16:57:44.000+0000"
        ],
        [
         3660,
         "Adrian Jackson",
         "28",
         "2016-04-30T10:03:19.000+0000"
        ],
        [
         4377,
         "Samuel Thompson",
         "24",
         "2017-04-08T10:18:26.000+0000"
        ],
        [
         8505,
         "Sandra Humphrey",
         "41",
         "2017-04-16T22:40:56.000+0000"
        ],
        [
         10087,
         "Danny Ramsey",
         "22",
         "2016-07-03T13:53:31.000+0000"
        ],
        [
         10050,
         "Carla Arnold",
         "34",
         "2015-12-20T18:05:14.000+0000"
        ],
        [
         10917,
         "Valerie Rodriguez",
         "31",
         "2016-07-30T01:45:47.000+0000"
        ],
        [
         5737,
         "Alexis Bell",
         "20",
         "2015-11-23T06:34:47.000+0000"
        ],
        [
         4561,
         "Madeline Brown",
         "43",
         "2016-11-11T15:53:15.000+0000"
        ],
        [
         6916,
         "Steven Dixon",
         "44",
         "2016-10-17T08:09:28.000+0000"
        ],
        [
         6341,
         "Barbara Duran",
         "22",
         "2016-11-07T11:01:26.000+0000"
        ],
        [
         4765,
         "Danielle Gonzalez",
         "36",
         "2017-02-16T16:01:34.000+0000"
        ],
        [
         10425,
         "Andrea Carroll",
         "20",
         "2016-01-21T03:54:20.000+0000"
        ],
        [
         10783,
         "Jane Aguilar",
         "32",
         "2016-03-02T01:25:48.000+0000"
        ],
        [
         6747,
         "Matthew Simon",
         "58",
         "2017-06-17T04:42:14.000+0000"
        ],
        [
         7180,
         "Shannon Melton",
         "26",
         "2017-06-07T23:07:30.000+0000"
        ],
        [
         8100,
         "Aaron Abbott",
         "20",
         "2015-10-23T16:08:41.000+0000"
        ],
        [
         4781,
         "Cynthia Guerra",
         "29",
         "2016-12-25T23:51:01.000+0000"
        ],
        [
         1254,
         "Patricia Harvey",
         "41",
         "2017-09-25T07:22:09.000+0000"
        ],
        [
         2011,
         "Adam Anderson",
         "34",
         "2016-03-14T20:42:08.000+0000"
        ],
        [
         3436,
         "Charles Johnson",
         "25",
         "2015-12-07T02:19:50.000+0000"
        ],
        [
         4424,
         "Aaron Buchanan",
         "23",
         "2016-01-17T21:06:05.000+0000"
        ],
        [
         649,
         "Jill Gilmore",
         "29",
         "2017-01-13T08:26:21.000+0000"
        ],
        [
         8645,
         "Alexander Clark",
         "21",
         "2016-02-16T17:03:44.000+0000"
        ],
        [
         5647,
         "Calvin Atkins",
         "27",
         "2016-08-31T20:20:25.000+0000"
        ],
        [
         5704,
         "David Craig",
         "30",
         "2016-01-30T06:09:57.000+0000"
        ],
        [
         10734,
         "Jennifer Arellano",
         "28",
         "2015-12-18T10:50:10.000+0000"
        ],
        [
         4027,
         "Alexander Bailey",
         "20",
         "2015-12-05T21:04:46.000+0000"
        ],
        [
         8488,
         "Andrew Anderson",
         "23",
         "2015-11-28T11:52:37.000+0000"
        ],
        [
         5166,
         "Amy Caldwell",
         "33",
         "2015-11-12T14:10:39.000+0000"
        ],
        [
         5130,
         "Linda Blackwell",
         "20",
         "2015-12-11T03:23:37.000+0000"
        ],
        [
         1675,
         "Barbara Ford",
         "50",
         "2015-12-30T08:56:15.000+0000"
        ],
        [
         10931,
         "Aaron Bailey",
         "20",
         "2015-11-02T04:40:42.000+0000"
        ],
        [
         7240,
         "Abigail Ali",
         "20",
         "2015-10-24T11:23:51.000+0000"
        ],
        [
         3831,
         "Alexandria Alvarado",
         "20",
         "2015-10-23T04:13:23.000+0000"
        ],
        [
         5527,
         "Brian Herman",
         "32",
         "2016-02-19T01:20:00.000+0000"
        ],
        [
         6496,
         "Cindy Bennett",
         "26",
         "2016-01-03T06:10:45.000+0000"
        ],
        [
         7670,
         "Aaron Abbott",
         "20",
         "2015-10-23T16:08:41.000+0000"
        ],
        [
         6602,
         "Alexandria Anderson",
         "23",
         "2015-10-31T19:20:09.000+0000"
        ],
        [
         10804,
         "Stacy May",
         "58",
         "2016-06-21T11:33:31.000+0000"
        ],
        [
         10371,
         "Lori Campos",
         "48",
         "2016-04-26T11:49:56.000+0000"
        ],
        [
         10160,
         "Cameron Medina",
         "20",
         "2016-06-02T03:51:43.000+0000"
        ],
        [
         4654,
         "Nathan Howard",
         "37",
         "2016-03-06T21:35:04.000+0000"
        ],
        [
         7940,
         "Andrew Arnold",
         "21",
         "2015-12-02T08:29:10.000+0000"
        ],
        [
         9198,
         "Amber Chen",
         "22",
         "2015-12-30T05:21:14.000+0000"
        ],
        [
         9475,
         "Jessica Mejia",
         "40",
         "2016-01-03T12:03:05.000+0000"
        ],
        [
         501,
         "Adam Acosta",
         "20",
         "2015-10-21T21:26:45.000+0000"
        ],
        [
         10204,
         "Heather Gonzalez",
         "41",
         "2016-06-14T11:16:18.000+0000"
        ],
        [
         9185,
         "Scott Copeland",
         "25",
         "2017-10-18T06:45:02.000+0000"
        ],
        [
         7896,
         "Andrew Alvarez",
         "21",
         "2015-11-10T12:55:13.000+0000"
        ],
        [
         8448,
         "Joseph Church",
         "31",
         "2017-04-29T03:22:38.000+0000"
        ],
        [
         456,
         "Amber Cervantes",
         "25",
         "2016-05-09T16:38:08.000+0000"
        ],
        [
         2315,
         "Ashley Briggs",
         "38",
         "2015-11-15T16:53:09.000+0000"
        ],
        [
         9734,
         "Jennifer Kaiser",
         "30",
         "2015-11-24T03:29:52.000+0000"
        ],
        [
         5724,
         "Matthew Walker",
         "57",
         "2015-12-07T08:51:53.000+0000"
        ],
        [
         6976,
         "Andrea Beasley",
         "23",
         "2015-11-10T10:26:14.000+0000"
        ],
        [
         9502,
         "Brian Barnes",
         "29",
         "2015-11-01T23:09:37.000+0000"
        ],
        [
         2048,
         "Ann Chung",
         "22",
         "2015-11-18T23:11:15.000+0000"
        ],
        [
         1341,
         "Abigail Ali",
         "20",
         "2015-10-24T11:23:51.000+0000"
        ],
        [
         2553,
         "Bonnie Estrada",
         "30",
         "2015-10-21T07:31:00.000+0000"
        ],
        [
         2810,
         "Brandi Cervantes",
         "35",
         "2016-05-31T01:40:44.000+0000"
        ],
        [
         9155,
         "Aaron Alexander",
         "21",
         "2015-10-25T07:36:08.000+0000"
        ],
        [
         7448,
         "Brenda Gonzalez",
         "56",
         "2015-12-07T11:53:35.000+0000"
        ],
        [
         1173,
         "Dana Jackson",
         "57",
         "2016-06-05T21:37:09.000+0000"
        ],
        [
         1631,
         "Lauren Powell",
         "30",
         "2016-05-22T08:40:37.000+0000"
        ],
        [
         8090,
         "Aaron Abbott",
         "20",
         "2015-10-23T16:08:41.000+0000"
        ],
        [
         7511,
         "Sarah Valenzuela",
         "54",
         "2016-12-08T15:53:57.000+0000"
        ],
        [
         8996,
         "Aaron Alexander",
         "21",
         "2015-10-25T07:36:08.000+0000"
        ],
        [
         9335,
         "Amanda Adams",
         "20",
         "2015-10-21T08:27:36.000+0000"
        ],
        [
         1139,
         "Jeffrey Smith",
         "30",
         "2016-10-26T06:53:14.000+0000"
        ],
        [
         7437,
         "Alvin Adams",
         "20",
         "2016-01-01T13:50:40.000+0000"
        ],
        [
         5198,
         "James Sharp",
         "23",
         "2016-10-21T08:22:24.000+0000"
        ],
        [
         9407,
         "Amy Andrews",
         "23",
         "2015-10-29T19:12:55.000+0000"
        ],
        [
         8926,
         "Tyler Davis",
         "27",
         "2016-06-14T18:48:59.000+0000"
        ],
        [
         8592,
         "Alicia Benjamin",
         "27",
         "2015-12-10T18:40:42.000+0000"
        ],
        [
         1503,
         "Anthony Bryan",
         "22",
         "2015-10-24T15:35:59.000+0000"
        ],
        [
         7162,
         "Alan Davis",
         "34",
         "2016-04-25T01:45:51.000+0000"
        ],
        [
         4780,
         "Kristina King",
         "34",
         "2015-12-17T06:10:31.000+0000"
        ],
        [
         10020,
         "Christopher Hawkins",
         "45",
         "2016-09-15T06:02:53.000+0000"
        ],
        [
         365,
         "Kevin Torres",
         "51",
         "2016-08-07T18:45:21.000+0000"
        ],
        [
         2975,
         "Debbie Crawford",
         "23",
         "2016-04-04T04:03:32.000+0000"
        ],
        [
         6865,
         "Monica Hernandez",
         "33",
         "2016-04-01T13:54:42.000+0000"
        ],
        [
         10538,
         "Jordan Grant",
         "42",
         "2016-07-29T00:56:59.000+0000"
        ],
        [
         4249,
         "Alexandria Alvarado",
         "20",
         "2015-10-23T04:13:23.000+0000"
        ],
        [
         1514,
         "Michael Perkins",
         "40",
         "2017-06-28T16:17:39.000+0000"
        ],
        [
         7467,
         "Donna Carroll",
         "21",
         "2016-02-02T12:25:05.000+0000"
        ],
        [
         10029,
         "Anthony Baker",
         "20",
         "2015-11-14T19:24:56.000+0000"
        ],
        [
         3813,
         "James Green",
         "47",
         "2016-04-27T16:02:10.000+0000"
        ],
        [
         637,
         "Alexis Carrillo",
         "24",
         "2016-01-03T01:10:04.000+0000"
        ],
        [
         9270,
         "Amy Brown",
         "21",
         "2015-11-08T16:14:16.000+0000"
        ],
        [
         1667,
         "Bernard Arnold",
         "21",
         "2015-12-12T01:39:29.000+0000"
        ],
        [
         3032,
         "Anthony Chen",
         "24",
         "2016-06-15T12:49:30.000+0000"
        ],
        [
         4,
         "Adam Acosta",
         "20",
         "2015-10-21T21:26:45.000+0000"
        ],
        [
         6809,
         "Andrea Carroll",
         "20",
         "2016-01-21T03:54:20.000+0000"
        ],
        [
         10883,
         "Carl Hampton",
         "25",
         "2015-11-26T03:43:03.000+0000"
        ],
        [
         5091,
         "Samantha Hall",
         "27",
         "2017-04-27T09:48:22.000+0000"
        ],
        [
         1170,
         "Stacey Stewart",
         "24",
         "2017-03-24T10:12:14.000+0000"
        ],
        [
         10321,
         "Andrea Burke",
         "20",
         "2015-12-12T11:20:08.000+0000"
        ],
        [
         9014,
         "Luke Carter",
         "37",
         "2016-01-13T20:19:57.000+0000"
        ],
        [
         1643,
         "Claire Leonard",
         "45",
         "2016-03-18T23:34:56.000+0000"
        ],
        [
         10137,
         "Daniel Matthews",
         "34",
         "2016-01-23T03:59:37.000+0000"
        ],
        [
         1611,
         "Erik Martinez",
         "40",
         "2017-03-08T06:03:20.000+0000"
        ],
        [
         9550,
         "John Foster",
         "32",
         "2016-06-10T15:27:19.000+0000"
        ],
        [
         857,
         "Andrew Burke",
         "20",
         "2015-11-14T17:38:31.000+0000"
        ],
        [
         6575,
         "Devon Waller",
         "38",
         "2016-03-11T13:19:05.000+0000"
        ],
        [
         8237,
         "Aaron Abbott",
         "20",
         "2015-10-23T16:08:41.000+0000"
        ],
        [
         3644,
         "Angela Hall",
         "27",
         "2016-02-22T03:37:09.000+0000"
        ],
        [
         4949,
         "Colin Clayton",
         "46",
         "2016-11-18T10:00:53.000+0000"
        ],
        [
         1024,
         "Jason Martin",
         "53",
         "2016-06-07T07:09:02.000+0000"
        ],
        [
         6170,
         "Eric Gonzalez",
         "36",
         "2016-07-31T17:22:08.000+0000"
        ],
        [
         91,
         "Darryl Baker",
         "29",
         "2016-02-26T03:45:09.000+0000"
        ],
        [
         5395,
         "Leah Franco",
         "36",
         "2017-04-01T04:04:00.000+0000"
        ],
        [
         9146,
         "Andrew Anderson",
         "23",
         "2015-11-28T11:52:37.000+0000"
        ],
        [
         7484,
         "Jason Herrera",
         "40",
         "2016-10-21T21:15:50.000+0000"
        ],
        [
         2759,
         "Anthony Chen",
         "24",
         "2016-06-15T12:49:30.000+0000"
        ],
        [
         9355,
         "Elizabeth Johnson",
         "33",
         "2016-12-09T23:34:15.000+0000"
        ],
        [
         6019,
         "Heather Russell",
         "44",
         "2017-09-17T22:18:59.000+0000"
        ],
        [
         4922,
         "Abigail Barry",
         "21",
         "2015-12-03T10:40:24.000+0000"
        ],
        [
         3094,
         "Jose Smith",
         "55",
         "2016-12-13T06:09:30.000+0000"
        ],
        [
         5911,
         "Anna Adams",
         "21",
         "2015-11-27T08:22:20.000+0000"
        ],
        [
         3504,
         "Kyle Floyd",
         "20",
         "2016-07-29T04:25:14.000+0000"
        ],
        [
         1786,
         "Adam Gibson",
         "21",
         "2015-11-22T23:22:23.000+0000"
        ],
        [
         7539,
         "Alvin Adams",
         "20",
         "2016-01-01T13:50:40.000+0000"
        ],
        [
         8004,
         "Frank Combs",
         "23",
         "2015-11-30T05:25:22.000+0000"
        ],
        [
         7039,
         "Brian Buckley",
         "28",
         "2016-10-14T03:43:48.000+0000"
        ],
        [
         7276,
         "Meghan Gomez",
         "52",
         "2017-05-08T12:25:11.000+0000"
        ],
        [
         7961,
         "Alex Adams",
         "20",
         "2015-11-02T22:24:22.000+0000"
        ],
        [
         8120,
         "James Goodwin",
         "20",
         "2016-01-24T09:18:29.000+0000"
        ],
        [
         4113,
         "Heidi Perez",
         "39",
         "2015-12-21T02:15:53.000+0000"
        ],
        [
         6328,
         "Ashley Combs",
         "34",
         "2015-11-13T06:33:05.000+0000"
        ],
        [
         1694,
         "James Mills",
         "38",
         "2017-08-13T19:07:29.000+0000"
        ],
        [
         1179,
         "Cynthia Clark",
         "20",
         "2016-01-30T15:21:25.000+0000"
        ],
        [
         5402,
         "James Brown",
         "49",
         "2016-04-06T13:56:50.000+0000"
        ],
        [
         781,
         "Alexandra Allen",
         "20",
         "2015-10-23T13:07:00.000+0000"
        ],
        [
         8089,
         "Melissa Griffin",
         "47",
         "2017-04-24T05:30:31.000+0000"
        ],
        [
         4245,
         "Alexandria Alvarado",
         "20",
         "2015-10-23T04:13:23.000+0000"
        ],
        [
         9718,
         "Brian Barnes",
         "23",
         "2017-01-17T06:38:28.000+0000"
        ],
        [
         1308,
         "Charles Clark",
         "25",
         "2016-01-14T12:21:54.000+0000"
        ],
        [
         604,
         "Cynthia Ortiz",
         "35",
         "2016-03-05T05:16:44.000+0000"
        ],
        [
         10865,
         "Nicole Harrison",
         "29",
         "2017-07-24T18:11:03.000+0000"
        ],
        [
         7891,
         "Amanda Brown",
         "20",
         "2015-11-12T03:23:49.000+0000"
        ],
        [
         9332,
         "Gregory Carpenter",
         "23",
         "2016-07-14T11:45:49.000+0000"
        ],
        [
         4556,
         "Timothy Meyer",
         "40",
         "2016-06-23T22:33:38.000+0000"
        ],
        [
         10853,
         "Amanda Cox",
         "37",
         "2015-12-29T23:56:30.000+0000"
        ],
        [
         307,
         "John Cruz",
         "55",
         "2017-03-15T23:04:39.000+0000"
        ],
        [
         3231,
         "Andrew Baker",
         "22",
         "2015-12-21T08:06:54.000+0000"
        ],
        [
         10429,
         "Brandon Henderson",
         "24",
         "2016-01-12T17:59:43.000+0000"
        ],
        [
         2465,
         "Duane Lopez",
         "27",
         "2016-05-01T09:31:11.000+0000"
        ],
        [
         9903,
         "Amanda Baker",
         "20",
         "2016-01-31T04:46:39.000+0000"
        ],
        [
         10154,
         "Lauren Hill",
         "52",
         "2016-01-08T17:05:07.000+0000"
        ],
        [
         33,
         "Angela Conner",
         "36",
         "2016-09-21T11:18:22.000+0000"
        ],
        [
         9584,
         "David Harper",
         "38",
         "2016-08-12T12:33:07.000+0000"
        ],
        [
         9935,
         "Annette Andrews",
         "28",
         "2015-12-20T22:09:10.000+0000"
        ],
        [
         7162,
         "Alan Davis",
         "34",
         "2016-04-25T01:45:51.000+0000"
        ],
        [
         4857,
         "Barbara Clark",
         "21",
         "2015-11-17T01:16:08.000+0000"
        ],
        [
         9653,
         "Jeffery Roberson",
         "42",
         "2017-06-29T14:26:41.000+0000"
        ],
        [
         4396,
         "Justin Morris",
         "45",
         "2016-05-27T10:56:28.000+0000"
        ],
        [
         5159,
         "Brian Davis",
         "38",
         "2015-12-09T10:50:57.000+0000"
        ],
        [
         2946,
         "Samantha Carpenter",
         "24",
         "2016-06-26T00:05:17.000+0000"
        ],
        [
         5759,
         "Brian Davis",
         "38",
         "2015-12-09T10:50:57.000+0000"
        ],
        [
         9363,
         "James Warren",
         "57",
         "2017-09-29T23:40:45.000+0000"
        ],
        [
         7983,
         "Aaron Anderson",
         "21",
         "2015-10-24T05:35:27.000+0000"
        ],
        [
         10526,
         "Grace Luna",
         "27",
         "2016-09-02T02:25:43.000+0000"
        ],
        [
         2172,
         "April Shaffer",
         "28",
         "2017-01-05T12:11:56.000+0000"
        ],
        [
         4064,
         "Andrew Garcia",
         "44",
         "2015-10-27T20:31:15.000+0000"
        ],
        [
         6957,
         "Brittany Brown",
         "37",
         "2016-06-25T14:36:22.000+0000"
        ],
        [
         10585,
         "Katherine Dennis",
         "49",
         "2016-10-03T13:42:13.000+0000"
        ],
        [
         160,
         "Anthony Mcbride",
         "46",
         "2016-06-10T09:51:54.000+0000"
        ],
        [
         10347,
         "Julia Jackson",
         "23",
         "2016-11-13T02:31:21.000+0000"
        ],
        [
         8889,
         "Melissa Thompson",
         "42",
         "2016-04-01T01:20:00.000+0000"
        ],
        [
         1026,
         "Scott Campbell",
         "20",
         "2016-04-01T02:34:49.000+0000"
        ],
        [
         3878,
         "William Donovan",
         "49",
         "2017-05-02T07:34:05.000+0000"
        ],
        [
         10198,
         "Mary Pope",
         "41",
         "2016-06-25T05:11:46.000+0000"
        ],
        [
         8449,
         "Aaron Abbott",
         "20",
         "2015-10-23T16:08:41.000+0000"
        ],
        [
         9929,
         "Benjamin Brady",
         "21",
         "2016-05-11T06:22:07.000+0000"
        ],
        [
         8162,
         "Benjamin Adams",
         "24",
         "2015-10-25T03:23:53.000+0000"
        ],
        [
         10677,
         "Catherine Mitchell",
         "26",
         "2016-06-16T14:07:36.000+0000"
        ],
        [
         6488,
         "Alec Bell",
         "22",
         "2016-01-09T15:37:07.000+0000"
        ],
        [
         10278,
         "Christopher Fox",
         "44",
         "2016-10-26T03:56:51.000+0000"
        ],
        [
         3393,
         "Courtney Berg",
         "20",
         "2015-11-30T10:24:37.000+0000"
        ],
        [
         6740,
         "Erica Green",
         "36",
         "2017-05-31T09:19:59.000+0000"
        ],
        [
         1175,
         "Jennifer Dunn",
         "47",
         "2015-10-21T09:05:46.000+0000"
        ],
        [
         6276,
         "Briana Bryant",
         "23",
         "2016-03-30T16:14:41.000+0000"
        ],
        [
         3930,
         "Kylie Alvarez",
         "35",
         "2015-10-30T03:04:23.000+0000"
        ],
        [
         2668,
         "April Brown",
         "20",
         "2016-04-10T02:39:57.000+0000"
        ],
        [
         5317,
         "Ashley Carter",
         "21",
         "2015-11-29T21:11:06.000+0000"
        ],
        [
         2793,
         "Bobby Cook",
         "21",
         "2015-12-15T05:28:12.000+0000"
        ],
        [
         6906,
         "April Anderson",
         "30",
         "2016-06-27T08:35:51.000+0000"
        ],
        [
         2025,
         "Aaron Abbott",
         "20",
         "2015-10-31T18:51:07.000+0000"
        ],
        [
         7950,
         "Kristy Donaldson",
         "46",
         "2017-08-15T03:04:44.000+0000"
        ],
        [
         6797,
         "Janet Shaw",
         "27",
         "2016-11-02T03:54:55.000+0000"
        ],
        [
         3185,
         "Alexandra Fuentes",
         "29",
         "2016-01-03T02:33:53.000+0000"
        ],
        [
         1066,
         "Benjamin Branch",
         "44",
         "2016-06-08T17:23:33.000+0000"
        ],
        [
         3352,
         "Abigail Adams",
         "20",
         "2015-10-25T13:11:51.000+0000"
        ],
        [
         7952,
         "Karen Clark",
         "47",
         "2016-08-01T06:36:32.000+0000"
        ],
        [
         10600,
         "Robert Mclaughlin",
         "49",
         "2016-02-27T04:42:03.000+0000"
        ],
        [
         9530,
         "Denise Graves",
         "21",
         "2016-01-28T22:04:16.000+0000"
        ],
        [
         8854,
         "Andrew Anderson",
         "23",
         "2015-11-28T11:52:37.000+0000"
        ],
        [
         8461,
         "Cody Barker",
         "48",
         "2015-12-20T02:56:01.000+0000"
        ],
        [
         10862,
         "Jamie Harrison",
         "37",
         "2017-07-19T01:17:18.000+0000"
        ],
        [
         8251,
         "Timothy Orozco",
         "20",
         "2016-03-21T17:34:44.000+0000"
        ],
        [
         2095,
         "Cheryl Dean",
         "57",
         "2017-08-01T04:00:30.000+0000"
        ],
        [
         7285,
         "Alejandra Acevedo",
         "20",
         "2015-11-24T21:01:23.000+0000"
        ],
        [
         7271,
         "Ashley Castro",
         "38",
         "2017-06-25T02:03:31.000+0000"
        ],
        [
         5230,
         "Abigail Ali",
         "20",
         "2015-10-24T11:23:51.000+0000"
        ],
        [
         4398,
         "Stacey Scott",
         "47",
         "2017-06-29T18:04:56.000+0000"
        ],
        [
         4251,
         "Amanda Allen",
         "21",
         "2015-11-16T23:15:00.000+0000"
        ],
        [
         9808,
         "Daniel Brooks",
         "25",
         "2015-11-19T21:24:33.000+0000"
        ],
        [
         3884,
         "Alex Jimenez",
         "24",
         "2015-10-29T18:48:47.000+0000"
        ],
        [
         6181,
         "Albert Allison",
         "20",
         "2015-10-21T22:27:27.000+0000"
        ],
        [
         1881,
         "Jeffrey Brooks",
         "47",
         "2017-02-08T21:03:46.000+0000"
        ],
        [
         9099,
         "Gregory Carpenter",
         "23",
         "2016-07-14T11:45:49.000+0000"
        ],
        [
         2904,
         "Brad Abbott",
         "35",
         "2016-03-07T17:23:18.000+0000"
        ],
        [
         1832,
         "Angela Carlson",
         "33",
         "2016-01-01T21:17:41.000+0000"
        ],
        [
         4670,
         "Heather Barnes",
         "43",
         "2016-06-20T18:35:26.000+0000"
        ],
        [
         2927,
         "Angela Andrews",
         "20",
         "2015-10-28T21:44:56.000+0000"
        ],
        [
         9904,
         "Alexandra Austin",
         "22",
         "2015-11-06T05:05:43.000+0000"
        ],
        [
         9120,
         "Dawn Mcdowell",
         "45",
         "2017-04-19T00:02:19.000+0000"
        ],
        [
         8612,
         "Angela Berg",
         "20",
         "2015-11-10T05:57:33.000+0000"
        ],
        [
         1465,
         "Juan Cortez",
         "20",
         "2016-04-07T13:02:08.000+0000"
        ],
        [
         3896,
         "Alexandria Alvarado",
         "20",
         "2015-10-23T04:13:23.000+0000"
        ],
        [
         7514,
         "Amanda Holt",
         "21",
         "2017-01-10T13:22:59.000+0000"
        ],
        [
         1778,
         "Alice Bennett",
         "28",
         "2016-05-03T03:50:42.000+0000"
        ],
        [
         2780,
         "Kimberly Mack",
         "37",
         "2017-08-09T03:52:40.000+0000"
        ],
        [
         4107,
         "Barbara English",
         "23",
         "2016-03-01T23:23:24.000+0000"
        ],
        [
         10513,
         "Melody Thompson",
         "28",
         "2016-10-28T04:09:37.000+0000"
        ],
        [
         320,
         "Alexandra Anderson",
         "47",
         "2016-07-06T00:08:29.000+0000"
        ],
        [
         3164,
         "Cynthia Harper",
         "43",
         "2016-01-23T05:44:11.000+0000"
        ],
        [
         2041,
         "Christopher Campbell",
         "35",
         "2015-10-22T22:42:23.000+0000"
        ],
        [
         4489,
         "Tracie Thompson",
         "34",
         "2017-08-21T02:27:26.000+0000"
        ],
        [
         10247,
         "Gloria Mills",
         "53",
         "2016-07-14T12:43:36.000+0000"
        ],
        [
         7685,
         "Brian Howard",
         "23",
         "2015-12-20T18:33:11.000+0000"
        ],
        [
         5084,
         "Marissa Spence",
         "53",
         "2016-06-30T20:53:16.000+0000"
        ],
        [
         1789,
         "Jennifer Snyder",
         "53",
         "2017-03-27T10:25:34.000+0000"
        ],
        [
         1263,
         "Anthony Bryan",
         "22",
         "2015-10-24T15:35:59.000+0000"
        ],
        [
         3562,
         "Alison Cole",
         "21",
         "2015-11-05T13:39:57.000+0000"
        ],
        [
         2787,
         "Christopher Brown",
         "21",
         "2016-05-23T23:48:56.000+0000"
        ],
        [
         7318,
         "James Dunn",
         "45",
         "2016-04-30T10:48:25.000+0000"
        ],
        [
         570,
         "Alexandra Allen",
         "20",
         "2015-10-23T13:07:00.000+0000"
        ],
        [
         1570,
         "Jason Thomas",
         "35",
         "2017-09-16T08:44:13.000+0000"
        ],
        [
         7769,
         "Aaron Abbott",
         "20",
         "2015-10-23T16:08:41.000+0000"
        ],
        [
         896,
         "Amanda Guzman",
         "26",
         "2016-01-19T18:41:59.000+0000"
        ],
        [
         9054,
         "Andrea Alexander",
         "21",
         "2015-11-10T09:27:42.000+0000"
        ],
        [
         9749,
         "Arthur Riggs",
         "46",
         "2016-05-01T10:44:18.000+0000"
        ],
        [
         3710,
         "Nicole Johnson",
         "44",
         "2016-02-08T18:55:39.000+0000"
        ],
        [
         7862,
         "Andrew Arnold",
         "21",
         "2015-12-02T08:29:10.000+0000"
        ],
        [
         653,
         "Adam Nash",
         "36",
         "2016-11-26T08:35:53.000+0000"
        ],
        [
         7770,
         "Jeffrey Hudson",
         "58",
         "2017-08-17T18:45:27.000+0000"
        ],
        [
         7718,
         "Katherine Howell",
         "56",
         "2017-07-22T19:52:39.000+0000"
        ],
        [
         2288,
         "Corey Andrews",
         "23",
         "2015-11-25T13:36:22.000+0000"
        ],
        [
         9010,
         "Albert Allison",
         "20",
         "2015-10-21T22:27:27.000+0000"
        ],
        [
         3266,
         "Robert Golden",
         "50",
         "2017-03-19T15:29:02.000+0000"
        ],
        [
         2422,
         "Maria Franklin",
         "44",
         "2016-10-25T14:57:24.000+0000"
        ],
        [
         1598,
         "Adrian Baker",
         "24",
         "2015-12-04T05:17:24.000+0000"
        ],
        [
         7262,
         "Jacob Alvarez",
         "27",
         "2016-01-29T09:37:46.000+0000"
        ],
        [
         5254,
         "William Combs",
         "50",
         "2015-12-06T10:58:54.000+0000"
        ],
        [
         8511,
         "Molly Curtis",
         "20",
         "2016-06-30T10:13:01.000+0000"
        ],
        [
         6749,
         "Amanda Adams",
         "20",
         "2015-10-21T08:27:36.000+0000"
        ],
        [
         1487,
         "Jonathan Rodriguez",
         "30",
         "2016-09-05T12:31:44.000+0000"
        ],
        [
         5349,
         "Caitlyn Baker",
         "22",
         "2015-11-11T17:56:54.000+0000"
        ],
        [
         831,
         "Aimee Collins",
         "28",
         "2016-06-16T02:06:38.000+0000"
        ],
        [
         8700,
         "Alexander Bailey",
         "20",
         "2015-10-30T11:37:32.000+0000"
        ],
        [
         3349,
         "Alice Bennett",
         "28",
         "2016-05-03T03:50:42.000+0000"
        ],
        [
         616,
         "Brandon Holmes",
         "21",
         "2015-11-02T23:30:01.000+0000"
        ],
        [
         1676,
         "Kyle Mccarthy",
         "41",
         "2016-04-10T12:18:20.000+0000"
        ],
        [
         4530,
         "Jamie Davis",
         "33",
         "2016-03-23T06:58:08.000+0000"
        ],
        [
         2970,
         "Anthony Brown",
         "33",
         "2015-10-24T16:39:50.000+0000"
        ],
        [
         8315,
         "Andrew Alexander",
         "20",
         "2015-11-20T09:08:00.000+0000"
        ],
        [
         4505,
         "Diane Phillips",
         "59",
         "2016-03-01T14:23:30.000+0000"
        ],
        [
         865,
         "Anna Bird",
         "25",
         "2015-10-21T18:29:08.000+0000"
        ],
        [
         10715,
         "Angela Brown",
         "36",
         "2015-12-14T13:52:48.000+0000"
        ],
        [
         1896,
         "Amanda Anderson",
         "23",
         "2016-02-22T08:38:01.000+0000"
        ],
        [
         155,
         "Alexandra Allen",
         "20",
         "2015-10-23T13:07:00.000+0000"
        ],
        [
         7902,
         "Andrew Alexander",
         "20",
         "2015-11-20T09:08:00.000+0000"
        ],
        [
         8519,
         "Alicia Burnett",
         "23",
         "2016-07-18T00:04:07.000+0000"
        ],
        [
         4186,
         "Christina Bryant",
         "33",
         "2016-04-27T01:35:39.000+0000"
        ],
        [
         741,
         "Adam Acosta",
         "20",
         "2015-10-21T21:26:45.000+0000"
        ],
        [
         7093,
         "Jonathan Martinez",
         "31",
         "2016-02-28T10:31:48.000+0000"
        ],
        [
         7640,
         "Aaron Anderson",
         "21",
         "2015-10-24T05:35:27.000+0000"
        ],
        [
         4816,
         "Darin Lee",
         "25",
         "2016-08-09T23:13:29.000+0000"
        ],
        [
         9183,
         "Brittany Cruz",
         "47",
         "2016-07-28T09:04:46.000+0000"
        ],
        [
         525,
         "Abigail Ali",
         "20",
         "2015-10-24T11:23:51.000+0000"
        ],
        [
         10908,
         "Stephanie Cooper",
         "20",
         "2017-06-01T02:30:48.000+0000"
        ],
        [
         6240,
         "Linda Tate",
         "33",
         "2017-06-14T08:16:57.000+0000"
        ],
        [
         222,
         "Herbert Sawyer",
         "45",
         "2016-07-27T15:08:03.000+0000"
        ],
        [
         7209,
         "April Anderson",
         "30",
         "2016-06-27T08:35:51.000+0000"
        ],
        [
         7560,
         "Theresa Dixon",
         "47",
         "2015-12-18T14:49:13.000+0000"
        ],
        [
         2334,
         "Bailey Rogers",
         "31",
         "2015-10-22T22:51:57.000+0000"
        ],
        [
         9234,
         "Christina Aguilar",
         "23",
         "2015-12-09T20:29:10.000+0000"
        ],
        [
         2354,
         "Danielle Barber",
         "23",
         "2016-02-21T14:23:49.000+0000"
        ],
        [
         4761,
         "Christopher Norman",
         "40",
         "2017-03-07T21:33:30.000+0000"
        ],
        [
         4122,
         "Michael Chan",
         "38",
         "2017-03-23T16:11:45.000+0000"
        ],
        [
         9256,
         "Andrew Anderson",
         "23",
         "2015-11-28T11:52:37.000+0000"
        ],
        [
         2161,
         "Alexander Rodriguez",
         "55",
         "2017-08-12T13:26:38.000+0000"
        ],
        [
         9812,
         "Janet Andrews",
         "28",
         "2016-06-11T14:48:17.000+0000"
        ],
        [
         5044,
         "Amanda Bowers",
         "22",
         "2016-01-18T20:23:23.000+0000"
        ],
        [
         7068,
         "Andrea Beasley",
         "23",
         "2015-11-10T10:26:14.000+0000"
        ],
        [
         3226,
         "Angela Andrews",
         "20",
         "2015-10-28T21:44:56.000+0000"
        ],
        [
         3882,
         "Darryl Alexander",
         "25",
         "2015-12-02T11:20:58.000+0000"
        ],
        [
         3111,
         "Natasha Gonzalez",
         "51",
         "2016-05-17T07:56:53.000+0000"
        ],
        [
         10507,
         "Hannah Allen",
         "21",
         "2016-12-02T04:34:51.000+0000"
        ],
        [
         1775,
         "James Graham",
         "22",
         "2015-12-24T13:28:36.000+0000"
        ],
        [
         9482,
         "Heather Hall",
         "31",
         "2017-02-25T07:58:37.000+0000"
        ],
        [
         8224,
         "Eric Buck",
         "45",
         "2015-10-28T17:36:12.000+0000"
        ],
        [
         1481,
         "Alison Harding",
         "35",
         "2017-10-05T17:45:20.000+0000"
        ],
        [
         4333,
         "Andre Bartlett",
         "20",
         "2015-10-30T20:41:47.000+0000"
        ],
        [
         8834,
         "Andrea Alexander",
         "21",
         "2015-11-10T09:27:42.000+0000"
        ],
        [
         1530,
         "Jose Robbins",
         "54",
         "2016-03-07T19:38:00.000+0000"
        ],
        [
         1104,
         "Holly Bailey",
         "48",
         "2016-02-01T07:15:19.000+0000"
        ],
        [
         498,
         "Anna Bird",
         "25",
         "2015-10-21T18:29:08.000+0000"
        ],
        [
         813,
         "Christopher Gonzalez",
         "30",
         "2016-03-02T23:44:12.000+0000"
        ],
        [
         3703,
         "Alison Cole",
         "21",
         "2015-11-05T13:39:57.000+0000"
        ],
        [
         4585,
         "Amy Atkins",
         "21",
         "2015-10-31T07:37:40.000+0000"
        ],
        [
         10073,
         "Jeffrey Hunter",
         "32",
         "2016-09-07T04:52:20.000+0000"
        ],
        [
         974,
         "David Jones",
         "40",
         "2016-06-30T00:50:31.000+0000"
        ],
        [
         4944,
         "Amber Bennett",
         "29",
         "2016-02-28T04:37:04.000+0000"
        ],
        [
         9643,
         "Daniel Reyes",
         "32",
         "2017-08-02T14:05:48.000+0000"
        ],
        [
         2308,
         "Aaron Greene",
         "25",
         "2016-01-14T00:10:04.000+0000"
        ],
        [
         8058,
         "Joyce Ochoa",
         "23",
         "2016-12-27T11:43:07.000+0000"
        ],
        [
         4115,
         "Danielle Cook",
         "22",
         "2016-05-18T00:47:21.000+0000"
        ],
        [
         643,
         "Anthony Adkins",
         "21",
         "2015-10-28T03:59:42.000+0000"
        ],
        [
         1776,
         "Deanna Molina",
         "22",
         "2016-04-07T20:10:55.000+0000"
        ],
        [
         1972,
         "Michelle Smith",
         "52",
         "2017-05-05T05:06:56.000+0000"
        ],
        [
         4641,
         "Anthony Dean",
         "21",
         "2016-04-15T19:54:05.000+0000"
        ],
        [
         909,
         "Daniel Peck",
         "24",
         "2016-02-22T23:13:34.000+0000"
        ],
        [
         10369,
         "Gabrielle Flores",
         "34",
         "2017-09-17T01:53:38.000+0000"
        ],
        [
         7964,
         "Aaron Abbott",
         "20",
         "2015-10-23T16:08:41.000+0000"
        ],
        [
         9455,
         "Calvin Baker",
         "26",
         "2015-11-14T05:58:38.000+0000"
        ],
        [
         6978,
         "Jack Morales",
         "56",
         "2016-10-23T06:50:28.000+0000"
        ],
        [
         7057,
         "Jay Hampton",
         "21",
         "2016-05-10T01:52:46.000+0000"
        ],
        [
         935,
         "Michael Brooks",
         "48",
         "2016-08-05T06:18:29.000+0000"
        ],
        [
         4417,
         "Maria Long",
         "27",
         "2017-09-28T00:27:20.000+0000"
        ],
        [
         9950,
         "Christopher Bates",
         "30",
         "2016-05-25T10:09:22.000+0000"
        ],
        [
         3632,
         "Danielle Chambers",
         "21",
         "2015-12-08T00:29:58.000+0000"
        ],
        [
         6305,
         "Aaron Anderson",
         "21",
         "2015-10-23T03:43:54.000+0000"
        ],
        [
         2810,
         "Brandi Cervantes",
         "35",
         "2016-05-31T01:40:44.000+0000"
        ],
        [
         4066,
         "Adam Armstrong",
         "20",
         "2015-12-17T08:43:40.000+0000"
        ],
        [
         10570,
         "David Evans",
         "21",
         "2016-03-28T10:54:55.000+0000"
        ],
        [
         9533,
         "Alice Day",
         "25",
         "2015-11-04T05:12:00.000+0000"
        ],
        [
         1411,
         "Adrian Baker",
         "24",
         "2015-12-04T05:17:24.000+0000"
        ],
        [
         7861,
         "Alexandria Gross",
         "22",
         "2016-06-07T14:30:06.000+0000"
        ],
        [
         6403,
         "April Simmons",
         "34",
         "2017-05-27T14:44:48.000+0000"
        ],
        [
         860,
         "Jay Davis",
         "33",
         "2016-12-04T21:33:36.000+0000"
        ],
        [
         5209,
         "Bradley Griffin",
         "24",
         "2016-04-05T09:58:20.000+0000"
        ],
        [
         4590,
         "Daniel Davis",
         "29",
         "2016-12-15T04:11:20.000+0000"
        ],
        [
         4080,
         "Marie Kennedy",
         "42",
         "2016-08-11T18:30:52.000+0000"
        ],
        [
         9035,
         "Aaron Alexander",
         "21",
         "2015-10-25T07:36:08.000+0000"
        ],
        [
         857,
         "Andrew Burke",
         "20",
         "2015-11-14T17:38:31.000+0000"
        ],
        [
         10347,
         "Julia Jackson",
         "23",
         "2016-11-13T02:31:21.000+0000"
        ],
        [
         7356,
         "Andrew Anderson",
         "23",
         "2015-11-28T11:52:37.000+0000"
        ],
        [
         5796,
         "Adam Alexander",
         "20",
         "2015-10-22T11:31:37.000+0000"
        ],
        [
         10156,
         "Shawn Gray",
         "34",
         "2017-02-05T07:25:42.000+0000"
        ],
        [
         7666,
         "Aaron Abbott",
         "20",
         "2015-10-23T16:08:41.000+0000"
        ],
        [
         10602,
         "Jack Dodson",
         "21",
         "2016-03-06T15:54:40.000+0000"
        ],
        [
         7889,
         "Anthony Johnson",
         "23",
         "2016-07-09T05:03:39.000+0000"
        ],
        [
         4210,
         "Anthony Golden",
         "56",
         "2017-05-03T22:37:43.000+0000"
        ],
        [
         2499,
         "John Hamilton",
         "23",
         "2015-11-09T12:22:53.000+0000"
        ],
        [
         2403,
         "Erin Lawson",
         "59",
         "2017-06-29T10:23:41.000+0000"
        ],
        [
         678,
         "John Trujillo",
         "22",
         "2017-07-20T11:18:24.000+0000"
        ],
        [
         1349,
         "Andrew Allen",
         "53",
         "2017-01-23T23:59:16.000+0000"
        ],
        [
         6682,
         "Lisa Walls",
         "50",
         "2016-09-09T23:42:11.000+0000"
        ],
        [
         2452,
         "Ashley Cortez",
         "21",
         "2017-03-07T07:21:57.000+0000"
        ],
        [
         2523,
         "Bryce Bailey",
         "37",
         "2015-11-28T01:46:17.000+0000"
        ],
        [
         2754,
         "Lance Li",
         "23",
         "2016-06-14T14:03:04.000+0000"
        ],
        [
         7165,
         "Nancy Jones",
         "35",
         "2016-01-12T09:32:19.000+0000"
        ],
        [
         2795,
         "Carrie Holder",
         "21",
         "2015-10-27T11:16:56.000+0000"
        ],
        [
         2595,
         "Christopher Barnett",
         "22",
         "2016-03-24T09:38:54.000+0000"
        ],
        [
         8282,
         "Andrew Alexander",
         "20",
         "2015-11-20T09:08:00.000+0000"
        ],
        [
         5111,
         "Lonnie Boyd",
         "49",
         "2016-02-08T06:54:03.000+0000"
        ],
        [
         5679,
         "Melanie Allison",
         "32",
         "2017-07-02T05:22:18.000+0000"
        ],
        [
         5512,
         "Caitlyn Baker",
         "22",
         "2015-11-11T17:56:54.000+0000"
        ],
        [
         5405,
         "Adam Alexander",
         "20",
         "2015-10-22T11:31:37.000+0000"
        ],
        [
         159,
         "Alison Bell",
         "21",
         "2016-01-07T08:11:35.000+0000"
        ],
        [
         4769,
         "Abigail Barry",
         "21",
         "2015-12-03T10:40:24.000+0000"
        ],
        [
         2447,
         "Nancy Patel",
         "35",
         "2017-06-27T10:00:11.000+0000"
        ],
        [
         3345,
         "Benjamin Turner",
         "36",
         "2016-08-30T14:33:44.000+0000"
        ],
        [
         6756,
         "Michael Clark",
         "26",
         "2016-06-15T18:10:59.000+0000"
        ],
        [
         644,
         "Aaron Bartlett",
         "21",
         "2015-11-24T02:15:36.000+0000"
        ],
        [
         187,
         "Laura Knight",
         "21",
         "2016-12-02T03:34:06.000+0000"
        ],
        [
         7631,
         "Jennifer Bailey",
         "42",
         "2016-03-07T21:07:12.000+0000"
        ],
        [
         1780,
         "Angela Andrews",
         "20",
         "2015-10-28T21:44:56.000+0000"
        ],
        [
         7154,
         "Alejandra Acevedo",
         "20",
         "2015-11-24T21:01:23.000+0000"
        ],
        [
         4764,
         "Michael Adams",
         "32",
         "2016-03-15T21:43:17.000+0000"
        ],
        [
         8967,
         "Joshua Harrison",
         "26",
         "2017-04-30T16:38:10.000+0000"
        ],
        [
         925,
         "Aaron Abbott",
         "20",
         "2015-10-31T18:51:07.000+0000"
        ],
        [
         3638,
         "Rebecca Conner",
         "33",
         "2015-12-29T22:26:53.000+0000"
        ],
        [
         924,
         "Adam Baker",
         "30",
         "2016-04-17T19:47:03.000+0000"
        ],
        [
         2297,
         "Debbie Mitchell",
         "46",
         "2017-02-23T00:45:45.000+0000"
        ],
        [
         1324,
         "Patrick Davidson",
         "41",
         "2016-12-24T11:07:22.000+0000"
        ],
        [
         5155,
         "Steven Weiss",
         "22",
         "2017-09-25T07:45:23.000+0000"
        ],
        [
         1707,
         "Albert Jackson",
         "23",
         "2016-04-13T18:06:15.000+0000"
        ],
        [
         9123,
         "Margaret Torres",
         "21",
         "2017-05-24T03:44:43.000+0000"
        ],
        [
         10271,
         "Mark Duran",
         "28",
         "2016-03-23T00:25:16.000+0000"
        ],
        [
         4475,
         "Anna Taylor",
         "34",
         "2017-04-25T14:21:09.000+0000"
        ],
        [
         6021,
         "Elaine Savage",
         "23",
         "2017-10-13T13:55:52.000+0000"
        ],
        [
         1214,
         "Alejandro Graham",
         "57",
         "2017-07-17T15:31:30.000+0000"
        ],
        [
         10479,
         "Aaron Bailey",
         "20",
         "2015-11-02T04:40:42.000+0000"
        ],
        [
         5561,
         "Amanda Anderson",
         "24",
         "2015-11-11T20:38:26.000+0000"
        ],
        [
         6631,
         "Valerie Leach",
         "33",
         "2015-10-31T10:25:32.000+0000"
        ],
        [
         1749,
         "Andrew Buck",
         "23",
         "2016-01-06T23:14:16.000+0000"
        ],
        [
         6386,
         "Alan Adams",
         "25",
         "2016-05-20T09:33:35.000+0000"
        ],
        [
         746,
         "Diana Barry",
         "26",
         "2015-11-12T15:36:01.000+0000"
        ],
        [
         4866,
         "Lawrence Lane",
         "28",
         "2017-07-09T11:52:42.000+0000"
        ],
        [
         2779,
         "Allison Acosta",
         "20",
         "2015-10-24T01:15:02.000+0000"
        ],
        [
         8843,
         "Alexander Bailey",
         "20",
         "2015-10-30T11:37:32.000+0000"
        ],
        [
         4892,
         "Pamela Wilson",
         "28",
         "2016-07-10T23:56:30.000+0000"
        ],
        [
         3260,
         "Ariel Brown",
         "26",
         "2015-11-24T23:04:52.000+0000"
        ],
        [
         7600,
         "Nancy Franco",
         "33",
         "2016-06-06T19:14:47.000+0000"
        ],
        [
         1032,
         "Kelly Blackwell",
         "34",
         "2016-04-01T21:50:44.000+0000"
        ],
        [
         9791,
         "Michelle Scott",
         "38",
         "2017-04-10T11:52:09.000+0000"
        ],
        [
         10234,
         "Amy Adams",
         "23",
         "2015-11-19T13:16:24.000+0000"
        ],
        [
         2925,
         "Jennifer Lester",
         "25",
         "2016-01-08T10:31:10.000+0000"
        ],
        [
         6834,
         "Keith Martinez",
         "38",
         "2015-11-17T12:56:37.000+0000"
        ],
        [
         10671,
         "Kristina Dawson",
         "59",
         "2017-08-19T13:07:48.000+0000"
        ],
        [
         3052,
         "Allison Dawson",
         "35",
         "2016-02-04T14:45:39.000+0000"
        ],
        [
         10440,
         "Christian Howell",
         "29",
         "2016-08-20T04:54:42.000+0000"
        ],
        [
         7413,
         "Seth Gardner",
         "55",
         "2016-04-12T09:43:50.000+0000"
        ],
        [
         2226,
         "Lisa Thomas",
         "35",
         "2015-11-25T06:31:01.000+0000"
        ],
        [
         5460,
         "Betty Cannon",
         "40",
         "2015-10-23T18:02:31.000+0000"
        ],
        [
         2001,
         "Jonathan Gordon",
         "24",
         "2015-11-12T08:52:11.000+0000"
        ],
        [
         7537,
         "Jessica Sullivan",
         "25",
         "2016-01-19T18:17:05.000+0000"
        ],
        [
         385,
         "Aaron Abbott",
         "20",
         "2015-10-31T18:51:07.000+0000"
        ],
        [
         2508,
         "Aaron Johnson",
         "59",
         "2016-07-02T04:35:40.000+0000"
        ],
        [
         4565,
         "Julie Johnson",
         "23",
         "2016-02-10T22:37:52.000+0000"
        ],
        [
         4925,
         "Lauren Richardson",
         "32",
         "2017-04-30T14:55:27.000+0000"
        ],
        [
         1729,
         "Amanda Adams",
         "20",
         "2015-10-21T08:27:36.000+0000"
        ],
        [
         7183,
         "Amanda Maldonado",
         "38",
         "2016-11-17T23:45:04.000+0000"
        ],
        [
         7785,
         "Eric Buck",
         "45",
         "2015-10-28T17:36:12.000+0000"
        ],
        [
         4936,
         "Andrew Miller",
         "28",
         "2016-03-12T02:52:38.000+0000"
        ],
        [
         1065,
         "Tammy Wise",
         "27",
         "2016-07-13T08:39:57.000+0000"
        ],
        [
         9223,
         "Andrea Alexander",
         "21",
         "2015-11-10T09:27:42.000+0000"
        ],
        [
         10566,
         "Joshua Carter",
         "23",
         "2016-04-23T05:36:37.000+0000"
        ],
        [
         3688,
         "James Jefferson",
         "22",
         "2016-02-25T23:48:54.000+0000"
        ],
        [
         8277,
         "Jermaine Hensley",
         "32",
         "2016-10-01T05:49:39.000+0000"
        ],
        [
         6878,
         "Angela Allen",
         "20",
         "2015-10-26T04:12:32.000+0000"
        ],
        [
         204,
         "Meghan Larson",
         "56",
         "2017-04-17T06:27:04.000+0000"
        ],
        [
         1322,
         "Alfred Murray",
         "36",
         "2016-03-15T11:19:05.000+0000"
        ],
        [
         1719,
         "Jordan Jenkins",
         "60",
         "2017-08-19T17:07:31.000+0000"
        ],
        [
         4327,
         "Shane Blanchard",
         "38",
         "2017-05-06T09:43:45.000+0000"
        ],
        [
         10721,
         "Garrett Hernandez",
         "53",
         "2017-04-05T13:59:02.000+0000"
        ],
        [
         3561,
         "Abigail Allen",
         "20",
         "2015-11-12T14:40:14.000+0000"
        ],
        [
         6963,
         "Angela Allen",
         "20",
         "2015-10-26T04:12:32.000+0000"
        ],
        [
         6333,
         "Julia Bennett",
         "30",
         "2016-04-21T15:45:11.000+0000"
        ],
        [
         8352,
         "Carl Thompson",
         "24",
         "2015-10-21T03:17:47.000+0000"
        ],
        [
         6645,
         "Amanda Herrera",
         "38",
         "2016-05-01T21:17:08.000+0000"
        ],
        [
         6814,
         "April Blake",
         "21",
         "2015-10-28T03:16:59.000+0000"
        ],
        [
         3542,
         "Kristen Stevenson",
         "24",
         "2016-12-29T04:45:35.000+0000"
        ],
        [
         5523,
         "Joel Obrien",
         "29",
         "2016-09-12T12:33:33.000+0000"
        ],
        [
         9452,
         "Aaron Alexander",
         "21",
         "2015-10-25T07:36:08.000+0000"
        ],
        [
         155,
         "Alexandra Allen",
         "20",
         "2015-10-23T13:07:00.000+0000"
        ],
        [
         4448,
         "Stanley Jones",
         "20",
         "2016-09-05T19:29:24.000+0000"
        ],
        [
         3317,
         "Angela Anderson",
         "20",
         "2015-11-27T04:14:49.000+0000"
        ],
        [
         3285,
         "Aaron Greene",
         "25",
         "2016-01-14T00:10:04.000+0000"
        ],
        [
         8637,
         "Michael Grant",
         "28",
         "2016-09-08T04:09:44.000+0000"
        ],
        [
         6453,
         "Caitlin Bailey",
         "28",
         "2015-10-24T04:11:28.000+0000"
        ],
        [
         737,
         "Christopher Evans",
         "32",
         "2015-11-03T07:55:11.000+0000"
        ],
        [
         4675,
         "Kaitlyn Rodriguez",
         "48",
         "2016-01-02T21:18:48.000+0000"
        ],
        [
         2090,
         "Edward Oliver",
         "21",
         "2016-04-05T00:40:22.000+0000"
        ],
        [
         8407,
         "David Brooks",
         "33",
         "2015-11-14T10:12:03.000+0000"
        ],
        [
         4849,
         "Erica Murphy",
         "35",
         "2015-11-03T05:49:39.000+0000"
        ],
        [
         5978,
         "Rebecca Simmons",
         "60",
         "2016-03-15T14:37:17.000+0000"
        ],
        [
         1701,
         "Brandon Simmons",
         "49",
         "2017-03-31T10:02:35.000+0000"
        ],
        [
         4045,
         "Amanda Allen",
         "21",
         "2015-11-16T23:15:00.000+0000"
        ],
        [
         179,
         "Sarah Salas",
         "26",
         "2016-01-01T10:11:23.000+0000"
        ],
        [
         10026,
         "Ann Holmes",
         "34",
         "2016-04-14T21:47:18.000+0000"
        ],
        [
         8738,
         "Albert Adams",
         "21",
         "2015-11-05T22:07:56.000+0000"
        ],
        [
         6586,
         "Kelly Carter",
         "58",
         "2015-11-30T19:16:40.000+0000"
        ],
        [
         1188,
         "Cesar Miller",
         "38",
         "2015-11-19T03:01:18.000+0000"
        ],
        [
         3843,
         "Ronald Hanson",
         "28",
         "2017-04-16T00:14:21.000+0000"
        ],
        [
         7752,
         "Andrew Brown",
         "25",
         "2016-03-26T04:30:23.000+0000"
        ],
        [
         3983,
         "Ashley Allen",
         "20",
         "2016-01-12T03:41:16.000+0000"
        ],
        [
         7090,
         "Andrea Allen",
         "22",
         "2015-11-13T10:22:18.000+0000"
        ],
        [
         6503,
         "Frank Jackson",
         "33",
         "2016-05-22T06:19:03.000+0000"
        ],
        [
         7206,
         "Christina Anderson",
         "27",
         "2016-03-03T11:25:21.000+0000"
        ],
        [
         8591,
         "Andrea Alexander",
         "21",
         "2015-11-10T09:27:42.000+0000"
        ],
        [
         1745,
         "Anthony Adkins",
         "21",
         "2015-10-28T03:59:42.000+0000"
        ],
        [
         10501,
         "Clarence Brooks",
         "40",
         "2016-04-07T05:11:10.000+0000"
        ],
        [
         8941,
         "Andrew Anderson",
         "23",
         "2015-11-28T11:52:37.000+0000"
        ],
        [
         8705,
         "Jeffrey Gregory",
         "53",
         "2016-02-01T03:06:59.000+0000"
        ],
        [
         9307,
         "Adam Acosta",
         "20",
         "2015-10-21T21:26:45.000+0000"
        ],
        [
         5497,
         "Joseph Barnett",
         "21",
         "2015-11-21T10:00:55.000+0000"
        ],
        [
         101,
         "Adam Acosta",
         "20",
         "2015-10-21T21:26:45.000+0000"
        ],
        [
         5523,
         "Joel Obrien",
         "29",
         "2016-09-12T12:33:33.000+0000"
        ],
        [
         8836,
         "Dalton Daniels",
         "21",
         "2015-11-11T10:19:51.000+0000"
        ],
        [
         533,
         "David Griffith",
         "20",
         "2016-01-07T19:49:22.000+0000"
        ],
        [
         3979,
         "David Manning",
         "50",
         "2016-06-29T03:16:01.000+0000"
        ],
        [
         1821,
         "Amanda Cooper",
         "22",
         "2016-01-19T16:56:23.000+0000"
        ],
        [
         7050,
         "Corey Anderson",
         "28",
         "2015-12-05T21:26:20.000+0000"
        ],
        [
         287,
         "Amanda Alvarez",
         "21",
         "2015-10-30T01:31:09.000+0000"
        ],
        [
         4213,
         "Abigail Allen",
         "20",
         "2015-11-12T14:40:14.000+0000"
        ],
        [
         6705,
         "Adrian Allen",
         "21",
         "2015-10-21T22:43:58.000+0000"
        ],
        [
         5231,
         "Joseph Barnett",
         "21",
         "2015-11-21T10:00:55.000+0000"
        ],
        [
         3182,
         "Becky Brady",
         "21",
         "2015-11-05T20:19:03.000+0000"
        ],
        [
         544,
         "Abigail Carter",
         "21",
         "2015-12-10T01:13:45.000+0000"
        ],
        [
         8813,
         "Aaron Abbott",
         "20",
         "2015-10-23T16:08:41.000+0000"
        ],
        [
         6324,
         "Crystal Santiago",
         "41",
         "2016-09-23T04:00:32.000+0000"
        ],
        [
         3259,
         "Allison Acosta",
         "20",
         "2015-10-24T01:15:02.000+0000"
        ],
        [
         2641,
         "Amber Casey",
         "23",
         "2016-01-06T12:22:08.000+0000"
        ],
        [
         6264,
         "Antonio Aguilar",
         "42",
         "2015-11-16T00:07:37.000+0000"
        ],
        [
         1469,
         "Angela Berg",
         "20",
         "2015-11-10T05:57:33.000+0000"
        ],
        [
         27,
         "Adam Acosta",
         "20",
         "2015-10-21T21:26:45.000+0000"
        ],
        [
         5126,
         "Bradley Long",
         "25",
         "2016-02-18T20:48:04.000+0000"
        ],
        [
         8561,
         "Angela Berg",
         "20",
         "2015-11-10T05:57:33.000+0000"
        ],
        [
         6521,
         "Christian Cruz",
         "26",
         "2015-11-03T06:28:57.000+0000"
        ],
        [
         8255,
         "Peter Huffman",
         "39",
         "2017-03-18T05:26:56.000+0000"
        ],
        [
         9721,
         "Debra Jenkins",
         "50",
         "2016-02-03T06:04:15.000+0000"
        ],
        [
         1626,
         "Jennifer Melton",
         "39",
         "2016-03-02T15:41:23.000+0000"
        ],
        [
         3164,
         "Cynthia Harper",
         "43",
         "2016-01-23T05:44:11.000+0000"
        ],
        [
         2952,
         "Billy Armstrong",
         "22",
         "2015-12-18T20:54:14.000+0000"
        ],
        [
         6813,
         "Abigail Ali",
         "20",
         "2015-10-24T11:23:51.000+0000"
        ],
        [
         867,
         "Herbert Sawyer",
         "45",
         "2016-07-27T15:08:03.000+0000"
        ],
        [
         4500,
         "Angela Brooks",
         "24",
         "2015-11-20T05:37:11.000+0000"
        ],
        [
         7073,
         "Manuel Ashley",
         "55",
         "2017-07-13T23:48:07.000+0000"
        ],
        [
         6374,
         "Brandon Bender",
         "21",
         "2016-02-15T23:12:43.000+0000"
        ],
        [
         10904,
         "Deanna Alexander",
         "29",
         "2016-04-04T18:49:31.000+0000"
        ],
        [
         3717,
         "Alexandria Alvarado",
         "20",
         "2015-10-23T04:13:23.000+0000"
        ],
        [
         10253,
         "Aaron Anderson",
         "21",
         "2015-10-23T03:43:54.000+0000"
        ],
        [
         4983,
         "John Mueller",
         "33",
         "2017-04-28T12:34:25.000+0000"
        ],
        [
         5566,
         "Ashley Anderson",
         "32",
         "2017-07-14T17:59:46.000+0000"
        ],
        [
         4482,
         "Amber Blevins",
         "20",
         "2015-12-13T16:33:13.000+0000"
        ],
        [
         4651,
         "Charles York",
         "20",
         "2016-12-20T21:37:01.000+0000"
        ],
        [
         9567,
         "Daniel Dorsey",
         "26",
         "2016-05-30T04:59:21.000+0000"
        ],
        [
         6633,
         "James Turner",
         "47",
         "2017-10-04T16:16:34.000+0000"
        ],
        [
         10912,
         "Valerie Bryant",
         "42",
         "2016-08-01T22:44:34.000+0000"
        ],
        [
         10500,
         "Brooke Vang",
         "33",
         "2016-12-09T20:16:49.000+0000"
        ],
        [
         6309,
         "Angela Everett",
         "23",
         "2016-02-23T11:59:45.000+0000"
        ],
        [
         10097,
         "Alexandra Austin",
         "22",
         "2015-11-06T05:05:43.000+0000"
        ],
        [
         6671,
         "Jessica Long",
         "47",
         "2017-10-06T04:10:16.000+0000"
        ],
        [
         6849,
         "Jeffrey Jones",
         "54",
         "2016-08-12T04:15:37.000+0000"
        ],
        [
         3359,
         "Abigail Carter",
         "21",
         "2015-12-10T01:13:45.000+0000"
        ],
        [
         3175,
         "David Bell",
         "20",
         "2016-04-15T17:11:11.000+0000"
        ],
        [
         250,
         "Cody Adams",
         "22",
         "2015-10-26T03:29:49.000+0000"
        ],
        [
         5566,
         "Ashley Anderson",
         "32",
         "2017-07-14T17:59:46.000+0000"
        ],
        [
         2715,
         "Adrienne Acosta",
         "21",
         "2015-11-17T14:56:48.000+0000"
        ],
        [
         7648,
         "Louis Patterson",
         "23",
         "2016-05-13T10:51:36.000+0000"
        ],
        [
         4931,
         "Steven Duncan",
         "44",
         "2016-04-25T23:51:06.000+0000"
        ],
        [
         7446,
         "Melissa Weiss",
         "32",
         "2017-09-19T15:10:12.000+0000"
        ],
        [
         10524,
         "Brian Conley",
         "32",
         "2016-06-01T06:25:53.000+0000"
        ],
        [
         2530,
         "Ariel Brown",
         "26",
         "2015-11-24T23:04:52.000+0000"
        ],
        [
         4775,
         "Kyle Perry",
         "29",
         "2016-08-09T19:40:48.000+0000"
        ],
        [
         6770,
         "David Buckley",
         "30",
         "2016-05-29T17:08:36.000+0000"
        ],
        [
         5184,
         "Jacob Chapman",
         "42",
         "2016-05-09T01:25:48.000+0000"
        ],
        [
         1537,
         "Nichole Chapman",
         "27",
         "2017-06-05T09:25:41.000+0000"
        ],
        [
         2090,
         "Edward Oliver",
         "21",
         "2016-04-05T00:40:22.000+0000"
        ],
        [
         1379,
         "Aaron Abbott",
         "20",
         "2015-10-31T18:51:07.000+0000"
        ],
        [
         1301,
         "Lisa Washington",
         "46",
         "2016-08-18T08:22:56.000+0000"
        ],
        [
         660,
         "Amy Atkins",
         "21",
         "2015-10-31T07:37:40.000+0000"
        ],
        [
         3285,
         "Aaron Greene",
         "25",
         "2016-01-14T00:10:04.000+0000"
        ],
        [
         9969,
         "Angela Bailey",
         "21",
         "2015-12-13T04:59:44.000+0000"
        ],
        [
         857,
         "Andrew Burke",
         "20",
         "2015-11-14T17:38:31.000+0000"
        ],
        [
         10659,
         "David Evans",
         "21",
         "2016-03-28T10:54:55.000+0000"
        ],
        [
         8309,
         "Vickie Acevedo",
         "43",
         "2017-04-09T08:19:09.000+0000"
        ],
        [
         9267,
         "Andrea Alexander",
         "21",
         "2015-11-10T09:27:42.000+0000"
        ],
        [
         10204,
         "Heather Gonzalez",
         "41",
         "2016-06-14T11:16:18.000+0000"
        ],
        [
         1963,
         "Andre Carey",
         "28",
         "2015-11-16T13:20:58.000+0000"
        ],
        [
         301,
         "Amanda Alvarez",
         "21",
         "2015-10-30T01:31:09.000+0000"
        ],
        [
         734,
         "Amanda Alvarez",
         "21",
         "2015-10-30T01:31:09.000+0000"
        ],
        [
         5763,
         "Anita Acosta",
         "25",
         "2015-11-01T01:31:22.000+0000"
        ],
        [
         552,
         "Regina Morales",
         "20",
         "2017-01-17T01:49:27.000+0000"
        ],
        [
         1719,
         "Jordan Jenkins",
         "60",
         "2017-08-19T17:07:31.000+0000"
        ],
        [
         8699,
         "Brandi Martin",
         "25",
         "2017-08-24T13:05:36.000+0000"
        ],
        [
         7974,
         "Aaron Anderson",
         "21",
         "2015-10-24T05:35:27.000+0000"
        ],
        [
         5003,
         "Aaron Anderson",
         "21",
         "2015-10-23T03:43:54.000+0000"
        ],
        [
         6680,
         "Sarah Buckley",
         "51",
         "2017-06-08T14:07:12.000+0000"
        ],
        [
         6589,
         "Jeffrey Gross",
         "23",
         "2016-03-04T06:21:39.000+0000"
        ],
        [
         10093,
         "Jamie Andrews",
         "46",
         "2016-10-11T07:57:59.000+0000"
        ],
        [
         5117,
         "Leah Gonzalez",
         "21",
         "2016-08-12T18:53:00.000+0000"
        ],
        [
         7596,
         "Aaron Anderson",
         "21",
         "2015-10-24T05:35:27.000+0000"
        ],
        [
         9402,
         "Andrew Anderson",
         "23",
         "2015-11-28T11:52:37.000+0000"
        ],
        [
         10868,
         "Benjamin Keith",
         "24",
         "2017-02-25T21:08:31.000+0000"
        ],
        [
         709,
         "Adam Acosta",
         "20",
         "2015-10-21T21:26:45.000+0000"
        ],
        [
         8083,
         "Nancy Sanchez",
         "32",
         "2016-05-21T16:43:34.000+0000"
        ],
        [
         7078,
         "Haley Jordan",
         "25",
         "2016-05-31T08:49:03.000+0000"
        ],
        [
         3647,
         "Amanda Allen",
         "21",
         "2015-11-16T23:15:00.000+0000"
        ],
        [
         2216,
         "Morgan Turner",
         "30",
         "2016-01-31T11:52:34.000+0000"
        ],
        [
         10920,
         "Bradley Bennett",
         "21",
         "2015-10-26T18:21:55.000+0000"
        ],
        [
         3480,
         "Amanda Allen",
         "21",
         "2015-11-16T23:15:00.000+0000"
        ],
        [
         462,
         "Albert Allison",
         "20",
         "2015-10-21T22:27:27.000+0000"
        ],
        [
         10179,
         "Alexandra Austin",
         "22",
         "2015-11-06T05:05:43.000+0000"
        ],
        [
         7958,
         "Tommy Murray",
         "37",
         "2015-10-22T18:00:07.000+0000"
        ],
        [
         3556,
         "Alison Bell",
         "21",
         "2016-01-07T08:11:35.000+0000"
        ],
        [
         8159,
         "Bradley Chapman",
         "20",
         "2016-02-11T23:38:24.000+0000"
        ],
        [
         10119,
         "Chelsea Gonzalez",
         "43",
         "2016-07-21T15:25:08.000+0000"
        ],
        [
         5360,
         "Anna Cross",
         "38",
         "2015-11-21T18:19:10.000+0000"
        ],
        [
         8732,
         "Annette Barber",
         "43",
         "2017-09-16T15:37:45.000+0000"
        ],
        [
         3177,
         "Becky Brady",
         "21",
         "2015-11-05T20:19:03.000+0000"
        ],
        [
         3485,
         "Andrew Burke",
         "20",
         "2015-11-14T17:38:31.000+0000"
        ],
        [
         856,
         "Aaron Bartlett",
         "21",
         "2015-11-24T02:15:36.000+0000"
        ],
        [
         8361,
         "Christine Cortez",
         "23",
         "2015-12-01T18:15:02.000+0000"
        ],
        [
         4757,
         "Carrie Chambers",
         "24",
         "2015-12-15T10:04:18.000+0000"
        ],
        [
         2858,
         "Anne Bond",
         "21",
         "2015-12-27T23:43:42.000+0000"
        ],
        [
         8941,
         "Andrew Anderson",
         "23",
         "2015-11-28T11:52:37.000+0000"
        ],
        [
         228,
         "Linda Mccullough",
         "43",
         "2015-10-22T10:04:23.000+0000"
        ],
        [
         4271,
         "Danielle Chambers",
         "21",
         "2015-12-08T00:29:58.000+0000"
        ],
        [
         10936,
         "Frank Howard",
         "56",
         "2017-04-21T18:32:30.000+0000"
        ],
        [
         4889,
         "Andrew Gordon",
         "25",
         "2015-11-17T01:31:08.000+0000"
        ],
        [
         7529,
         "Robert Black",
         "53",
         "2016-05-21T02:14:41.000+0000"
        ],
        [
         1567,
         "David Griffith",
         "20",
         "2016-01-07T19:49:22.000+0000"
        ],
        [
         6018,
         "Angela Everett",
         "23",
         "2016-02-23T11:59:45.000+0000"
        ],
        [
         5463,
         "Barbara Riley",
         "24",
         "2017-08-03T05:18:28.000+0000"
        ],
        [
         9665,
         "Austin Abbott",
         "22",
         "2015-11-07T09:52:29.000+0000"
        ],
        [
         926,
         "Thomas Stone",
         "21",
         "2016-07-18T18:19:31.000+0000"
        ],
        [
         6498,
         "Adrienne Barrett",
         "22",
         "2015-11-04T15:48:14.000+0000"
        ],
        [
         2337,
         "Alex Bean",
         "24",
         "2016-01-11T23:08:27.000+0000"
        ],
        [
         8977,
         "Alicia Brown",
         "23",
         "2016-05-27T08:41:11.000+0000"
        ],
        [
         7500,
         "Angela Chavez",
         "43",
         "2016-03-17T20:37:41.000+0000"
        ],
        [
         5106,
         "Brandon Mueller",
         "28",
         "2017-03-16T15:12:04.000+0000"
        ],
        [
         5561,
         "Amanda Anderson",
         "24",
         "2015-11-11T20:38:26.000+0000"
        ],
        [
         7512,
         "Andrew Bird",
         "20",
         "2016-11-10T21:10:11.000+0000"
        ],
        [
         2206,
         "Catherine Burke",
         "27",
         "2016-04-09T02:08:13.000+0000"
        ],
        [
         6781,
         "Stephen Chan",
         "37",
         "2017-02-26T16:11:58.000+0000"
        ],
        [
         5365,
         "Adam Cole",
         "23",
         "2015-11-15T23:49:12.000+0000"
        ],
        [
         8385,
         "Austin Miller",
         "31",
         "2015-11-25T21:28:12.000+0000"
        ],
        [
         7642,
         "Aaron Abbott",
         "20",
         "2015-10-23T16:08:41.000+0000"
        ],
        [
         9896,
         "Brenda Baker",
         "22",
         "2015-11-24T12:08:06.000+0000"
        ],
        [
         8007,
         "Alexander Briggs",
         "31",
         "2016-06-30T04:37:04.000+0000"
        ],
        [
         4361,
         "David Hardin",
         "23",
         "2016-12-05T19:08:39.000+0000"
        ],
        [
         1811,
         "Jasmine Buck",
         "27",
         "2015-12-24T10:01:06.000+0000"
        ],
        [
         8204,
         "David Davis",
         "38",
         "2016-11-20T06:55:49.000+0000"
        ],
        [
         8509,
         "Amber Chen",
         "22",
         "2015-12-30T05:21:14.000+0000"
        ],
        [
         7031,
         "Christopher Anderson",
         "48",
         "2016-06-13T17:09:14.000+0000"
        ],
        [
         7283,
         "Abigail Ali",
         "20",
         "2015-10-24T11:23:51.000+0000"
        ],
        [
         310,
         "Amanda Benitez",
         "21",
         "2015-11-01T09:16:18.000+0000"
        ],
        [
         9700,
         "Isabel Rogers",
         "30",
         "2016-10-24T17:36:15.000+0000"
        ],
        [
         3803,
         "Alison Cole",
         "21",
         "2015-11-05T13:39:57.000+0000"
        ],
        [
         3630,
         "Michael Mckay",
         "44",
         "2015-10-24T12:52:57.000+0000"
        ],
        [
         1205,
         "Andrew Estrada",
         "25",
         "2015-11-15T13:36:03.000+0000"
        ],
        [
         8944,
         "Aaron Lam",
         "33",
         "2017-04-15T12:15:53.000+0000"
        ],
        [
         10319,
         "Alexis Taylor",
         "40",
         "2016-07-24T11:25:01.000+0000"
        ],
        [
         283,
         "Amanda Alvarez",
         "21",
         "2015-10-30T01:31:09.000+0000"
        ],
        [
         10932,
         "Jacqueline King",
         "36",
         "2015-11-26T03:34:44.000+0000"
        ],
        [
         2430,
         "Amy Adams",
         "20",
         "2015-10-24T05:05:28.000+0000"
        ],
        [
         9941,
         "Caitlyn Baker",
         "22",
         "2015-11-11T17:56:54.000+0000"
        ],
        [
         8323,
         "Abigail Ali",
         "20",
         "2015-10-24T11:23:51.000+0000"
        ],
        [
         6636,
         "Christopher Green",
         "34",
         "2016-09-17T04:22:25.000+0000"
        ],
        [
         1473,
         "Kathleen Lawson",
         "41",
         "2017-02-11T19:17:19.000+0000"
        ],
        [
         5692,
         "Adam Bennett",
         "22",
         "2016-02-08T21:50:41.000+0000"
        ],
        [
         4050,
         "Adam Armstrong",
         "20",
         "2015-12-17T08:43:40.000+0000"
        ],
        [
         6806,
         "Christopher Daniel",
         "25",
         "2016-04-15T17:06:49.000+0000"
        ],
        [
         7487,
         "Adrian Marshall",
         "35",
         "2017-05-29T13:35:25.000+0000"
        ],
        [
         867,
         "Herbert Sawyer",
         "45",
         "2016-07-27T15:08:03.000+0000"
        ],
        [
         3239,
         "Eric Anderson",
         "33",
         "2016-08-07T08:38:33.000+0000"
        ],
        [
         2267,
         "Andrea Blankenship",
         "27",
         "2016-04-11T21:27:52.000+0000"
        ],
        [
         4348,
         "Barbara Allen",
         "26",
         "2015-10-30T21:57:35.000+0000"
        ],
        [
         2304,
         "Abigail Burch",
         "29",
         "2016-03-17T11:34:05.000+0000"
        ],
        [
         5297,
         "Carrie Hurley",
         "42",
         "2016-11-05T11:17:22.000+0000"
        ],
        [
         9173,
         "Gary Collins",
         "25",
         "2016-07-07T18:59:52.000+0000"
        ],
        [
         4381,
         "Jennifer Kelly",
         "21",
         "2016-02-14T12:45:08.000+0000"
        ],
        [
         4353,
         "Brett Oliver",
         "24",
         "2015-12-26T21:27:59.000+0000"
        ],
        [
         2639,
         "Angela Andrews",
         "20",
         "2015-10-28T21:44:56.000+0000"
        ],
        [
         5911,
         "Anna Adams",
         "21",
         "2015-11-27T08:22:20.000+0000"
        ],
        [
         2140,
         "Heather Adams",
         "21",
         "2015-12-30T17:47:03.000+0000"
        ],
        [
         3774,
         "Jacqueline Ross",
         "49",
         "2015-12-10T11:03:45.000+0000"
        ],
        [
         9995,
         "Elaine Contreras",
         "29",
         "2017-10-07T02:13:59.000+0000"
        ],
        [
         1967,
         "Jay Flynn",
         "24",
         "2016-05-12T16:28:27.000+0000"
        ],
        [
         3175,
         "David Bell",
         "20",
         "2016-04-15T17:11:11.000+0000"
        ],
        [
         6359,
         "Wendy Benjamin",
         "55",
         "2016-04-01T22:44:15.000+0000"
        ],
        [
         10570,
         "David Evans",
         "21",
         "2016-03-28T10:54:55.000+0000"
        ],
        [
         2532,
         "Danielle Hernandez",
         "24",
         "2016-03-24T23:39:08.000+0000"
        ],
        [
         791,
         "Collin Chen",
         "26",
         "2016-06-01T06:11:16.000+0000"
        ],
        [
         6937,
         "Amanda Brewer",
         "31",
         "2016-04-05T12:30:56.000+0000"
        ],
        [
         8212,
         "Benjamin Adams",
         "24",
         "2015-10-25T03:23:53.000+0000"
        ],
        [
         4574,
         "Barbara Allen",
         "26",
         "2015-10-30T21:57:35.000+0000"
        ],
        [
         3428,
         "Abigail Ali",
         "20",
         "2015-10-24T11:23:51.000+0000"
        ],
        [
         3911,
         "Erin Armstrong",
         "32",
         "2016-01-19T16:19:41.000+0000"
        ],
        [
         8452,
         "Aaron Anderson",
         "21",
         "2015-10-24T05:35:27.000+0000"
        ],
        [
         6797,
         "Janet Shaw",
         "27",
         "2016-11-02T03:54:55.000+0000"
        ],
        [
         8946,
         "Patty Chang",
         "42",
         "2016-07-17T16:11:13.000+0000"
        ],
        [
         4220,
         "Kevin Davis",
         "32",
         "2015-12-01T14:33:10.000+0000"
        ],
        [
         7258,
         "Michael Snyder",
         "44",
         "2017-07-05T17:32:12.000+0000"
        ],
        [
         9433,
         "Charles Bowen",
         "28",
         "2016-04-09T00:36:10.000+0000"
        ],
        [
         9539,
         "Daniel Dorsey",
         "26",
         "2016-05-30T04:59:21.000+0000"
        ],
        [
         9766,
         "Alex Barnes",
         "20",
         "2016-02-27T21:13:44.000+0000"
        ],
        [
         4497,
         "Ashley Gentry",
         "20",
         "2015-11-12T00:58:51.000+0000"
        ],
        [
         9496,
         "Maxwell James",
         "52",
         "2016-07-12T11:24:37.000+0000"
        ],
        [
         4634,
         "Alexandra Burns",
         "29",
         "2015-12-31T18:00:25.000+0000"
        ],
        [
         63,
         "Adam Acosta",
         "20",
         "2015-10-21T21:26:45.000+0000"
        ],
        [
         3977,
         "Abigail Allen",
         "20",
         "2015-11-12T14:40:14.000+0000"
        ],
        [
         4420,
         "Abigail Barry",
         "21",
         "2015-12-03T10:40:24.000+0000"
        ],
        [
         4157,
         "Bernard Davis",
         "30",
         "2015-12-16T01:03:02.000+0000"
        ],
        [
         5322,
         "Angela Griffin",
         "55",
         "2016-10-22T19:06:59.000+0000"
        ],
        [
         5526,
         "Arthur Hernandez",
         "42",
         "2015-11-01T14:19:20.000+0000"
        ],
        [
         8146,
         "Brandon Berg",
         "52",
         "2016-11-03T14:42:54.000+0000"
        ],
        [
         9539,
         "Daniel Dorsey",
         "26",
         "2016-05-30T04:59:21.000+0000"
        ],
        [
         1550,
         "Julie Branch",
         "46",
         "2017-06-04T06:45:13.000+0000"
        ],
        [
         372,
         "Alicia Avila",
         "20",
         "2016-01-26T01:49:23.000+0000"
        ],
        [
         3475,
         "Alexandria Alvarado",
         "20",
         "2015-10-23T04:13:23.000+0000"
        ],
        [
         9072,
         "Anthony Mason",
         "34",
         "2015-11-04T06:24:08.000+0000"
        ],
        [
         2928,
         "Caitlin Smith",
         "52",
         "2016-02-14T10:15:47.000+0000"
        ],
        [
         2908,
         "Albert Calderon",
         "21",
         "2015-11-01T08:04:39.000+0000"
        ],
        [
         8164,
         "Dustin Turner",
         "30",
         "2016-05-11T07:28:15.000+0000"
        ],
        [
         3320,
         "Charles Braun",
         "22",
         "2015-12-19T11:12:21.000+0000"
        ],
        [
         497,
         "Adam Acosta",
         "20",
         "2015-10-21T21:26:45.000+0000"
        ],
        [
         6936,
         "Alan Newman",
         "37",
         "2016-06-22T01:47:16.000+0000"
        ],
        [
         7790,
         "Michelle Gutierrez",
         "39",
         "2017-07-19T07:12:04.000+0000"
        ],
        [
         3747,
         "Todd Ross",
         "29",
         "2017-04-14T19:58:13.000+0000"
        ],
        [
         6521,
         "Christian Cruz",
         "26",
         "2015-11-03T06:28:57.000+0000"
        ],
        [
         10078,
         "Laura Jefferson",
         "20",
         "2016-02-14T15:45:12.000+0000"
        ],
        [
         7645,
         "Benjamin Adams",
         "24",
         "2015-10-25T03:23:53.000+0000"
        ],
        [
         10329,
         "Holly Kent",
         "30",
         "2017-02-25T19:24:53.000+0000"
        ],
        [
         7914,
         "Bradley Hernandez",
         "50",
         "2016-07-23T22:52:16.000+0000"
        ],
        [
         3992,
         "Michael Taylor",
         "29",
         "2016-06-07T15:09:15.000+0000"
        ],
        [
         6188,
         "Barry Hunt",
         "28",
         "2017-01-07T04:44:38.000+0000"
        ],
        [
         8887,
         "Austin Rodriguez",
         "24",
         "2016-03-31T20:56:39.000+0000"
        ],
        [
         3281,
         "Grant George",
         "27",
         "2015-11-11T01:45:05.000+0000"
        ],
        [
         5457,
         "Alexis Bell",
         "20",
         "2015-11-23T06:34:47.000+0000"
        ],
        [
         3287,
         "Andrew Burke",
         "20",
         "2015-11-14T17:38:31.000+0000"
        ],
        [
         9117,
         "Amanda Adams",
         "20",
         "2015-10-21T08:27:36.000+0000"
        ],
        [
         7182,
         "Christine Leon",
         "36",
         "2017-06-21T11:07:33.000+0000"
        ],
        [
         117,
         "Alexandra Mendoza",
         "51",
         "2016-03-23T19:05:18.000+0000"
        ],
        [
         2732,
         "Becky Brady",
         "21",
         "2015-11-05T20:19:03.000+0000"
        ],
        [
         4724,
         "Chad Burns",
         "34",
         "2016-02-08T06:32:33.000+0000"
        ],
        [
         8477,
         "Ryan Adams",
         "58",
         "2016-07-11T22:23:30.000+0000"
        ],
        [
         809,
         "Andrew Winters",
         "20",
         "2016-04-17T14:14:11.000+0000"
        ],
        [
         7683,
         "Benjamin Adams",
         "24",
         "2015-10-25T03:23:53.000+0000"
        ],
        [
         9333,
         "Andrew Anderson",
         "23",
         "2015-11-28T11:52:37.000+0000"
        ],
        [
         1735,
         "Alice Bennett",
         "28",
         "2016-05-03T03:50:42.000+0000"
        ],
        [
         1919,
         "Amanda Brown",
         "25",
         "2016-07-03T05:41:35.000+0000"
        ],
        [
         2633,
         "Abigail Burch",
         "29",
         "2016-03-17T11:34:05.000+0000"
        ],
        [
         8552,
         "Aaron Abbott",
         "20",
         "2015-10-23T16:08:41.000+0000"
        ],
        [
         2529,
         "Nicole Mcintosh",
         "29",
         "2016-03-07T21:15:54.000+0000"
        ],
        [
         3723,
         "Antonio Davis",
         "21",
         "2015-12-05T06:09:18.000+0000"
        ],
        [
         4224,
         "Alison Cole",
         "21",
         "2015-11-05T13:39:57.000+0000"
        ],
        [
         8808,
         "Albert Adams",
         "21",
         "2015-11-05T22:07:56.000+0000"
        ],
        [
         443,
         "Carla Atkins",
         "49",
         "2016-05-08T20:29:33.000+0000"
        ],
        [
         9582,
         "Christopher Hawkins",
         "45",
         "2016-09-15T06:02:53.000+0000"
        ],
        [
         414,
         "Aaron Bartlett",
         "21",
         "2015-11-24T02:15:36.000+0000"
        ],
        [
         9020,
         "Natalie Davis",
         "22",
         "2016-02-06T07:52:27.000+0000"
        ],
        [
         3937,
         "Caroline Carlson",
         "31",
         "2015-10-22T08:40:35.000+0000"
        ],
        [
         5083,
         "Sharon Woodward",
         "44",
         "2017-04-25T23:49:22.000+0000"
        ],
        [
         3683,
         "David Anderson",
         "21",
         "2016-02-08T10:08:32.000+0000"
        ],
        [
         2861,
         "Elizabeth Terry",
         "28",
         "2016-01-29T20:32:05.000+0000"
        ],
        [
         2237,
         "Ashley Gentry",
         "20",
         "2015-11-12T00:58:51.000+0000"
        ],
        [
         10675,
         "Christopher Combs",
         "42",
         "2016-02-08T16:47:33.000+0000"
        ],
        [
         9106,
         "Jeremy Hebert",
         "47",
         "2017-09-18T13:53:40.000+0000"
        ],
        [
         10158,
         "Brendan Joseph",
         "26",
         "2015-12-20T10:28:00.000+0000"
        ],
        [
         10505,
         "Erik Mann",
         "25",
         "2016-03-01T10:17:28.000+0000"
        ],
        [
         10711,
         "David Evans",
         "21",
         "2016-03-28T10:54:55.000+0000"
        ],
        [
         5283,
         "George Allen",
         "53",
         "2016-02-15T13:30:18.000+0000"
        ],
        [
         10582,
         "Jessica Cline",
         "39",
         "2017-07-12T12:51:57.000+0000"
        ],
        [
         5570,
         "Joann Anderson",
         "33",
         "2016-02-15T02:19:16.000+0000"
        ],
        [
         1969,
         "Christopher Haynes",
         "25",
         "2016-02-14T23:08:47.000+0000"
        ],
        [
         10278,
         "Christopher Fox",
         "44",
         "2016-10-26T03:56:51.000+0000"
        ],
        [
         2316,
         "Nicole Mitchell",
         "47",
         "2017-09-01T01:16:25.000+0000"
        ],
        [
         3757,
         "Corey Andrews",
         "23",
         "2015-11-25T13:36:22.000+0000"
        ],
        [
         7886,
         "Aaron Abbott",
         "20",
         "2015-10-23T16:08:41.000+0000"
        ],
        [
         4036,
         "Jennifer Pitts",
         "43",
         "2016-01-30T21:28:23.000+0000"
        ],
        [
         4159,
         "Darryl Alexander",
         "25",
         "2015-12-02T11:20:58.000+0000"
        ],
        [
         10444,
         "Cody Cochran",
         "24",
         "2015-11-28T02:20:00.000+0000"
        ],
        [
         7260,
         "Angel Brown",
         "28",
         "2016-02-19T11:07:31.000+0000"
        ],
        [
         6675,
         "Ryan Long",
         "50",
         "2017-10-12T11:47:53.000+0000"
        ],
        [
         612,
         "Candice Carr",
         "28",
         "2016-09-20T21:03:30.000+0000"
        ],
        [
         601,
         "Amanda Alvarez",
         "21",
         "2015-10-30T01:31:09.000+0000"
        ],
        [
         2756,
         "Christopher Brown",
         "21",
         "2016-05-23T23:48:56.000+0000"
        ],
        [
         6122,
         "Andrew Duncan",
         "30",
         "2016-01-08T05:22:50.000+0000"
        ],
        [
         891,
         "Sandra Allen",
         "60",
         "2016-12-16T14:41:24.000+0000"
        ],
        [
         2665,
         "Amber Casey",
         "23",
         "2016-01-06T12:22:08.000+0000"
        ],
        [
         9602,
         "Alice Nicholson",
         "46",
         "2016-11-22T02:52:41.000+0000"
        ],
        [
         8501,
         "April Barr",
         "26",
         "2016-02-06T19:00:11.000+0000"
        ],
        [
         1757,
         "Andrew Alvarez",
         "21",
         "2015-11-10T12:55:13.000+0000"
        ],
        [
         4164,
         "Paul Johnson",
         "27",
         "2015-12-25T02:56:59.000+0000"
        ],
        [
         10068,
         "Kevin Marquez",
         "47",
         "2016-03-08T02:26:43.000+0000"
        ],
        [
         884,
         "Daniel Valentine",
         "46",
         "2017-01-17T18:12:39.000+0000"
        ],
        [
         4463,
         "Allison Adams",
         "22",
         "2015-11-30T10:51:59.000+0000"
        ],
        [
         5357,
         "Casey Perry",
         "55",
         "2017-05-05T03:44:58.000+0000"
        ],
        [
         2183,
         "Courtney Barton",
         "20",
         "2017-05-02T10:41:29.000+0000"
        ],
        [
         6041,
         "Heather Arellano",
         "23",
         "2016-01-02T03:36:30.000+0000"
        ],
        [
         5252,
         "Ann Acevedo",
         "22",
         "2016-01-26T15:27:05.000+0000"
        ]
       ],
       "datasetInfos": [],
       "dbfsResultPath": null,
       "isJsonSchema": true,
       "metadata": {},
       "overflow": true,
       "plotOptions": {
        "customPlotOptions": {},
        "displayType": "table",
        "pivotAggregation": null,
        "pivotColumns": null,
        "xColumns": null,
        "yColumns": null
       },
       "removedWidgets": [],
       "schema": [
        {
         "metadata": "{}",
         "name": "ind",
         "type": "\"integer\""
        },
        {
         "metadata": "{}",
         "name": "user_name",
         "type": "\"string\""
        },
        {
         "metadata": "{}",
         "name": "age",
         "type": "\"string\""
        },
        {
         "metadata": "{}",
         "name": "date_joined",
         "type": "\"timestamp\""
        }
       ],
       "type": "table"
      }
     },
     "output_type": "display_data"
    }
   ],
   "source": [
    "display(df_pin)\n",
    "display(df_geo)\n",
    "display(df_user)"
   ]
  },
  {
   "cell_type": "code",
   "execution_count": 0,
   "metadata": {
    "application/vnd.databricks.v1+cell": {
     "cellMetadata": {
      "byteLimit": 2048000,
      "rowLimit": 10000
     },
     "inputWidgets": {},
     "nuid": "788011bb-cae3-4dbe-87b6-796b724e1368",
     "showTitle": false,
     "title": ""
    }
   },
   "outputs": [
    {
     "output_type": "display_data",
     "data": {
      "text/html": [
       "<style scoped>\n",
       "  .ansiout {\n",
       "    display: block;\n",
       "    unicode-bidi: embed;\n",
       "    white-space: pre-wrap;\n",
       "    word-wrap: break-word;\n",
       "    word-break: break-all;\n",
       "    font-family: \"Menlo\", \"Monaco\", \"Consolas\", \"Ubuntu Mono\", \"Source Code Pro\", monospace;\n",
       "    font-size: 13px;\n",
       "    color: #555;\n",
       "    margin-left: 4px;\n",
       "    line-height: 19px;\n",
       "  }\n",
       "</style>\n",
       "<div class=\"ansiout\">Out[40]: &lt;pyspark.sql.streaming.StreamingQuery at 0x7f20aaed5c10&gt;</div>"
      ]
     },
     "metadata": {
      "application/vnd.databricks.v1+output": {
       "addedWidgets": {},
       "arguments": {},
       "data": "<div class=\"ansiout\">Out[40]: &lt;pyspark.sql.streaming.StreamingQuery at 0x7f20aaed5c10&gt;</div>",
       "datasetInfos": [],
       "metadata": {},
       "removedWidgets": [],
       "type": "html"
      }
     },
     "output_type": "display_data"
    }
   ],
   "source": [
    "df_pin.writeStream \\\n",
    ".format(\"delta\") \\\n",
    ".outputMode(\"append\") \\\n",
    ".option(\"checkpointLocation\", f\"/tmp/kinesis/0e35b2767ae1_pin_table_checkpoints/\") \\\n",
    ".table(f\"0e35b2767ae1_pin_table\")"
   ]
  },
  {
   "cell_type": "code",
   "execution_count": 0,
   "metadata": {
    "application/vnd.databricks.v1+cell": {
     "cellMetadata": {
      "byteLimit": 2048000,
      "rowLimit": 10000
     },
     "inputWidgets": {},
     "nuid": "b5f7a676-b56e-48d9-a4ce-b2d5cc5986b1",
     "showTitle": false,
     "title": ""
    }
   },
   "outputs": [
    {
     "output_type": "display_data",
     "data": {
      "text/html": [
       "<style scoped>\n",
       "  .ansiout {\n",
       "    display: block;\n",
       "    unicode-bidi: embed;\n",
       "    white-space: pre-wrap;\n",
       "    word-wrap: break-word;\n",
       "    word-break: break-all;\n",
       "    font-family: \"Menlo\", \"Monaco\", \"Consolas\", \"Ubuntu Mono\", \"Source Code Pro\", monospace;\n",
       "    font-size: 13px;\n",
       "    color: #555;\n",
       "    margin-left: 4px;\n",
       "    line-height: 19px;\n",
       "  }\n",
       "</style>\n",
       "<div class=\"ansiout\">Out[41]: &lt;pyspark.sql.streaming.StreamingQuery at 0x7f20ab969280&gt;</div>"
      ]
     },
     "metadata": {
      "application/vnd.databricks.v1+output": {
       "addedWidgets": {},
       "arguments": {},
       "data": "<div class=\"ansiout\">Out[41]: &lt;pyspark.sql.streaming.StreamingQuery at 0x7f20ab969280&gt;</div>",
       "datasetInfos": [],
       "metadata": {},
       "removedWidgets": [],
       "type": "html"
      }
     },
     "output_type": "display_data"
    }
   ],
   "source": [
    "df_geo.writeStream \\\n",
    ".format(\"delta\") \\\n",
    ".outputMode(\"append\") \\\n",
    ".option(\"checkpointLocation\", f\"/tmp/kinesis/0e35b2767ae1_geo_table_checkpoints/\") \\\n",
    ".table(f\"0e35b2767ae1_geo_table\")"
   ]
  },
  {
   "cell_type": "code",
   "execution_count": 0,
   "metadata": {
    "application/vnd.databricks.v1+cell": {
     "cellMetadata": {
      "byteLimit": 2048000,
      "rowLimit": 10000
     },
     "inputWidgets": {},
     "nuid": "f2ae950c-6ec0-4bc1-9567-0751d6d9ec16",
     "showTitle": false,
     "title": ""
    }
   },
   "outputs": [
    {
     "output_type": "display_data",
     "data": {
      "text/html": [
       "<style scoped>\n",
       "  .ansiout {\n",
       "    display: block;\n",
       "    unicode-bidi: embed;\n",
       "    white-space: pre-wrap;\n",
       "    word-wrap: break-word;\n",
       "    word-break: break-all;\n",
       "    font-family: \"Menlo\", \"Monaco\", \"Consolas\", \"Ubuntu Mono\", \"Source Code Pro\", monospace;\n",
       "    font-size: 13px;\n",
       "    color: #555;\n",
       "    margin-left: 4px;\n",
       "    line-height: 19px;\n",
       "  }\n",
       "</style>\n",
       "<div class=\"ansiout\">Out[42]: &lt;pyspark.sql.streaming.StreamingQuery at 0x7f20ab203b50&gt;</div>"
      ]
     },
     "metadata": {
      "application/vnd.databricks.v1+output": {
       "addedWidgets": {},
       "arguments": {},
       "data": "<div class=\"ansiout\">Out[42]: &lt;pyspark.sql.streaming.StreamingQuery at 0x7f20ab203b50&gt;</div>",
       "datasetInfos": [],
       "metadata": {},
       "removedWidgets": [],
       "type": "html"
      }
     },
     "output_type": "display_data"
    }
   ],
   "source": [
    "df_user.writeStream.format(\"delta\").outputMode(\"append\").option(\"checkpointLocation\", f\"/tmp/kinesis/0e35b2767ae1_user_table_checkpoints/\").table(f\"0e35b2767ae1_user_table\")"
   ]
  }
 ],
 "metadata": {
  "application/vnd.databricks.v1+notebook": {
   "dashboards": [],
   "language": "python",
   "notebookMetadata": {
    "pythonIndentUnit": 4
   },
   "notebookName": "Kinesis_streaming_data_processing",
   "widgets": {}
  }
 },
 "nbformat": 4,
 "nbformat_minor": 0
}
